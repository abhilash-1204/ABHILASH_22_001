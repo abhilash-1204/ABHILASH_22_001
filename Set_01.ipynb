{
  "nbformat": 4,
  "nbformat_minor": 0,
  "metadata": {
    "colab": {
      "provenance": [],
      "authorship_tag": "ABX9TyPJs1VdfcIujG+X03tfLcQA",
      "include_colab_link": true
    },
    "kernelspec": {
      "name": "python3",
      "display_name": "Python 3"
    },
    "language_info": {
      "name": "python"
    }
  },
  "cells": [
    {
      "cell_type": "markdown",
      "metadata": {
        "id": "view-in-github",
        "colab_type": "text"
      },
      "source": [
        "<a href=\"https://colab.research.google.com/github/abhilash-1204/ABHILASH_22_001/blob/main/Set_01.ipynb\" target=\"_parent\"><img src=\"https://colab.research.google.com/assets/colab-badge.svg\" alt=\"Open In Colab\"/></a>"
      ]
    },
    {
      "cell_type": "code",
      "execution_count": null,
      "metadata": {
        "colab": {
          "base_uri": "https://localhost:8080/"
        },
        "id": "Xa-XR2z7ppbJ",
        "outputId": "08e99d8e-1b3c-4fdd-d2fa-281de32b62bf"
      },
      "outputs": [
        {
          "output_type": "stream",
          "name": "stdout",
          "text": [
            "Enter b=5\n",
            "Enter h=6\n",
            "AREA OF TRIANGLE= 15.0\n",
            "Enter a=8\n",
            "Enter b=7\n",
            "Enter c=2\n",
            "PERIMETER OF TRIANGLE= 112\n"
          ]
        }
      ],
      "source": [
        "#1(i) To find area and perimeter\n",
        "# TRIANGLE AREA=1/2*b*h\n",
        "b=int(input('Enter b='))\n",
        "h=int(input('Enter h='))\n",
        "area=0.5*b*h\n",
        "print('AREA OF TRIANGLE=',area)\n",
        "# TRIANGLE PERIMETER= a + b + c\n",
        "a=int(input('Enter a='))\n",
        "b=int(input('Enter b='))\n",
        "c=int(input('Enter c='))\n",
        "perimeter=a*b*c\n",
        "print('PERIMETER OF TRIANGLE=',perimeter)"
      ]
    },
    {
      "cell_type": "code",
      "source": [
        "#(ii) To find area and perimeter\n",
        "# RECTANGLE AREA=l*b\n",
        "# RECTANGLE PERIMETER=2(l+b)\n",
        "l=int(input('Enter l='))\n",
        "b=int(input('Enter b='))\n",
        "area=l*b\n",
        "print('AREA OF RECTANGLE=',area)\n",
        "perimeter=2*(l+b)\n",
        "print('PERIMETER OF RECTANGLE=',perimeter)"
      ],
      "metadata": {
        "colab": {
          "base_uri": "https://localhost:8080/"
        },
        "id": "-tetkhsOxW5g",
        "outputId": "77fa63fb-4eda-48a5-e38a-53b934b43b42"
      },
      "execution_count": null,
      "outputs": [
        {
          "output_type": "stream",
          "name": "stdout",
          "text": [
            "Enter l=2\n",
            "Enter b=5\n",
            "AREA OF RECTANGLE= 10\n",
            "PERIMETER OF RECTANGLE= 14\n"
          ]
        }
      ]
    },
    {
      "cell_type": "code",
      "source": [
        "#(iii) To find area and perimeter\n",
        "# SQUARE AREA=s*s\n",
        "#  SQUARE PERIMETER=4*s\n",
        "s=int(input('Enter s='))\n",
        "area=s*s\n",
        "print('area of square=',area)\n",
        "perimeter=4*s\n",
        "print('perimeter of square=',perimeter)"
      ],
      "metadata": {
        "colab": {
          "base_uri": "https://localhost:8080/"
        },
        "id": "G8fjIXvgyzFV",
        "outputId": "0f4eba4f-cfd9-4893-9acc-059961a9abc7"
      },
      "execution_count": null,
      "outputs": [
        {
          "output_type": "stream",
          "name": "stdout",
          "text": [
            "Enter s=5\n",
            "area of square= 25\n",
            "perimeter of square= 20\n"
          ]
        }
      ]
    },
    {
      "cell_type": "code",
      "source": [
        "#(iv) To find area and perimeter\n",
        "# CIRCLE AREA=3.14*r**2\n",
        "# CIRCLE PERIMETER=3.14*r*2\n",
        "r=int(input('Enter r='))\n",
        "area=3.14*r**2\n",
        "print('area of circle=',area)\n",
        "perimeter=2*3.14*r\n",
        "print('perimeter of circle=',perimeter)"
      ],
      "metadata": {
        "colab": {
          "base_uri": "https://localhost:8080/"
        },
        "id": "KhNSy4g5z9zb",
        "outputId": "28cf3ff5-0508-42b9-9ea5-daf2d9c4a819"
      },
      "execution_count": null,
      "outputs": [
        {
          "output_type": "stream",
          "name": "stdout",
          "text": [
            "Enter r=6\n",
            "area of circle= 113.04\n",
            "perimeter of circle= 37.68\n"
          ]
        }
      ]
    },
    {
      "cell_type": "code",
      "source": [
        "#(v) To find area and perimeter\n",
        "# ELLIPSE AREA=3.14*b\n",
        "# ELLIPSE PERIMETER=3.14*(a+b)\n",
        "a=int(input('Enter a='))\n",
        "b=int(input('Enter b='))\n",
        "area=3.14*b\n",
        "print('AREA OF ELLIPSE=',area)\n",
        "perimeter=3.14*(a+b)\n",
        "print('PERIMETER OF ELLIPSE=',perimeter)"
      ],
      "metadata": {
        "colab": {
          "base_uri": "https://localhost:8080/"
        },
        "id": "dcjIFsOz1RPN",
        "outputId": "5ed49e41-d5ea-431a-8dda-fcd45ad13422"
      },
      "execution_count": null,
      "outputs": [
        {
          "output_type": "stream",
          "name": "stdout",
          "text": [
            "Enter a=10\n",
            "Enter b=23\n",
            "AREA OF ELLIPSE= 72.22\n",
            "PERIMETER OF ELLIPSE= 103.62\n"
          ]
        }
      ]
    },
    {
      "cell_type": "code",
      "source": [
        "#(vi) To find area and perimeter\n",
        "# PARALLELOGRAM AREA=h*b\n",
        "# PARALLELOGRAM PERIMETER=2*(a+b)\n",
        "a=int(input('Enter a='))\n",
        "b=int(input('Enter b='))\n",
        "h=int(input('Enter h='))\n",
        "area=h*b\n",
        "print('AREA OF PARALLELOGRAM=',area)\n",
        "perimeter=2*(a+b)\n",
        "print('PERIMETER OF PARALLELOGRAM=',perimeter)"
      ],
      "metadata": {
        "colab": {
          "base_uri": "https://localhost:8080/"
        },
        "id": "6DvvgYPU2QIT",
        "outputId": "2eeda692-26e2-4bd6-e211-6cc551c1b98d"
      },
      "execution_count": null,
      "outputs": [
        {
          "output_type": "stream",
          "name": "stdout",
          "text": [
            "Enter a=5\n",
            "Enter b=8\n",
            "Enter h=3\n",
            "AREA OF PARALLELOGRAM= 24\n",
            "PERIMETER OF PARALLELOGRAM= 26\n"
          ]
        }
      ]
    },
    {
      "cell_type": "code",
      "source": [
        "#(vii) To find area and perimeter\n",
        "# RHOMBUS AREA=0.5*d1*d2\n",
        "# RHOMBUS PERIMETER=4*a\n",
        "a=int(input('Enter a='))\n",
        "d1=int(input('Enter d1='))\n",
        "d2=int(input('Enter d2='))\n",
        "area=0.5*d1*d2\n",
        "print('AREA OF RHOMBUS=',area)\n",
        "perimeter=4*a\n",
        "print('PERIMETER OF RHOMBUS=',perimeter)"
      ],
      "metadata": {
        "colab": {
          "base_uri": "https://localhost:8080/"
        },
        "id": "o0j1v2Z824-2",
        "outputId": "bf46542b-46a0-4a71-fc49-383d8ef9b28b"
      },
      "execution_count": null,
      "outputs": [
        {
          "output_type": "stream",
          "name": "stdout",
          "text": [
            "Enter a=12\n",
            "Enter d1=10\n",
            "Enter d2=25\n",
            "AREA OF RHOMBUS= 125.0\n",
            "PERIMETER OF RHOMBUS= 48\n"
          ]
        }
      ]
    },
    {
      "cell_type": "code",
      "source": [
        "#(viii) To find area and perimeter\n",
        "# TRAPEZIUM AREA=0.5*(b+a)*h\n",
        "# TRAPEZIUM PERIMETER=a+b+h\n",
        "a=int(input('Enter a='))\n",
        "b=int(input('Enter b='))\n",
        "h=int(input('Enter h='))\n",
        "area=0.5*(a+b)*h\n",
        "print('AREA OF TRAPEZIUM=',area)\n",
        "perimeter=a+b+h\n",
        "print('PERIMETER OF TRAPEZIUM=',perimeter)"
      ],
      "metadata": {
        "colab": {
          "base_uri": "https://localhost:8080/"
        },
        "id": "6jnQuCtk3g0K",
        "outputId": "5b305d45-f63a-43d7-ef65-724287c5bb1c"
      },
      "execution_count": null,
      "outputs": [
        {
          "output_type": "stream",
          "name": "stdout",
          "text": [
            "Enter a=4\n",
            "Enter b=7\n",
            "Enter h=9\n",
            "AREA OF TRAPEZIUM= 49.5\n",
            "PERIMETER OF TRAPEZIUM= 20\n"
          ]
        }
      ]
    },
    {
      "cell_type": "code",
      "source": [
        "#2(i) To find volume and surface area\n",
        "# CUBE SURFACE AREA=6*s**2\n",
        "# CUBE VOLUME=s**3\n",
        "s=int(input('Enter s='))\n",
        "volume=s**3\n",
        "print('volume of cube=',volume)\n",
        "surface_area=6*(s**2)\n",
        "print('surface area of cube=',surface_area)"
      ],
      "metadata": {
        "colab": {
          "base_uri": "https://localhost:8080/"
        },
        "id": "qW0wkwx16K6a",
        "outputId": "2983a4a1-65d6-4165-f33a-35a57eda7651"
      },
      "execution_count": null,
      "outputs": [
        {
          "output_type": "stream",
          "name": "stdout",
          "text": [
            "Enter s=5\n",
            "volume of cube= 125\n",
            "surface area of cube= 150\n"
          ]
        }
      ]
    },
    {
      "cell_type": "code",
      "source": [
        "#(ii) To find volume and surface area\n",
        "# CUBOID SURFACE AREA=2*l*h + 2*l*w +2*w*h\n",
        "# CUBOID VOLUME=l*w*h\n",
        "l=int(input('Enter l='))\n",
        "w=int(input('Enter w='))\n",
        "h=int(input('Enter h='))\n",
        "volume=l*w*h\n",
        "print('volume of cuboid=',volume)\n",
        "surface_area=(2*l*h)+(2*l*w)+(2*w*h)\n",
        "print('surface area of cuboid=',surface_area)"
      ],
      "metadata": {
        "colab": {
          "base_uri": "https://localhost:8080/"
        },
        "id": "0LRKGc8v7nT5",
        "outputId": "2d4d634a-6d42-47b7-a7da-424cbfe38ad7"
      },
      "execution_count": null,
      "outputs": [
        {
          "output_type": "stream",
          "name": "stdout",
          "text": [
            "Enter l=6\n",
            "Enter w=7\n",
            "Enter h=8\n",
            "volume of cuboid= 336\n",
            "surface area of cuboid= 292\n"
          ]
        }
      ]
    },
    {
      "cell_type": "code",
      "source": [
        "#(iii) To find volume and surface area\n",
        "# PYRAMID VOLUME=0.3*a*h\n",
        "a=int(input('Enter a='))\n",
        "h=int(input('Enter h='))\n",
        "volume=0.3*a*h\n",
        "print('volume of pyramid=',volume)"
      ],
      "metadata": {
        "colab": {
          "base_uri": "https://localhost:8080/"
        },
        "id": "2OwMgbw18ns-",
        "outputId": "c88a9003-fb3c-4727-d019-3c0d6d1ba62f"
      },
      "execution_count": null,
      "outputs": [
        {
          "output_type": "stream",
          "name": "stdout",
          "text": [
            "Enter a=5\n",
            "Enter h=10\n",
            "volume of pyramid= 15.0\n"
          ]
        }
      ]
    },
    {
      "cell_type": "code",
      "source": [
        "#(iv) To find volume and surface area\n",
        "# TETRAHEDRON SURFACE AREA=1.73*b**2\n",
        "# TETRAHEDRON VOLUME=(b**3)/(6*1.41)\n",
        "b=int(input('Enter b='))\n",
        "volume=(b**3)/(6*1.41)\n",
        "print('volume of tetrahedron=',volume)\n",
        "surface_area=1.73*(b**2)\n",
        "print('surface area of tetrahedron=',surface_area)"
      ],
      "metadata": {
        "colab": {
          "base_uri": "https://localhost:8080/"
        },
        "id": "5cA0gwAD9f9x",
        "outputId": "c8f2b03a-a35b-4e19-abb1-8f284f2c88e0"
      },
      "execution_count": null,
      "outputs": [
        {
          "output_type": "stream",
          "name": "stdout",
          "text": [
            "Enter b=12\n",
            "volume of tetrahedron= 204.2553191489362\n",
            "surface area of tetrahedron= 249.12\n"
          ]
        }
      ]
    },
    {
      "cell_type": "code",
      "source": [
        "#(v) To find volume and surface area\n",
        "# SQUARE PYRAMID SURFACE AREA=(s**2)+(2*s*h)\n",
        "# SQUARE PYRAMID VOLUME=0.3*h*(s**2)\n",
        "s=int(input('Enter s='))\n",
        "h=int(input('Enter h='))\n",
        "volume=0.3*h*(s**2)\n",
        "print('volume of square_pyramid=',volume)\n",
        "surface_area=(s**2)+(2*s*h)\n",
        "print('surface area of square_pyramid=',surface_area)"
      ],
      "metadata": {
        "colab": {
          "base_uri": "https://localhost:8080/"
        },
        "id": "O36XJJDL-uTs",
        "outputId": "534f9af5-cd29-4c4a-c22b-1e03e8ea479b"
      },
      "execution_count": null,
      "outputs": [
        {
          "output_type": "stream",
          "name": "stdout",
          "text": [
            "Enter s=23\n",
            "Enter h=65\n",
            "volume of square_pyramid= 10315.5\n",
            "surface area of square_pyramid= 3519\n"
          ]
        }
      ]
    },
    {
      "cell_type": "code",
      "source": [
        "#(vi) To find volume and surface area\n",
        "# PRISM SURFACE AREA=(2*a)+(h*p)\n",
        "# PRISM VOLUME=a*h\n",
        "a=int(input('Enter a='))\n",
        "h=int(input('Enter h='))\n",
        "p=int(input('Enter p='))\n",
        "volume=a*h\n",
        "print('volume of prism=',volume)\n",
        "surface_area=(h*p)+(a*2)\n",
        "print('surface area of prism=',surface_area)"
      ],
      "metadata": {
        "colab": {
          "base_uri": "https://localhost:8080/"
        },
        "id": "MxcEeo6C_iYb",
        "outputId": "96a2d09d-3b67-4f35-cf84-70585dff09fd"
      },
      "execution_count": null,
      "outputs": [
        {
          "output_type": "stream",
          "name": "stdout",
          "text": [
            "Enter a=47\n",
            "Enter h=98\n",
            "Enter p=82\n",
            "volume of prism= 4606\n",
            "surface area of prism= 8130\n"
          ]
        }
      ]
    },
    {
      "cell_type": "code",
      "source": [
        "#(vii) To find volume and surface area\n",
        "# TRIANGULAR PRISM SURFACE AREA=(2*l*s)+(h*b)+(l*b)\n",
        "# TRIANGULAR PRISM VOLUME=0.5*b*h*l\n",
        "b=int(input('Enter b='))\n",
        "h=int(input('Enter h='))\n",
        "l=int(input('Enter l='))\n",
        "s=int(input('Enter s='))\n",
        "volume=0.5*b*l*h\n",
        "print('volume of triangular_prism=',volume)\n",
        "surface_area=(h*b)+(l*s*2)+(l*b)\n",
        "print('surface area of triangular_prism=',surface_area)"
      ],
      "metadata": {
        "colab": {
          "base_uri": "https://localhost:8080/"
        },
        "id": "hjdX1FEDAn2h",
        "outputId": "53ba7e13-27f4-490b-a4b3-aef436955631"
      },
      "execution_count": null,
      "outputs": [
        {
          "output_type": "stream",
          "name": "stdout",
          "text": [
            "Enter b=5\n",
            "Enter h=6\n",
            "Enter l=9\n",
            "Enter s=8\n",
            "volume of triangular_prism= 135.0\n",
            "surface area of triangular_prism= 219\n"
          ]
        }
      ]
    },
    {
      "cell_type": "code",
      "source": [
        "#(viii) To find volume and surface area\n",
        "# SPHERE SURFACE AREA=4*n*r**2\n",
        "# SPHERE VOLUME=1.33*n*r**3\n",
        "n=int(input('Enter n='))\n",
        "r=int(input('Enter r='))\n",
        "volume=1.33*n*(r**3)\n",
        "print('volume of sphere=',volume)\n",
        "surface_area=4*n*(r**2)\n",
        "print('surface area of sphere=',surface_area)"
      ],
      "metadata": {
        "colab": {
          "base_uri": "https://localhost:8080/"
        },
        "id": "NPae5-EPBkto",
        "outputId": "e7939bd7-c590-4726-bd48-7237c0a19723"
      },
      "execution_count": null,
      "outputs": [
        {
          "output_type": "stream",
          "name": "stdout",
          "text": [
            "Enter n=23\n",
            "Enter r=21\n",
            "volume of sphere= 283293.99000000005\n",
            "surface area of sphere= 40572\n"
          ]
        }
      ]
    },
    {
      "cell_type": "code",
      "source": [
        "#(ix) To find volume and surface area\n",
        "# RIGHT CYLINDER SURFACE AREA=2*n*r*(r+h)\n",
        "# RIGHT CYLINDER VOLUME=n*h*(r**2)\n",
        "n=int(input('Enter n='))\n",
        "h=int(input('Enter h='))\n",
        "r=int(input('Enter r='))\n",
        "volume=n*h*(r**2)\n",
        "print('volume of right_cylinder=',volume)\n",
        "surface_area=2*n*r*(r+h)\n",
        "print('surface area of right-cylinder=',surface_area)"
      ],
      "metadata": {
        "colab": {
          "base_uri": "https://localhost:8080/"
        },
        "id": "eyfxon31Ca5_",
        "outputId": "a0fa5026-6164-4c23-c85b-eb540b96b9e5"
      },
      "execution_count": null,
      "outputs": [
        {
          "output_type": "stream",
          "name": "stdout",
          "text": [
            "Enter n=56\n",
            "Enter h=70\n",
            "Enter r=01\n",
            "volume of right_cylinder= 3920\n",
            "surface area of right-cylinder= 7952\n"
          ]
        }
      ]
    },
    {
      "cell_type": "code",
      "source": [
        "#(x) To find volume and surface area\n",
        "# RIGHT CIRCULAR CONE SURFACE AREA=n*r*(r+s)\n",
        "# RIGHT CIRCULAR CONE VOLUME=0.3*n*h*(r**2)\n",
        "n=int(input('Enter n='))\n",
        "h=int(input('Enter h='))\n",
        "r=int(input('Enter r='))\n",
        "s=int(input('Enter s='))\n",
        "volume=0.3*n*h*(r**2)\n",
        "print('volume of right_circularcone=',volume)\n",
        "surface_area=n*r*(r+s)\n",
        "print('surface area of right-circularcone=',surface_area)"
      ],
      "metadata": {
        "colab": {
          "base_uri": "https://localhost:8080/"
        },
        "id": "WVK0SCgTDGCq",
        "outputId": "a71e2854-949e-4fd8-c4e1-d169e53b3fc2"
      },
      "execution_count": null,
      "outputs": [
        {
          "output_type": "stream",
          "name": "stdout",
          "text": [
            "Enter n=01\n",
            "Enter h=70\n",
            "Enter r=21\n",
            "Enter s=47\n",
            "volume of right_circularcone= 9261.0\n",
            "surface area of right-circularcone= 1428\n"
          ]
        }
      ]
    },
    {
      "cell_type": "code",
      "source": [
        "#3(i) CELSIUS TO KELVIN\n",
        "c=float(input('Enter the temp='))\n",
        "k=c+273.15\n",
        "print(\"The temp in k\",round(k,2))"
      ],
      "metadata": {
        "colab": {
          "base_uri": "https://localhost:8080/"
        },
        "id": "ixLmjKbJIm2K",
        "outputId": "c35772aa-7d13-49a6-f149-498f5eab2f81"
      },
      "execution_count": null,
      "outputs": [
        {
          "output_type": "stream",
          "name": "stdout",
          "text": [
            "Enter the temp=68.3\n",
            "The temp in k 341.45\n"
          ]
        }
      ]
    },
    {
      "cell_type": "code",
      "source": [
        "#(ii) KELVIN TO CELSIUS\n",
        "k=float(input('Enter the temp='))\n",
        "c=k-273.15\n",
        "print(\"The temp in c\",round(c,2))"
      ],
      "metadata": {
        "colab": {
          "base_uri": "https://localhost:8080/"
        },
        "id": "6E_o4dNuJQBh",
        "outputId": "ee7057e6-0eb1-4137-960c-e4b30f679665"
      },
      "execution_count": null,
      "outputs": [
        {
          "output_type": "stream",
          "name": "stdout",
          "text": [
            "Enter the temp=45.21\n",
            "The temp in c -227.94\n"
          ]
        }
      ]
    },
    {
      "cell_type": "code",
      "source": [
        "#(iii) FARENHEIT TO CELSIUS\n",
        "f=float(input('Enter the temp='))\n",
        "c=(f-32)*(5/9)\n",
        "print(\"The temp in c\",c)"
      ],
      "metadata": {
        "colab": {
          "base_uri": "https://localhost:8080/"
        },
        "id": "E6-7EFgEJunX",
        "outputId": "c4428dea-6cdc-4a4a-9150-2629604af6a7"
      },
      "execution_count": null,
      "outputs": [
        {
          "output_type": "stream",
          "name": "stdout",
          "text": [
            "Enter the temp=89.14\n",
            "The temp in c 31.744444444444447\n"
          ]
        }
      ]
    },
    {
      "cell_type": "code",
      "source": [
        "#(iv) CELSIUS TO FAHRENHEIT\n",
        "c=float(input('Enter the temp='))\n",
        "f=(1.8*c)+32\n",
        "print(\"The temp in f\",f)"
      ],
      "metadata": {
        "colab": {
          "base_uri": "https://localhost:8080/"
        },
        "id": "t95-sOrPKclS",
        "outputId": "db5513d5-bd15-4567-d6b5-174f8902e854"
      },
      "execution_count": null,
      "outputs": [
        {
          "output_type": "stream",
          "name": "stdout",
          "text": [
            "Enter the temp=75.87\n",
            "The temp in f 168.566\n"
          ]
        }
      ]
    },
    {
      "cell_type": "code",
      "source": [
        "#(v) FAHRENHEIT TO KELVIN\n",
        "f=float(input('Enter the temp='))\n",
        "k=(f-32)*(5/9)+273.15\n",
        "print(\"The temp in k\",k)"
      ],
      "metadata": {
        "colab": {
          "base_uri": "https://localhost:8080/"
        },
        "id": "9vHHxVV3K8OO",
        "outputId": "e91a8aeb-e9a0-4e32-db3d-003756a34b75"
      },
      "execution_count": null,
      "outputs": [
        {
          "output_type": "stream",
          "name": "stdout",
          "text": [
            "Enter the temp=98.51\n",
            "The temp in k 310.09999999999997\n"
          ]
        }
      ]
    },
    {
      "cell_type": "code",
      "source": [
        "#(vi) KELVIN TO FAHRENHEIT\n",
        "k=float(input(\"Enter the temp=\"))\n",
        "f=(k-273.15)*(9/5)+32\n",
        "print(\"The temp in f\",f)"
      ],
      "metadata": {
        "colab": {
          "base_uri": "https://localhost:8080/"
        },
        "id": "pqTcNdUYLkPM",
        "outputId": "741b2c38-f5b8-49db-90ff-294a56f38a79"
      },
      "execution_count": null,
      "outputs": [
        {
          "output_type": "stream",
          "name": "stdout",
          "text": [
            "Enter the temp=84.19\n",
            "The temp in f -308.128\n"
          ]
        }
      ]
    },
    {
      "cell_type": "code",
      "source": [
        "#5 REVERSE USING NO LOOP\n",
        "revnum=0\n",
        "base=1\n",
        "def reverse(num):\n",
        "  global revnum\n",
        "  global base\n",
        "  if(num>0):\n",
        "       reverse((int)(num/10))\n",
        "       revnum += (num % 10) * base\n",
        "       base *=10\n",
        "  return revnum\n",
        "\n",
        "num=54827\n",
        "print(reverse(num))"
      ],
      "metadata": {
        "id": "ApQmVYYP4J5W",
        "colab": {
          "base_uri": "https://localhost:8080/"
        },
        "outputId": "31ff32f6-6078-4a74-887f-8bf20544220a"
      },
      "execution_count": null,
      "outputs": [
        {
          "output_type": "stream",
          "name": "stdout",
          "text": [
            "72845\n"
          ]
        }
      ]
    },
    {
      "cell_type": "code",
      "source": [
        "#4(i) SWAPPING USING 3RD VARIABLE\n",
        "x=int(input('Enter x='))\n",
        "y=int(input('Enter y='))\n",
        "z=int(input('Enter z='))\n",
        "x=y\n",
        "y=z\n",
        "z=x\n",
        "print(\"after swapping\")\n",
        "print('x is ',x)\n",
        "print('y is ',y)"
      ],
      "metadata": {
        "colab": {
          "base_uri": "https://localhost:8080/"
        },
        "id": "oyMybh23FXJQ",
        "outputId": "449b0b13-f014-4304-bf7c-be2c91af301e"
      },
      "execution_count": null,
      "outputs": [
        {
          "output_type": "stream",
          "name": "stdout",
          "text": [
            "Enter x=5\n",
            "Enter y=6\n",
            "Enter z=7\n",
            "after swapping\n",
            "x is  6\n",
            "y is  7\n"
          ]
        }
      ]
    },
    {
      "cell_type": "code",
      "source": [
        "#(ii) SWAPPING NOT USING 3RD VARIABLE\n",
        "x=int(input('Enter x='))\n",
        "y=int(input('Enter y='))\n",
        "x=x+y\n",
        "y=x-y\n",
        "x=x-y\n",
        "print('after swapping')\n",
        "print('x is ',x)\n",
        "print('y is ',y)"
      ],
      "metadata": {
        "colab": {
          "base_uri": "https://localhost:8080/"
        },
        "id": "-e_PRKSQGIgV",
        "outputId": "59b96b2d-effe-45f2-c0b4-122b0147d143"
      },
      "execution_count": null,
      "outputs": [
        {
          "output_type": "stream",
          "name": "stdout",
          "text": [
            "Enter x=5\n",
            "Enter y=9\n",
            "after swapping\n",
            "x is  9\n",
            "y is  5\n"
          ]
        }
      ]
    },
    {
      "cell_type": "code",
      "source": [
        "#6 TO CHECK THE NUMBER IS ARMSTRONG NUMBER OR NOT\n",
        "num=int(input('Enter a number:'))\n",
        "sum=0\n",
        "temp=num\n",
        "while temp>0:\n",
        "  digit = temp%10\n",
        "  sum += digit**3\n",
        "  temp //=10\n",
        "if num == sum:\n",
        "  print(num,\"is an armstrong number\")\n",
        "else:\n",
        "  print(num,\"is not an armstrong number\")"
      ],
      "metadata": {
        "colab": {
          "base_uri": "https://localhost:8080/"
        },
        "id": "cdElfgh7MYJH",
        "outputId": "96cba801-8e12-451e-d08a-f052ef417a1f"
      },
      "execution_count": null,
      "outputs": [
        {
          "output_type": "stream",
          "name": "stdout",
          "text": [
            "Enter a number:45\n",
            "45 is not an armstrong number\n"
          ]
        }
      ]
    },
    {
      "cell_type": "code",
      "source": [
        "#7 COUNT THE ARMSTRONG NUMBER FROM 1 TO 1000\n",
        "def is_armstrong(num):\n",
        "  num_digits=len(str(num))\n",
        "  sum_of_digits=sum(int(digit)**num_digits for digit in str(num))\n",
        "  return num==sum_of_digits\n",
        "def count_armstrong_numbers(start,end):\n",
        "  count=0\n",
        "  for num in range(start,end+1):\n",
        "    if is_armstrong(num):\n",
        "      count+=1\n",
        "  return count\n",
        "start_range=1\n",
        "end_range=1000\n",
        "armstrong_count=count_armstrong_numbers(start_range,end_range)\n",
        "print('The number of armstrong number:',armstrong_count)\n"
      ],
      "metadata": {
        "colab": {
          "base_uri": "https://localhost:8080/"
        },
        "id": "vutj_gwJY-OZ",
        "outputId": "9cfe56d2-c6e0-4ce6-932d-bced13be7d24"
      },
      "execution_count": null,
      "outputs": [
        {
          "output_type": "stream",
          "name": "stdout",
          "text": [
            "The number of armstrong number: 13\n"
          ]
        }
      ]
    },
    {
      "cell_type": "code",
      "source": [
        "from typing_extensions import Counter\n",
        "#8 DISPLAY THE ARMSTRONG NUMBER FROM 1 TO 1000\n",
        "lower=1\n",
        "upper=1000\n",
        "for num in range(lower,upper+1):\n",
        "  order = len(str(num))\n",
        "  sum = 0\n",
        "  temp = num\n",
        "  while temp>0:\n",
        "    digit = temp%10\n",
        "    sum += digit**order\n",
        "    temp //=10\n",
        "    Counter\n",
        "  if num==sum:\n",
        "    print(num)\n",
        "\n"
      ],
      "metadata": {
        "colab": {
          "base_uri": "https://localhost:8080/"
        },
        "id": "fuDyBycmNZTi",
        "outputId": "d8093a7a-dc22-4fd4-e241-304c00f78395"
      },
      "execution_count": null,
      "outputs": [
        {
          "output_type": "stream",
          "name": "stdout",
          "text": [
            "1\n",
            "2\n",
            "3\n",
            "4\n",
            "5\n",
            "6\n",
            "7\n",
            "8\n",
            "9\n",
            "153\n",
            "370\n",
            "371\n",
            "407\n"
          ]
        }
      ]
    },
    {
      "cell_type": "code",
      "source": [
        "#9 TO CHECK NEON NUMBER OR NOT\n",
        "sum = 0\n",
        "print('Enter the number to check:')\n",
        "num = int(input())\n",
        "square = num*num\n",
        "while(square !=0):\n",
        "  digit = square%10\n",
        "  sum = sum+digit\n",
        "  square = square//10\n",
        "if(num == sum):\n",
        "  print(str(num) + \"is a neon number\")\n",
        "else:\n",
        "  print(str(num) + \"is not a neon number\")\n",
        "\n"
      ],
      "metadata": {
        "colab": {
          "base_uri": "https://localhost:8080/"
        },
        "id": "zUHgJa7LO1gX",
        "outputId": "360382c4-d9be-45ef-95ab-950fe77e9d34"
      },
      "execution_count": null,
      "outputs": [
        {
          "output_type": "stream",
          "name": "stdout",
          "text": [
            "Enter the number to check:\n",
            "578\n",
            "578is not a neon number\n"
          ]
        }
      ]
    },
    {
      "cell_type": "code",
      "source": [
        "#10 COUNT THE NEON NUMBER FROM 1 TO 1000\n",
        "def is_neon(num):\n",
        "  square=num**2\n",
        "  digit_sum=sum(int(digit) for digit in str(square))\n",
        "  return digit_sum==num\n",
        "def count_neon_numbers(start,end):\n",
        "  count=0\n",
        "  for num in range(start,end+1):\n",
        "    if is_neon(num):\n",
        "      count += 1\n",
        "  return count\n",
        "start_range=1\n",
        "end_range=1000\n",
        "neon_count=count_neon_numbers(start_range,end_range)\n",
        "print(\"The number of neon numbers:\",neon_count)\n"
      ],
      "metadata": {
        "colab": {
          "base_uri": "https://localhost:8080/"
        },
        "id": "8fApe2n8bAQf",
        "outputId": "9fa00114-0e6c-411f-96f2-75c2253031cf"
      },
      "execution_count": null,
      "outputs": [
        {
          "output_type": "stream",
          "name": "stdout",
          "text": [
            "The number of neon numbers: 2\n"
          ]
        }
      ]
    },
    {
      "cell_type": "code",
      "source": [
        "#11 DISPLAY NEON NUMBER FROM 1 TO 1000\n",
        "print('Enter a range:')\n",
        "range1=int(input())\n",
        "range2=int(input())\n",
        "print(\"Neon numbers between \",range1,\" and \",range2,\" are: \")\n",
        "for i in range(range1,range2+1):\n",
        "  sqr = i*i\n",
        "  sum=0\n",
        "  while sqr != 0:\n",
        "      rem = sqr%10\n",
        "      sum += rem\n",
        "      sqr //= 10\n",
        "  if sum == i:\n",
        "    print(i,end=\" \")"
      ],
      "metadata": {
        "colab": {
          "base_uri": "https://localhost:8080/"
        },
        "id": "KzpK5226P2K3",
        "outputId": "286aaf0a-fe92-4fa4-ab69-8aa1a6a79b42"
      },
      "execution_count": null,
      "outputs": [
        {
          "output_type": "stream",
          "name": "stdout",
          "text": [
            "Enter a range:\n",
            "1\n",
            "1000\n",
            "Neon numbers between  1  and  1000  are: \n",
            "1 9 "
          ]
        }
      ]
    },
    {
      "cell_type": "code",
      "source": [
        "#12 TO CHECK THE NUMBER IS AUTOMORPHIC NUMBER OR NOT\n",
        "num =int(input('Enter a number to check:'))\n",
        "num_of_digits = len(str(num))\n",
        "square = num**2\n",
        "last_digits = square%pow(10,num_of_digits)\n",
        "if last_digits == num:\n",
        "  print(\"yes, {} is an automorphic number\".format(num))\n",
        "else:\n",
        "  print(\"No, {} is not an automorphic number\".format(num))"
      ],
      "metadata": {
        "colab": {
          "base_uri": "https://localhost:8080/"
        },
        "id": "ig4Hsc4WR2bq",
        "outputId": "0a2d3a3d-4951-4cc1-de1d-a2a7d9f00908"
      },
      "execution_count": null,
      "outputs": [
        {
          "output_type": "stream",
          "name": "stdout",
          "text": [
            "Enter a number to check:54\n",
            "No, 54 is not an automorphic number\n"
          ]
        }
      ]
    },
    {
      "cell_type": "code",
      "source": [
        "#15 TO CHECK THE NUMBER IS PERFECT NUMBER OR NOT\n",
        "num = int(input('Enter the number:'))\n",
        "sum_v = 0\n",
        "for i in range(1,num):\n",
        "  if(num%i == 0):\n",
        "    sum_v = sum_v+i\n",
        "if(sum_v==num):\n",
        "  print(\"The entered number is a perfect number\")\n",
        "else:\n",
        "  print(\"The entered number is not a perfect number\")"
      ],
      "metadata": {
        "colab": {
          "base_uri": "https://localhost:8080/"
        },
        "id": "Az2pLsnJVx0R",
        "outputId": "83750292-77d2-4357-b1b1-dcae54a670c2"
      },
      "execution_count": null,
      "outputs": [
        {
          "output_type": "stream",
          "name": "stdout",
          "text": [
            "Enter the number:124\n",
            "The entered number is not a perfect number\n"
          ]
        }
      ]
    },
    {
      "cell_type": "code",
      "source": [
        "#13 COUNT AUTOMORPHIC NUMBER FROM 1 TO 1000\n",
        "def is_automorphic(num):\n",
        "    square = num**2\n",
        "    num_str = str(num)\n",
        "    square_str = str(square)\n",
        "    return square_str.endswith(num_str)\n",
        "def count_automorphic_numbers(start,end):\n",
        "    count = 0\n",
        "    for num in range(start,end+1):\n",
        "        if is_automorphic(num):\n",
        "          count += 1\n",
        "    return count\n",
        "start_range = 1\n",
        "end_range = 1000\n",
        "automorphic_num_count  = count_automorphic_numbers(start_range,end_range)\n",
        "print(\"Number of automorphic num \",automorphic_num_count)"
      ],
      "metadata": {
        "colab": {
          "base_uri": "https://localhost:8080/"
        },
        "id": "PTnSAzo9VtUz",
        "outputId": "8cf371c1-8d44-4f49-ba20-f9aea7392485"
      },
      "execution_count": null,
      "outputs": [
        {
          "output_type": "stream",
          "name": "stdout",
          "text": [
            "Number of automorphic num  7\n"
          ]
        }
      ]
    },
    {
      "cell_type": "code",
      "source": [
        "#14 DISPLAY ALL AUTOMORPHIC NUMBER FROM 1 TO 1000\n",
        "def is_automorphic(num):\n",
        "    square = num**2\n",
        "    num_str = str(num)\n",
        "    square_str = str(square)\n",
        "    return square_str.endswith(num_str)\n",
        "def find_automorphic_numbers(start,end):\n",
        "    automorphic_numbers = []\n",
        "    for num in range(start,end+1):\n",
        "        if is_automorphic(num):\n",
        "           automorphic_numbers.append(num)\n",
        "    return automorphic_numbers\n",
        "start_range = 1\n",
        "end_range = 1000\n",
        "automorphic_numbers  = find_automorphic_numbers(start_range,end_range)\n",
        "print(\"Automorphic numbers between 1 to 1000\",automorphic_numbers)"
      ],
      "metadata": {
        "colab": {
          "base_uri": "https://localhost:8080/"
        },
        "id": "7d1GY8ceT2Qc",
        "outputId": "05a78f3f-58c2-42d8-b959-c93f0d510fd9"
      },
      "execution_count": null,
      "outputs": [
        {
          "output_type": "stream",
          "name": "stdout",
          "text": [
            "Automorphic numbers between 1 to 1000 [1, 5, 6, 25, 76, 376, 625]\n"
          ]
        }
      ]
    },
    {
      "cell_type": "code",
      "source": [
        "#16 TO CHECK THE NUMBER IS ABUNDANT NUMBER OR NOT\n",
        "n=int(input('Enter a number:'))\n",
        "sum = 1\n",
        "for i in range(2,n):\n",
        "  if(n%i==0):\n",
        "    sum = sum+i\n",
        "if(sum>n):\n",
        "  print(n,\"is abundant number\")\n",
        "else:\n",
        "  print(n,\"is not abundant number\")\n"
      ],
      "metadata": {
        "colab": {
          "base_uri": "https://localhost:8080/"
        },
        "id": "EJHUFuCfaWcT",
        "outputId": "65e6bb5c-afbc-4790-c2b7-df85ca5f12dd"
      },
      "execution_count": null,
      "outputs": [
        {
          "output_type": "stream",
          "name": "stdout",
          "text": [
            "Enter a number:23\n",
            "23 is not abundant number\n"
          ]
        }
      ]
    },
    {
      "cell_type": "code",
      "source": [
        "#17 TO CHECK THE NUMBER IS DEFICIENT NUMBER OR NOT\n",
        "import math\n",
        "def divsum(n):\n",
        "  sum = 0\n",
        "  i = 1\n",
        "  while i<= math.sqrt(n):\n",
        "    if(n%i==0):\n",
        "      if(n/i==i):\n",
        "        sum = sum+i\n",
        "      else:\n",
        "        sum = sum+i;\n",
        "        sum = sum+(n/i)\n",
        "    i = i+1\n",
        "  return sum\n",
        "def isDef(n):\n",
        "  return(divsum(n)<(2*n))\n",
        "n=int(input('Enter the number:'))\n",
        "if(isDef(n)):\n",
        "  print(\"The number is deficient\")\n",
        "else:\n",
        "  print(\"The number is not deficient\")\n",
        "\n"
      ],
      "metadata": {
        "colab": {
          "base_uri": "https://localhost:8080/"
        },
        "id": "MOEbRx-ZbljY",
        "outputId": "e4dbfb14-91cb-42b7-c591-52ee289c9030"
      },
      "execution_count": null,
      "outputs": [
        {
          "output_type": "stream",
          "name": "stdout",
          "text": [
            "Enter the number:45\n",
            "The number is deficient\n"
          ]
        }
      ]
    },
    {
      "cell_type": "code",
      "source": [
        "from re import I\n",
        "#18 COUNT THE ABUNDANT NUMBER FROM 1 TO 1000\n",
        "def sum_of_divisors(num):\n",
        "  divisor_sum=1\n",
        "  for i in range(2,int(num**0.5)+1):\n",
        "    if num%i == 0:\n",
        "      divisor_sum += i\n",
        "      if i !=num//i:\n",
        "        divisor_sum += num//i\n",
        "  return divisor_sum\n",
        "def is_abundant(num):\n",
        "  return sum_of_divisors(num)>num\n",
        "def count_abundant_numbers(start,end):\n",
        "  count=0\n",
        "  for num in range(start,end+1):\n",
        "      if is_abundant(num):\n",
        "         count += 1\n",
        "  return count\n",
        "start_range=1\n",
        "end_range=1000\n",
        "abundant_count=count_abundant_numbers(start_range,end_range)\n",
        "print(\"The number of abundant number: \",abundant_count)"
      ],
      "metadata": {
        "colab": {
          "base_uri": "https://localhost:8080/"
        },
        "id": "8tOSAw5ddi55",
        "outputId": "8c43a1cb-8e00-4edd-8fe4-14c21bf290f0"
      },
      "execution_count": null,
      "outputs": [
        {
          "output_type": "stream",
          "name": "stdout",
          "text": [
            "The number of abundant number:  246\n"
          ]
        }
      ]
    },
    {
      "cell_type": "code",
      "source": [
        "#19 DISPLAY ALL ABUNDANT NUMBER FROM 1 TO 1000\n",
        "def sum_of_divisors(num):\n",
        "  divisor_sum=1\n",
        "  for i in range(2,int(num**0.5)+1):\n",
        "    if num%i == 0:\n",
        "      divisor_sum += i\n",
        "      if i !=num//i:\n",
        "        divisor_sum += num//i\n",
        "  return divisor_sum\n",
        "def is_abundant(num):\n",
        "  return sum_of_divisors(num)>num\n",
        "abundant_numbers=[]\n",
        "for num in range(1,1000):\n",
        "  if is_abundant(num):\n",
        "    abundant_numbers.append(num)\n",
        "print(\"Abundant numbers from 1 to 1000:\\n\",abundant_numbers)"
      ],
      "metadata": {
        "colab": {
          "base_uri": "https://localhost:8080/"
        },
        "id": "2kIV5925gHli",
        "outputId": "8f658d7b-46ac-474c-fc8c-72e07b93aa74"
      },
      "execution_count": null,
      "outputs": [
        {
          "output_type": "stream",
          "name": "stdout",
          "text": [
            "Abundant numbers from 1 to 1000:\n",
            " [12, 18, 20, 24, 30, 36, 40, 42, 48, 54, 56, 60, 66, 70, 72, 78, 80, 84, 88, 90, 96, 100, 102, 104, 108, 112, 114, 120, 126, 132, 138, 140, 144, 150, 156, 160, 162, 168, 174, 176, 180, 186, 192, 196, 198, 200, 204, 208, 210, 216, 220, 222, 224, 228, 234, 240, 246, 252, 258, 260, 264, 270, 272, 276, 280, 282, 288, 294, 300, 304, 306, 308, 312, 318, 320, 324, 330, 336, 340, 342, 348, 350, 352, 354, 360, 364, 366, 368, 372, 378, 380, 384, 390, 392, 396, 400, 402, 408, 414, 416, 420, 426, 432, 438, 440, 444, 448, 450, 456, 460, 462, 464, 468, 474, 476, 480, 486, 490, 492, 498, 500, 504, 510, 516, 520, 522, 528, 532, 534, 540, 544, 546, 550, 552, 558, 560, 564, 570, 572, 576, 580, 582, 588, 594, 600, 606, 608, 612, 616, 618, 620, 624, 630, 636, 640, 642, 644, 648, 650, 654, 660, 666, 672, 678, 680, 684, 690, 696, 700, 702, 704, 708, 714, 720, 726, 728, 732, 736, 738, 740, 744, 748, 750, 756, 760, 762, 768, 770, 774, 780, 784, 786, 792, 798, 800, 804, 810, 812, 816, 820, 822, 828, 832, 834, 836, 840, 846, 852, 858, 860, 864, 868, 870, 876, 880, 882, 888, 894, 896, 900, 906, 910, 912, 918, 920, 924, 928, 930, 936, 940, 942, 945, 948, 952, 954, 960, 966, 968, 972, 978, 980, 984, 990, 992, 996]\n"
          ]
        }
      ]
    },
    {
      "cell_type": "code",
      "source": [
        "#21 DISPLAY DEFICIENT NUMBER FROM 1 TO 1000\n",
        "def sum_of_proper_divisors(n):\n",
        "    sum_divisors = 0\n",
        "    for i in range(1,n):\n",
        "      if n%i==0:\n",
        "        sum_divisors += i\n",
        "    return sum_divisors\n",
        "def find_deficient_numbers(start,end):\n",
        "    deficient_numbers = []\n",
        "    for num in range(start,end+1):\n",
        "      if sum_of_proper_divisors(num) < num:\n",
        "        deficient_numbers.append(num)\n",
        "    return deficient_numbers\n",
        "start_range = 1\n",
        "end_range = 1000\n",
        "deficient_numbers = find_deficient_numbers(start_range,end_range)\n",
        "print(\"Deficient numbers between 1 to 1000\",deficient_numbers)"
      ],
      "metadata": {
        "colab": {
          "base_uri": "https://localhost:8080/"
        },
        "id": "ZGBTHXIfeKjK",
        "outputId": "7e332b87-1f0b-4958-96f9-61c557bfaee8"
      },
      "execution_count": null,
      "outputs": [
        {
          "output_type": "stream",
          "name": "stdout",
          "text": [
            "Deficient numbers between 1 to 1000 [1, 2, 3, 4, 5, 7, 8, 9, 10, 11, 13, 14, 15, 16, 17, 19, 21, 22, 23, 25, 26, 27, 29, 31, 32, 33, 34, 35, 37, 38, 39, 41, 43, 44, 45, 46, 47, 49, 50, 51, 52, 53, 55, 57, 58, 59, 61, 62, 63, 64, 65, 67, 68, 69, 71, 73, 74, 75, 76, 77, 79, 81, 82, 83, 85, 86, 87, 89, 91, 92, 93, 94, 95, 97, 98, 99, 101, 103, 105, 106, 107, 109, 110, 111, 113, 115, 116, 117, 118, 119, 121, 122, 123, 124, 125, 127, 128, 129, 130, 131, 133, 134, 135, 136, 137, 139, 141, 142, 143, 145, 146, 147, 148, 149, 151, 152, 153, 154, 155, 157, 158, 159, 161, 163, 164, 165, 166, 167, 169, 170, 171, 172, 173, 175, 177, 178, 179, 181, 182, 183, 184, 185, 187, 188, 189, 190, 191, 193, 194, 195, 197, 199, 201, 202, 203, 205, 206, 207, 209, 211, 212, 213, 214, 215, 217, 218, 219, 221, 223, 225, 226, 227, 229, 230, 231, 232, 233, 235, 236, 237, 238, 239, 241, 242, 243, 244, 245, 247, 248, 249, 250, 251, 253, 254, 255, 256, 257, 259, 261, 262, 263, 265, 266, 267, 268, 269, 271, 273, 274, 275, 277, 278, 279, 281, 283, 284, 285, 286, 287, 289, 290, 291, 292, 293, 295, 296, 297, 298, 299, 301, 302, 303, 305, 307, 309, 310, 311, 313, 314, 315, 316, 317, 319, 321, 322, 323, 325, 326, 327, 328, 329, 331, 332, 333, 334, 335, 337, 338, 339, 341, 343, 344, 345, 346, 347, 349, 351, 353, 355, 356, 357, 358, 359, 361, 362, 363, 365, 367, 369, 370, 371, 373, 374, 375, 376, 377, 379, 381, 382, 383, 385, 386, 387, 388, 389, 391, 393, 394, 395, 397, 398, 399, 401, 403, 404, 405, 406, 407, 409, 410, 411, 412, 413, 415, 417, 418, 419, 421, 422, 423, 424, 425, 427, 428, 429, 430, 431, 433, 434, 435, 436, 437, 439, 441, 442, 443, 445, 446, 447, 449, 451, 452, 453, 454, 455, 457, 458, 459, 461, 463, 465, 466, 467, 469, 470, 471, 472, 473, 475, 477, 478, 479, 481, 482, 483, 484, 485, 487, 488, 489, 491, 493, 494, 495, 497, 499, 501, 502, 503, 505, 506, 507, 508, 509, 511, 512, 513, 514, 515, 517, 518, 519, 521, 523, 524, 525, 526, 527, 529, 530, 531, 533, 535, 536, 537, 538, 539, 541, 542, 543, 545, 547, 548, 549, 551, 553, 554, 555, 556, 557, 559, 561, 562, 563, 565, 566, 567, 568, 569, 571, 573, 574, 575, 577, 578, 579, 581, 583, 584, 585, 586, 587, 589, 590, 591, 592, 593, 595, 596, 597, 598, 599, 601, 602, 603, 604, 605, 607, 609, 610, 611, 613, 614, 615, 617, 619, 621, 622, 623, 625, 626, 627, 628, 629, 631, 632, 633, 634, 635, 637, 638, 639, 641, 643, 645, 646, 647, 649, 651, 652, 653, 655, 656, 657, 658, 659, 661, 662, 663, 664, 665, 667, 668, 669, 670, 671, 673, 674, 675, 676, 677, 679, 681, 682, 683, 685, 686, 687, 688, 689, 691, 692, 693, 694, 695, 697, 698, 699, 701, 703, 705, 706, 707, 709, 710, 711, 712, 713, 715, 716, 717, 718, 719, 721, 722, 723, 724, 725, 727, 729, 730, 731, 733, 734, 735, 737, 739, 741, 742, 743, 745, 746, 747, 749, 751, 752, 753, 754, 755, 757, 758, 759, 761, 763, 764, 765, 766, 767, 769, 771, 772, 773, 775, 776, 777, 778, 779, 781, 782, 783, 785, 787, 788, 789, 790, 791, 793, 794, 795, 796, 797, 799, 801, 802, 803, 805, 806, 807, 808, 809, 811, 813, 814, 815, 817, 818, 819, 821, 823, 824, 825, 826, 827, 829, 830, 831, 833, 835, 837, 838, 839, 841, 842, 843, 844, 845, 847, 848, 849, 850, 851, 853, 854, 855, 856, 857, 859, 861, 862, 863, 865, 866, 867, 869, 871, 872, 873, 874, 875, 877, 878, 879, 881, 883, 884, 885, 886, 887, 889, 890, 891, 892, 893, 895, 897, 898, 899, 901, 902, 903, 904, 905, 907, 908, 909, 911, 913, 914, 915, 916, 917, 919, 921, 922, 923, 925, 926, 927, 929, 931, 932, 933, 934, 935, 937, 938, 939, 941, 943, 944, 946, 947, 949, 950, 951, 953, 955, 956, 957, 958, 959, 961, 962, 963, 964, 965, 967, 969, 970, 971, 973, 974, 975, 976, 977, 979, 981, 982, 983, 985, 986, 987, 988, 989, 991, 993, 994, 995, 997, 998, 999]\n"
          ]
        }
      ]
    },
    {
      "cell_type": "code",
      "source": [
        "#20 COUNT THE DEFICIENT NUMBER FROM 1 TO 1000\n",
        "def sum_of_proper_divisors(n):\n",
        "    sum_divisors = 0\n",
        "    for i in range(1,n):\n",
        "      if n%i==0:\n",
        "        sum_divisors += i\n",
        "    return sum_divisors\n",
        "def count_deficient_numbers(start,end):\n",
        "    count = 0\n",
        "    for num in range(start,end+1):\n",
        "      if sum_of_proper_divisors(num) < num:\n",
        "          count += 1\n",
        "    return count\n",
        "start_range = 1\n",
        "end_range = 1000\n",
        "deficient_num_count = count_deficient_numbers(start_range,end_range)\n",
        "print(\"Number of deficient numbers:\",deficient_num_count)"
      ],
      "metadata": {
        "colab": {
          "base_uri": "https://localhost:8080/"
        },
        "id": "ddQGwsQrhW9N",
        "outputId": "364fb410-92e3-4fc5-dce7-11fa92b47d4b"
      },
      "execution_count": null,
      "outputs": [
        {
          "output_type": "stream",
          "name": "stdout",
          "text": [
            "Number of deficient numbers: 751\n"
          ]
        }
      ]
    },
    {
      "cell_type": "code",
      "source": [
        "#22 TO CHECK THE NUMBER IS PROPER DIVISOR OR NOT\n",
        "def is_proper_divisor(divisor,number):\n",
        "  if divisor != 0 and number%divisor ==0:\n",
        "    return True\n",
        "  else:\n",
        "    return False\n",
        "def main():\n",
        "  try:\n",
        "    number = int(input(\"Enter a number:\"))\n",
        "    divisor = int(input(\"Enter a divisor:\"))\n",
        "    if is_proper_divisor(divisor,number):\n",
        "      print(f\"{divisor} is a proper divisor of {number}.\")\n",
        "    else:\n",
        "      print(f\"{divisor} is not a proper divisor of {number}.\")\n",
        "  except ValueError:\n",
        "    print(\"Please enter valid integers\")\n",
        "if __name__ == \"__main__\":\n",
        "  main()"
      ],
      "metadata": {
        "colab": {
          "base_uri": "https://localhost:8080/"
        },
        "id": "4EOrIEazhYhp",
        "outputId": "57613433-9619-40cf-e647-46a2777be83f"
      },
      "execution_count": null,
      "outputs": [
        {
          "output_type": "stream",
          "name": "stdout",
          "text": [
            "Enter a number:39\n",
            "Enter a divisor:3\n",
            "3 is a proper divisor of 39.\n"
          ]
        }
      ]
    },
    {
      "cell_type": "code",
      "source": [
        "#23 COUNT THE PROPER DIVISORS FROM 1 TO 1000\n",
        "def count_proper_divisors(num):\n",
        "  count = 0\n",
        "  for i in range(1,num):\n",
        "    if num%i == 0:\n",
        "      count+=1\n",
        "  return count\n",
        "def main():\n",
        "  total_proper_divisors=0\n",
        "  for num in range(1,1000):\n",
        "    divisor_count = count_proper_divisors(num)\n",
        "    total_proper_divisors += divisor_count\n",
        "  print(f\"Total number of proper divisors from 1 to 1000: {total_proper_divisors}\")\n",
        "if __name__ == \"__main__\":\n",
        "  main()\n"
      ],
      "metadata": {
        "colab": {
          "base_uri": "https://localhost:8080/"
        },
        "id": "zeiMAxKujZmR",
        "outputId": "4f1fb136-4f44-4946-b61f-039dbcf8750e"
      },
      "execution_count": null,
      "outputs": [
        {
          "output_type": "stream",
          "name": "stdout",
          "text": [
            "Total number of proper divisors from 1 to 1000: 6054\n"
          ]
        }
      ]
    },
    {
      "cell_type": "code",
      "source": [
        "#24 DISPLAY THE PROPER DIVISORS FROM 1 TO 1000\n",
        "def proper_divisors(num):\n",
        "  divisors=[]\n",
        "  for i in range(1,num):\n",
        "    if num%i==0:\n",
        "      divisors.append(i)\n",
        "  return divisors\n",
        "def main():\n",
        "  for num in range(1,1000):\n",
        "    divisors=proper_divisors(num)\n",
        "    print(f\"Proper divisors of {num}: {divisors}\")\n",
        "if __name__ == \"__main__\":\n",
        "  main()"
      ],
      "metadata": {
        "colab": {
          "base_uri": "https://localhost:8080/"
        },
        "id": "UWc4Qun6lBTV",
        "outputId": "ce126ec9-4d0a-410c-ac16-2de6c57fb0a1"
      },
      "execution_count": null,
      "outputs": [
        {
          "output_type": "stream",
          "name": "stdout",
          "text": [
            "Proper divisors of 1: []\n",
            "Proper divisors of 2: [1]\n",
            "Proper divisors of 3: [1]\n",
            "Proper divisors of 4: [1, 2]\n",
            "Proper divisors of 5: [1]\n",
            "Proper divisors of 6: [1, 2, 3]\n",
            "Proper divisors of 7: [1]\n",
            "Proper divisors of 8: [1, 2, 4]\n",
            "Proper divisors of 9: [1, 3]\n",
            "Proper divisors of 10: [1, 2, 5]\n",
            "Proper divisors of 11: [1]\n",
            "Proper divisors of 12: [1, 2, 3, 4, 6]\n",
            "Proper divisors of 13: [1]\n",
            "Proper divisors of 14: [1, 2, 7]\n",
            "Proper divisors of 15: [1, 3, 5]\n",
            "Proper divisors of 16: [1, 2, 4, 8]\n",
            "Proper divisors of 17: [1]\n",
            "Proper divisors of 18: [1, 2, 3, 6, 9]\n",
            "Proper divisors of 19: [1]\n",
            "Proper divisors of 20: [1, 2, 4, 5, 10]\n",
            "Proper divisors of 21: [1, 3, 7]\n",
            "Proper divisors of 22: [1, 2, 11]\n",
            "Proper divisors of 23: [1]\n",
            "Proper divisors of 24: [1, 2, 3, 4, 6, 8, 12]\n",
            "Proper divisors of 25: [1, 5]\n",
            "Proper divisors of 26: [1, 2, 13]\n",
            "Proper divisors of 27: [1, 3, 9]\n",
            "Proper divisors of 28: [1, 2, 4, 7, 14]\n",
            "Proper divisors of 29: [1]\n",
            "Proper divisors of 30: [1, 2, 3, 5, 6, 10, 15]\n",
            "Proper divisors of 31: [1]\n",
            "Proper divisors of 32: [1, 2, 4, 8, 16]\n",
            "Proper divisors of 33: [1, 3, 11]\n",
            "Proper divisors of 34: [1, 2, 17]\n",
            "Proper divisors of 35: [1, 5, 7]\n",
            "Proper divisors of 36: [1, 2, 3, 4, 6, 9, 12, 18]\n",
            "Proper divisors of 37: [1]\n",
            "Proper divisors of 38: [1, 2, 19]\n",
            "Proper divisors of 39: [1, 3, 13]\n",
            "Proper divisors of 40: [1, 2, 4, 5, 8, 10, 20]\n",
            "Proper divisors of 41: [1]\n",
            "Proper divisors of 42: [1, 2, 3, 6, 7, 14, 21]\n",
            "Proper divisors of 43: [1]\n",
            "Proper divisors of 44: [1, 2, 4, 11, 22]\n",
            "Proper divisors of 45: [1, 3, 5, 9, 15]\n",
            "Proper divisors of 46: [1, 2, 23]\n",
            "Proper divisors of 47: [1]\n",
            "Proper divisors of 48: [1, 2, 3, 4, 6, 8, 12, 16, 24]\n",
            "Proper divisors of 49: [1, 7]\n",
            "Proper divisors of 50: [1, 2, 5, 10, 25]\n",
            "Proper divisors of 51: [1, 3, 17]\n",
            "Proper divisors of 52: [1, 2, 4, 13, 26]\n",
            "Proper divisors of 53: [1]\n",
            "Proper divisors of 54: [1, 2, 3, 6, 9, 18, 27]\n",
            "Proper divisors of 55: [1, 5, 11]\n",
            "Proper divisors of 56: [1, 2, 4, 7, 8, 14, 28]\n",
            "Proper divisors of 57: [1, 3, 19]\n",
            "Proper divisors of 58: [1, 2, 29]\n",
            "Proper divisors of 59: [1]\n",
            "Proper divisors of 60: [1, 2, 3, 4, 5, 6, 10, 12, 15, 20, 30]\n",
            "Proper divisors of 61: [1]\n",
            "Proper divisors of 62: [1, 2, 31]\n",
            "Proper divisors of 63: [1, 3, 7, 9, 21]\n",
            "Proper divisors of 64: [1, 2, 4, 8, 16, 32]\n",
            "Proper divisors of 65: [1, 5, 13]\n",
            "Proper divisors of 66: [1, 2, 3, 6, 11, 22, 33]\n",
            "Proper divisors of 67: [1]\n",
            "Proper divisors of 68: [1, 2, 4, 17, 34]\n",
            "Proper divisors of 69: [1, 3, 23]\n",
            "Proper divisors of 70: [1, 2, 5, 7, 10, 14, 35]\n",
            "Proper divisors of 71: [1]\n",
            "Proper divisors of 72: [1, 2, 3, 4, 6, 8, 9, 12, 18, 24, 36]\n",
            "Proper divisors of 73: [1]\n",
            "Proper divisors of 74: [1, 2, 37]\n",
            "Proper divisors of 75: [1, 3, 5, 15, 25]\n",
            "Proper divisors of 76: [1, 2, 4, 19, 38]\n",
            "Proper divisors of 77: [1, 7, 11]\n",
            "Proper divisors of 78: [1, 2, 3, 6, 13, 26, 39]\n",
            "Proper divisors of 79: [1]\n",
            "Proper divisors of 80: [1, 2, 4, 5, 8, 10, 16, 20, 40]\n",
            "Proper divisors of 81: [1, 3, 9, 27]\n",
            "Proper divisors of 82: [1, 2, 41]\n",
            "Proper divisors of 83: [1]\n",
            "Proper divisors of 84: [1, 2, 3, 4, 6, 7, 12, 14, 21, 28, 42]\n",
            "Proper divisors of 85: [1, 5, 17]\n",
            "Proper divisors of 86: [1, 2, 43]\n",
            "Proper divisors of 87: [1, 3, 29]\n",
            "Proper divisors of 88: [1, 2, 4, 8, 11, 22, 44]\n",
            "Proper divisors of 89: [1]\n",
            "Proper divisors of 90: [1, 2, 3, 5, 6, 9, 10, 15, 18, 30, 45]\n",
            "Proper divisors of 91: [1, 7, 13]\n",
            "Proper divisors of 92: [1, 2, 4, 23, 46]\n",
            "Proper divisors of 93: [1, 3, 31]\n",
            "Proper divisors of 94: [1, 2, 47]\n",
            "Proper divisors of 95: [1, 5, 19]\n",
            "Proper divisors of 96: [1, 2, 3, 4, 6, 8, 12, 16, 24, 32, 48]\n",
            "Proper divisors of 97: [1]\n",
            "Proper divisors of 98: [1, 2, 7, 14, 49]\n",
            "Proper divisors of 99: [1, 3, 9, 11, 33]\n",
            "Proper divisors of 100: [1, 2, 4, 5, 10, 20, 25, 50]\n",
            "Proper divisors of 101: [1]\n",
            "Proper divisors of 102: [1, 2, 3, 6, 17, 34, 51]\n",
            "Proper divisors of 103: [1]\n",
            "Proper divisors of 104: [1, 2, 4, 8, 13, 26, 52]\n",
            "Proper divisors of 105: [1, 3, 5, 7, 15, 21, 35]\n",
            "Proper divisors of 106: [1, 2, 53]\n",
            "Proper divisors of 107: [1]\n",
            "Proper divisors of 108: [1, 2, 3, 4, 6, 9, 12, 18, 27, 36, 54]\n",
            "Proper divisors of 109: [1]\n",
            "Proper divisors of 110: [1, 2, 5, 10, 11, 22, 55]\n",
            "Proper divisors of 111: [1, 3, 37]\n",
            "Proper divisors of 112: [1, 2, 4, 7, 8, 14, 16, 28, 56]\n",
            "Proper divisors of 113: [1]\n",
            "Proper divisors of 114: [1, 2, 3, 6, 19, 38, 57]\n",
            "Proper divisors of 115: [1, 5, 23]\n",
            "Proper divisors of 116: [1, 2, 4, 29, 58]\n",
            "Proper divisors of 117: [1, 3, 9, 13, 39]\n",
            "Proper divisors of 118: [1, 2, 59]\n",
            "Proper divisors of 119: [1, 7, 17]\n",
            "Proper divisors of 120: [1, 2, 3, 4, 5, 6, 8, 10, 12, 15, 20, 24, 30, 40, 60]\n",
            "Proper divisors of 121: [1, 11]\n",
            "Proper divisors of 122: [1, 2, 61]\n",
            "Proper divisors of 123: [1, 3, 41]\n",
            "Proper divisors of 124: [1, 2, 4, 31, 62]\n",
            "Proper divisors of 125: [1, 5, 25]\n",
            "Proper divisors of 126: [1, 2, 3, 6, 7, 9, 14, 18, 21, 42, 63]\n",
            "Proper divisors of 127: [1]\n",
            "Proper divisors of 128: [1, 2, 4, 8, 16, 32, 64]\n",
            "Proper divisors of 129: [1, 3, 43]\n",
            "Proper divisors of 130: [1, 2, 5, 10, 13, 26, 65]\n",
            "Proper divisors of 131: [1]\n",
            "Proper divisors of 132: [1, 2, 3, 4, 6, 11, 12, 22, 33, 44, 66]\n",
            "Proper divisors of 133: [1, 7, 19]\n",
            "Proper divisors of 134: [1, 2, 67]\n",
            "Proper divisors of 135: [1, 3, 5, 9, 15, 27, 45]\n",
            "Proper divisors of 136: [1, 2, 4, 8, 17, 34, 68]\n",
            "Proper divisors of 137: [1]\n",
            "Proper divisors of 138: [1, 2, 3, 6, 23, 46, 69]\n",
            "Proper divisors of 139: [1]\n",
            "Proper divisors of 140: [1, 2, 4, 5, 7, 10, 14, 20, 28, 35, 70]\n",
            "Proper divisors of 141: [1, 3, 47]\n",
            "Proper divisors of 142: [1, 2, 71]\n",
            "Proper divisors of 143: [1, 11, 13]\n",
            "Proper divisors of 144: [1, 2, 3, 4, 6, 8, 9, 12, 16, 18, 24, 36, 48, 72]\n",
            "Proper divisors of 145: [1, 5, 29]\n",
            "Proper divisors of 146: [1, 2, 73]\n",
            "Proper divisors of 147: [1, 3, 7, 21, 49]\n",
            "Proper divisors of 148: [1, 2, 4, 37, 74]\n",
            "Proper divisors of 149: [1]\n",
            "Proper divisors of 150: [1, 2, 3, 5, 6, 10, 15, 25, 30, 50, 75]\n",
            "Proper divisors of 151: [1]\n",
            "Proper divisors of 152: [1, 2, 4, 8, 19, 38, 76]\n",
            "Proper divisors of 153: [1, 3, 9, 17, 51]\n",
            "Proper divisors of 154: [1, 2, 7, 11, 14, 22, 77]\n",
            "Proper divisors of 155: [1, 5, 31]\n",
            "Proper divisors of 156: [1, 2, 3, 4, 6, 12, 13, 26, 39, 52, 78]\n",
            "Proper divisors of 157: [1]\n",
            "Proper divisors of 158: [1, 2, 79]\n",
            "Proper divisors of 159: [1, 3, 53]\n",
            "Proper divisors of 160: [1, 2, 4, 5, 8, 10, 16, 20, 32, 40, 80]\n",
            "Proper divisors of 161: [1, 7, 23]\n",
            "Proper divisors of 162: [1, 2, 3, 6, 9, 18, 27, 54, 81]\n",
            "Proper divisors of 163: [1]\n",
            "Proper divisors of 164: [1, 2, 4, 41, 82]\n",
            "Proper divisors of 165: [1, 3, 5, 11, 15, 33, 55]\n",
            "Proper divisors of 166: [1, 2, 83]\n",
            "Proper divisors of 167: [1]\n",
            "Proper divisors of 168: [1, 2, 3, 4, 6, 7, 8, 12, 14, 21, 24, 28, 42, 56, 84]\n",
            "Proper divisors of 169: [1, 13]\n",
            "Proper divisors of 170: [1, 2, 5, 10, 17, 34, 85]\n",
            "Proper divisors of 171: [1, 3, 9, 19, 57]\n",
            "Proper divisors of 172: [1, 2, 4, 43, 86]\n",
            "Proper divisors of 173: [1]\n",
            "Proper divisors of 174: [1, 2, 3, 6, 29, 58, 87]\n",
            "Proper divisors of 175: [1, 5, 7, 25, 35]\n",
            "Proper divisors of 176: [1, 2, 4, 8, 11, 16, 22, 44, 88]\n",
            "Proper divisors of 177: [1, 3, 59]\n",
            "Proper divisors of 178: [1, 2, 89]\n",
            "Proper divisors of 179: [1]\n",
            "Proper divisors of 180: [1, 2, 3, 4, 5, 6, 9, 10, 12, 15, 18, 20, 30, 36, 45, 60, 90]\n",
            "Proper divisors of 181: [1]\n",
            "Proper divisors of 182: [1, 2, 7, 13, 14, 26, 91]\n",
            "Proper divisors of 183: [1, 3, 61]\n",
            "Proper divisors of 184: [1, 2, 4, 8, 23, 46, 92]\n",
            "Proper divisors of 185: [1, 5, 37]\n",
            "Proper divisors of 186: [1, 2, 3, 6, 31, 62, 93]\n",
            "Proper divisors of 187: [1, 11, 17]\n",
            "Proper divisors of 188: [1, 2, 4, 47, 94]\n",
            "Proper divisors of 189: [1, 3, 7, 9, 21, 27, 63]\n",
            "Proper divisors of 190: [1, 2, 5, 10, 19, 38, 95]\n",
            "Proper divisors of 191: [1]\n",
            "Proper divisors of 192: [1, 2, 3, 4, 6, 8, 12, 16, 24, 32, 48, 64, 96]\n",
            "Proper divisors of 193: [1]\n",
            "Proper divisors of 194: [1, 2, 97]\n",
            "Proper divisors of 195: [1, 3, 5, 13, 15, 39, 65]\n",
            "Proper divisors of 196: [1, 2, 4, 7, 14, 28, 49, 98]\n",
            "Proper divisors of 197: [1]\n",
            "Proper divisors of 198: [1, 2, 3, 6, 9, 11, 18, 22, 33, 66, 99]\n",
            "Proper divisors of 199: [1]\n",
            "Proper divisors of 200: [1, 2, 4, 5, 8, 10, 20, 25, 40, 50, 100]\n",
            "Proper divisors of 201: [1, 3, 67]\n",
            "Proper divisors of 202: [1, 2, 101]\n",
            "Proper divisors of 203: [1, 7, 29]\n",
            "Proper divisors of 204: [1, 2, 3, 4, 6, 12, 17, 34, 51, 68, 102]\n",
            "Proper divisors of 205: [1, 5, 41]\n",
            "Proper divisors of 206: [1, 2, 103]\n",
            "Proper divisors of 207: [1, 3, 9, 23, 69]\n",
            "Proper divisors of 208: [1, 2, 4, 8, 13, 16, 26, 52, 104]\n",
            "Proper divisors of 209: [1, 11, 19]\n",
            "Proper divisors of 210: [1, 2, 3, 5, 6, 7, 10, 14, 15, 21, 30, 35, 42, 70, 105]\n",
            "Proper divisors of 211: [1]\n",
            "Proper divisors of 212: [1, 2, 4, 53, 106]\n",
            "Proper divisors of 213: [1, 3, 71]\n",
            "Proper divisors of 214: [1, 2, 107]\n",
            "Proper divisors of 215: [1, 5, 43]\n",
            "Proper divisors of 216: [1, 2, 3, 4, 6, 8, 9, 12, 18, 24, 27, 36, 54, 72, 108]\n",
            "Proper divisors of 217: [1, 7, 31]\n",
            "Proper divisors of 218: [1, 2, 109]\n",
            "Proper divisors of 219: [1, 3, 73]\n",
            "Proper divisors of 220: [1, 2, 4, 5, 10, 11, 20, 22, 44, 55, 110]\n",
            "Proper divisors of 221: [1, 13, 17]\n",
            "Proper divisors of 222: [1, 2, 3, 6, 37, 74, 111]\n",
            "Proper divisors of 223: [1]\n",
            "Proper divisors of 224: [1, 2, 4, 7, 8, 14, 16, 28, 32, 56, 112]\n",
            "Proper divisors of 225: [1, 3, 5, 9, 15, 25, 45, 75]\n",
            "Proper divisors of 226: [1, 2, 113]\n",
            "Proper divisors of 227: [1]\n",
            "Proper divisors of 228: [1, 2, 3, 4, 6, 12, 19, 38, 57, 76, 114]\n",
            "Proper divisors of 229: [1]\n",
            "Proper divisors of 230: [1, 2, 5, 10, 23, 46, 115]\n",
            "Proper divisors of 231: [1, 3, 7, 11, 21, 33, 77]\n",
            "Proper divisors of 232: [1, 2, 4, 8, 29, 58, 116]\n",
            "Proper divisors of 233: [1]\n",
            "Proper divisors of 234: [1, 2, 3, 6, 9, 13, 18, 26, 39, 78, 117]\n",
            "Proper divisors of 235: [1, 5, 47]\n",
            "Proper divisors of 236: [1, 2, 4, 59, 118]\n",
            "Proper divisors of 237: [1, 3, 79]\n",
            "Proper divisors of 238: [1, 2, 7, 14, 17, 34, 119]\n",
            "Proper divisors of 239: [1]\n",
            "Proper divisors of 240: [1, 2, 3, 4, 5, 6, 8, 10, 12, 15, 16, 20, 24, 30, 40, 48, 60, 80, 120]\n",
            "Proper divisors of 241: [1]\n",
            "Proper divisors of 242: [1, 2, 11, 22, 121]\n",
            "Proper divisors of 243: [1, 3, 9, 27, 81]\n",
            "Proper divisors of 244: [1, 2, 4, 61, 122]\n",
            "Proper divisors of 245: [1, 5, 7, 35, 49]\n",
            "Proper divisors of 246: [1, 2, 3, 6, 41, 82, 123]\n",
            "Proper divisors of 247: [1, 13, 19]\n",
            "Proper divisors of 248: [1, 2, 4, 8, 31, 62, 124]\n",
            "Proper divisors of 249: [1, 3, 83]\n",
            "Proper divisors of 250: [1, 2, 5, 10, 25, 50, 125]\n",
            "Proper divisors of 251: [1]\n",
            "Proper divisors of 252: [1, 2, 3, 4, 6, 7, 9, 12, 14, 18, 21, 28, 36, 42, 63, 84, 126]\n",
            "Proper divisors of 253: [1, 11, 23]\n",
            "Proper divisors of 254: [1, 2, 127]\n",
            "Proper divisors of 255: [1, 3, 5, 15, 17, 51, 85]\n",
            "Proper divisors of 256: [1, 2, 4, 8, 16, 32, 64, 128]\n",
            "Proper divisors of 257: [1]\n",
            "Proper divisors of 258: [1, 2, 3, 6, 43, 86, 129]\n",
            "Proper divisors of 259: [1, 7, 37]\n",
            "Proper divisors of 260: [1, 2, 4, 5, 10, 13, 20, 26, 52, 65, 130]\n",
            "Proper divisors of 261: [1, 3, 9, 29, 87]\n",
            "Proper divisors of 262: [1, 2, 131]\n",
            "Proper divisors of 263: [1]\n",
            "Proper divisors of 264: [1, 2, 3, 4, 6, 8, 11, 12, 22, 24, 33, 44, 66, 88, 132]\n",
            "Proper divisors of 265: [1, 5, 53]\n",
            "Proper divisors of 266: [1, 2, 7, 14, 19, 38, 133]\n",
            "Proper divisors of 267: [1, 3, 89]\n",
            "Proper divisors of 268: [1, 2, 4, 67, 134]\n",
            "Proper divisors of 269: [1]\n",
            "Proper divisors of 270: [1, 2, 3, 5, 6, 9, 10, 15, 18, 27, 30, 45, 54, 90, 135]\n",
            "Proper divisors of 271: [1]\n",
            "Proper divisors of 272: [1, 2, 4, 8, 16, 17, 34, 68, 136]\n",
            "Proper divisors of 273: [1, 3, 7, 13, 21, 39, 91]\n",
            "Proper divisors of 274: [1, 2, 137]\n",
            "Proper divisors of 275: [1, 5, 11, 25, 55]\n",
            "Proper divisors of 276: [1, 2, 3, 4, 6, 12, 23, 46, 69, 92, 138]\n",
            "Proper divisors of 277: [1]\n",
            "Proper divisors of 278: [1, 2, 139]\n",
            "Proper divisors of 279: [1, 3, 9, 31, 93]\n",
            "Proper divisors of 280: [1, 2, 4, 5, 7, 8, 10, 14, 20, 28, 35, 40, 56, 70, 140]\n",
            "Proper divisors of 281: [1]\n",
            "Proper divisors of 282: [1, 2, 3, 6, 47, 94, 141]\n",
            "Proper divisors of 283: [1]\n",
            "Proper divisors of 284: [1, 2, 4, 71, 142]\n",
            "Proper divisors of 285: [1, 3, 5, 15, 19, 57, 95]\n",
            "Proper divisors of 286: [1, 2, 11, 13, 22, 26, 143]\n",
            "Proper divisors of 287: [1, 7, 41]\n",
            "Proper divisors of 288: [1, 2, 3, 4, 6, 8, 9, 12, 16, 18, 24, 32, 36, 48, 72, 96, 144]\n",
            "Proper divisors of 289: [1, 17]\n",
            "Proper divisors of 290: [1, 2, 5, 10, 29, 58, 145]\n",
            "Proper divisors of 291: [1, 3, 97]\n",
            "Proper divisors of 292: [1, 2, 4, 73, 146]\n",
            "Proper divisors of 293: [1]\n",
            "Proper divisors of 294: [1, 2, 3, 6, 7, 14, 21, 42, 49, 98, 147]\n",
            "Proper divisors of 295: [1, 5, 59]\n",
            "Proper divisors of 296: [1, 2, 4, 8, 37, 74, 148]\n",
            "Proper divisors of 297: [1, 3, 9, 11, 27, 33, 99]\n",
            "Proper divisors of 298: [1, 2, 149]\n",
            "Proper divisors of 299: [1, 13, 23]\n",
            "Proper divisors of 300: [1, 2, 3, 4, 5, 6, 10, 12, 15, 20, 25, 30, 50, 60, 75, 100, 150]\n",
            "Proper divisors of 301: [1, 7, 43]\n",
            "Proper divisors of 302: [1, 2, 151]\n",
            "Proper divisors of 303: [1, 3, 101]\n",
            "Proper divisors of 304: [1, 2, 4, 8, 16, 19, 38, 76, 152]\n",
            "Proper divisors of 305: [1, 5, 61]\n",
            "Proper divisors of 306: [1, 2, 3, 6, 9, 17, 18, 34, 51, 102, 153]\n",
            "Proper divisors of 307: [1]\n",
            "Proper divisors of 308: [1, 2, 4, 7, 11, 14, 22, 28, 44, 77, 154]\n",
            "Proper divisors of 309: [1, 3, 103]\n",
            "Proper divisors of 310: [1, 2, 5, 10, 31, 62, 155]\n",
            "Proper divisors of 311: [1]\n",
            "Proper divisors of 312: [1, 2, 3, 4, 6, 8, 12, 13, 24, 26, 39, 52, 78, 104, 156]\n",
            "Proper divisors of 313: [1]\n",
            "Proper divisors of 314: [1, 2, 157]\n",
            "Proper divisors of 315: [1, 3, 5, 7, 9, 15, 21, 35, 45, 63, 105]\n",
            "Proper divisors of 316: [1, 2, 4, 79, 158]\n",
            "Proper divisors of 317: [1]\n",
            "Proper divisors of 318: [1, 2, 3, 6, 53, 106, 159]\n",
            "Proper divisors of 319: [1, 11, 29]\n",
            "Proper divisors of 320: [1, 2, 4, 5, 8, 10, 16, 20, 32, 40, 64, 80, 160]\n",
            "Proper divisors of 321: [1, 3, 107]\n",
            "Proper divisors of 322: [1, 2, 7, 14, 23, 46, 161]\n",
            "Proper divisors of 323: [1, 17, 19]\n",
            "Proper divisors of 324: [1, 2, 3, 4, 6, 9, 12, 18, 27, 36, 54, 81, 108, 162]\n",
            "Proper divisors of 325: [1, 5, 13, 25, 65]\n",
            "Proper divisors of 326: [1, 2, 163]\n",
            "Proper divisors of 327: [1, 3, 109]\n",
            "Proper divisors of 328: [1, 2, 4, 8, 41, 82, 164]\n",
            "Proper divisors of 329: [1, 7, 47]\n",
            "Proper divisors of 330: [1, 2, 3, 5, 6, 10, 11, 15, 22, 30, 33, 55, 66, 110, 165]\n",
            "Proper divisors of 331: [1]\n",
            "Proper divisors of 332: [1, 2, 4, 83, 166]\n",
            "Proper divisors of 333: [1, 3, 9, 37, 111]\n",
            "Proper divisors of 334: [1, 2, 167]\n",
            "Proper divisors of 335: [1, 5, 67]\n",
            "Proper divisors of 336: [1, 2, 3, 4, 6, 7, 8, 12, 14, 16, 21, 24, 28, 42, 48, 56, 84, 112, 168]\n",
            "Proper divisors of 337: [1]\n",
            "Proper divisors of 338: [1, 2, 13, 26, 169]\n",
            "Proper divisors of 339: [1, 3, 113]\n",
            "Proper divisors of 340: [1, 2, 4, 5, 10, 17, 20, 34, 68, 85, 170]\n",
            "Proper divisors of 341: [1, 11, 31]\n",
            "Proper divisors of 342: [1, 2, 3, 6, 9, 18, 19, 38, 57, 114, 171]\n",
            "Proper divisors of 343: [1, 7, 49]\n",
            "Proper divisors of 344: [1, 2, 4, 8, 43, 86, 172]\n",
            "Proper divisors of 345: [1, 3, 5, 15, 23, 69, 115]\n",
            "Proper divisors of 346: [1, 2, 173]\n",
            "Proper divisors of 347: [1]\n",
            "Proper divisors of 348: [1, 2, 3, 4, 6, 12, 29, 58, 87, 116, 174]\n",
            "Proper divisors of 349: [1]\n",
            "Proper divisors of 350: [1, 2, 5, 7, 10, 14, 25, 35, 50, 70, 175]\n",
            "Proper divisors of 351: [1, 3, 9, 13, 27, 39, 117]\n",
            "Proper divisors of 352: [1, 2, 4, 8, 11, 16, 22, 32, 44, 88, 176]\n",
            "Proper divisors of 353: [1]\n",
            "Proper divisors of 354: [1, 2, 3, 6, 59, 118, 177]\n",
            "Proper divisors of 355: [1, 5, 71]\n",
            "Proper divisors of 356: [1, 2, 4, 89, 178]\n",
            "Proper divisors of 357: [1, 3, 7, 17, 21, 51, 119]\n",
            "Proper divisors of 358: [1, 2, 179]\n",
            "Proper divisors of 359: [1]\n",
            "Proper divisors of 360: [1, 2, 3, 4, 5, 6, 8, 9, 10, 12, 15, 18, 20, 24, 30, 36, 40, 45, 60, 72, 90, 120, 180]\n",
            "Proper divisors of 361: [1, 19]\n",
            "Proper divisors of 362: [1, 2, 181]\n",
            "Proper divisors of 363: [1, 3, 11, 33, 121]\n",
            "Proper divisors of 364: [1, 2, 4, 7, 13, 14, 26, 28, 52, 91, 182]\n",
            "Proper divisors of 365: [1, 5, 73]\n",
            "Proper divisors of 366: [1, 2, 3, 6, 61, 122, 183]\n",
            "Proper divisors of 367: [1]\n",
            "Proper divisors of 368: [1, 2, 4, 8, 16, 23, 46, 92, 184]\n",
            "Proper divisors of 369: [1, 3, 9, 41, 123]\n",
            "Proper divisors of 370: [1, 2, 5, 10, 37, 74, 185]\n",
            "Proper divisors of 371: [1, 7, 53]\n",
            "Proper divisors of 372: [1, 2, 3, 4, 6, 12, 31, 62, 93, 124, 186]\n",
            "Proper divisors of 373: [1]\n",
            "Proper divisors of 374: [1, 2, 11, 17, 22, 34, 187]\n",
            "Proper divisors of 375: [1, 3, 5, 15, 25, 75, 125]\n",
            "Proper divisors of 376: [1, 2, 4, 8, 47, 94, 188]\n",
            "Proper divisors of 377: [1, 13, 29]\n",
            "Proper divisors of 378: [1, 2, 3, 6, 7, 9, 14, 18, 21, 27, 42, 54, 63, 126, 189]\n",
            "Proper divisors of 379: [1]\n",
            "Proper divisors of 380: [1, 2, 4, 5, 10, 19, 20, 38, 76, 95, 190]\n",
            "Proper divisors of 381: [1, 3, 127]\n",
            "Proper divisors of 382: [1, 2, 191]\n",
            "Proper divisors of 383: [1]\n",
            "Proper divisors of 384: [1, 2, 3, 4, 6, 8, 12, 16, 24, 32, 48, 64, 96, 128, 192]\n",
            "Proper divisors of 385: [1, 5, 7, 11, 35, 55, 77]\n",
            "Proper divisors of 386: [1, 2, 193]\n",
            "Proper divisors of 387: [1, 3, 9, 43, 129]\n",
            "Proper divisors of 388: [1, 2, 4, 97, 194]\n",
            "Proper divisors of 389: [1]\n",
            "Proper divisors of 390: [1, 2, 3, 5, 6, 10, 13, 15, 26, 30, 39, 65, 78, 130, 195]\n",
            "Proper divisors of 391: [1, 17, 23]\n",
            "Proper divisors of 392: [1, 2, 4, 7, 8, 14, 28, 49, 56, 98, 196]\n",
            "Proper divisors of 393: [1, 3, 131]\n",
            "Proper divisors of 394: [1, 2, 197]\n",
            "Proper divisors of 395: [1, 5, 79]\n",
            "Proper divisors of 396: [1, 2, 3, 4, 6, 9, 11, 12, 18, 22, 33, 36, 44, 66, 99, 132, 198]\n",
            "Proper divisors of 397: [1]\n",
            "Proper divisors of 398: [1, 2, 199]\n",
            "Proper divisors of 399: [1, 3, 7, 19, 21, 57, 133]\n",
            "Proper divisors of 400: [1, 2, 4, 5, 8, 10, 16, 20, 25, 40, 50, 80, 100, 200]\n",
            "Proper divisors of 401: [1]\n",
            "Proper divisors of 402: [1, 2, 3, 6, 67, 134, 201]\n",
            "Proper divisors of 403: [1, 13, 31]\n",
            "Proper divisors of 404: [1, 2, 4, 101, 202]\n",
            "Proper divisors of 405: [1, 3, 5, 9, 15, 27, 45, 81, 135]\n",
            "Proper divisors of 406: [1, 2, 7, 14, 29, 58, 203]\n",
            "Proper divisors of 407: [1, 11, 37]\n",
            "Proper divisors of 408: [1, 2, 3, 4, 6, 8, 12, 17, 24, 34, 51, 68, 102, 136, 204]\n",
            "Proper divisors of 409: [1]\n",
            "Proper divisors of 410: [1, 2, 5, 10, 41, 82, 205]\n",
            "Proper divisors of 411: [1, 3, 137]\n",
            "Proper divisors of 412: [1, 2, 4, 103, 206]\n",
            "Proper divisors of 413: [1, 7, 59]\n",
            "Proper divisors of 414: [1, 2, 3, 6, 9, 18, 23, 46, 69, 138, 207]\n",
            "Proper divisors of 415: [1, 5, 83]\n",
            "Proper divisors of 416: [1, 2, 4, 8, 13, 16, 26, 32, 52, 104, 208]\n",
            "Proper divisors of 417: [1, 3, 139]\n",
            "Proper divisors of 418: [1, 2, 11, 19, 22, 38, 209]\n",
            "Proper divisors of 419: [1]\n",
            "Proper divisors of 420: [1, 2, 3, 4, 5, 6, 7, 10, 12, 14, 15, 20, 21, 28, 30, 35, 42, 60, 70, 84, 105, 140, 210]\n",
            "Proper divisors of 421: [1]\n",
            "Proper divisors of 422: [1, 2, 211]\n",
            "Proper divisors of 423: [1, 3, 9, 47, 141]\n",
            "Proper divisors of 424: [1, 2, 4, 8, 53, 106, 212]\n",
            "Proper divisors of 425: [1, 5, 17, 25, 85]\n",
            "Proper divisors of 426: [1, 2, 3, 6, 71, 142, 213]\n",
            "Proper divisors of 427: [1, 7, 61]\n",
            "Proper divisors of 428: [1, 2, 4, 107, 214]\n",
            "Proper divisors of 429: [1, 3, 11, 13, 33, 39, 143]\n",
            "Proper divisors of 430: [1, 2, 5, 10, 43, 86, 215]\n",
            "Proper divisors of 431: [1]\n",
            "Proper divisors of 432: [1, 2, 3, 4, 6, 8, 9, 12, 16, 18, 24, 27, 36, 48, 54, 72, 108, 144, 216]\n",
            "Proper divisors of 433: [1]\n",
            "Proper divisors of 434: [1, 2, 7, 14, 31, 62, 217]\n",
            "Proper divisors of 435: [1, 3, 5, 15, 29, 87, 145]\n",
            "Proper divisors of 436: [1, 2, 4, 109, 218]\n",
            "Proper divisors of 437: [1, 19, 23]\n",
            "Proper divisors of 438: [1, 2, 3, 6, 73, 146, 219]\n",
            "Proper divisors of 439: [1]\n",
            "Proper divisors of 440: [1, 2, 4, 5, 8, 10, 11, 20, 22, 40, 44, 55, 88, 110, 220]\n",
            "Proper divisors of 441: [1, 3, 7, 9, 21, 49, 63, 147]\n",
            "Proper divisors of 442: [1, 2, 13, 17, 26, 34, 221]\n",
            "Proper divisors of 443: [1]\n",
            "Proper divisors of 444: [1, 2, 3, 4, 6, 12, 37, 74, 111, 148, 222]\n",
            "Proper divisors of 445: [1, 5, 89]\n",
            "Proper divisors of 446: [1, 2, 223]\n",
            "Proper divisors of 447: [1, 3, 149]\n",
            "Proper divisors of 448: [1, 2, 4, 7, 8, 14, 16, 28, 32, 56, 64, 112, 224]\n",
            "Proper divisors of 449: [1]\n",
            "Proper divisors of 450: [1, 2, 3, 5, 6, 9, 10, 15, 18, 25, 30, 45, 50, 75, 90, 150, 225]\n",
            "Proper divisors of 451: [1, 11, 41]\n",
            "Proper divisors of 452: [1, 2, 4, 113, 226]\n",
            "Proper divisors of 453: [1, 3, 151]\n",
            "Proper divisors of 454: [1, 2, 227]\n",
            "Proper divisors of 455: [1, 5, 7, 13, 35, 65, 91]\n",
            "Proper divisors of 456: [1, 2, 3, 4, 6, 8, 12, 19, 24, 38, 57, 76, 114, 152, 228]\n",
            "Proper divisors of 457: [1]\n",
            "Proper divisors of 458: [1, 2, 229]\n",
            "Proper divisors of 459: [1, 3, 9, 17, 27, 51, 153]\n",
            "Proper divisors of 460: [1, 2, 4, 5, 10, 20, 23, 46, 92, 115, 230]\n",
            "Proper divisors of 461: [1]\n",
            "Proper divisors of 462: [1, 2, 3, 6, 7, 11, 14, 21, 22, 33, 42, 66, 77, 154, 231]\n",
            "Proper divisors of 463: [1]\n",
            "Proper divisors of 464: [1, 2, 4, 8, 16, 29, 58, 116, 232]\n",
            "Proper divisors of 465: [1, 3, 5, 15, 31, 93, 155]\n",
            "Proper divisors of 466: [1, 2, 233]\n",
            "Proper divisors of 467: [1]\n",
            "Proper divisors of 468: [1, 2, 3, 4, 6, 9, 12, 13, 18, 26, 36, 39, 52, 78, 117, 156, 234]\n",
            "Proper divisors of 469: [1, 7, 67]\n",
            "Proper divisors of 470: [1, 2, 5, 10, 47, 94, 235]\n",
            "Proper divisors of 471: [1, 3, 157]\n",
            "Proper divisors of 472: [1, 2, 4, 8, 59, 118, 236]\n",
            "Proper divisors of 473: [1, 11, 43]\n",
            "Proper divisors of 474: [1, 2, 3, 6, 79, 158, 237]\n",
            "Proper divisors of 475: [1, 5, 19, 25, 95]\n",
            "Proper divisors of 476: [1, 2, 4, 7, 14, 17, 28, 34, 68, 119, 238]\n",
            "Proper divisors of 477: [1, 3, 9, 53, 159]\n",
            "Proper divisors of 478: [1, 2, 239]\n",
            "Proper divisors of 479: [1]\n",
            "Proper divisors of 480: [1, 2, 3, 4, 5, 6, 8, 10, 12, 15, 16, 20, 24, 30, 32, 40, 48, 60, 80, 96, 120, 160, 240]\n",
            "Proper divisors of 481: [1, 13, 37]\n",
            "Proper divisors of 482: [1, 2, 241]\n",
            "Proper divisors of 483: [1, 3, 7, 21, 23, 69, 161]\n",
            "Proper divisors of 484: [1, 2, 4, 11, 22, 44, 121, 242]\n",
            "Proper divisors of 485: [1, 5, 97]\n",
            "Proper divisors of 486: [1, 2, 3, 6, 9, 18, 27, 54, 81, 162, 243]\n",
            "Proper divisors of 487: [1]\n",
            "Proper divisors of 488: [1, 2, 4, 8, 61, 122, 244]\n",
            "Proper divisors of 489: [1, 3, 163]\n",
            "Proper divisors of 490: [1, 2, 5, 7, 10, 14, 35, 49, 70, 98, 245]\n",
            "Proper divisors of 491: [1]\n",
            "Proper divisors of 492: [1, 2, 3, 4, 6, 12, 41, 82, 123, 164, 246]\n",
            "Proper divisors of 493: [1, 17, 29]\n",
            "Proper divisors of 494: [1, 2, 13, 19, 26, 38, 247]\n",
            "Proper divisors of 495: [1, 3, 5, 9, 11, 15, 33, 45, 55, 99, 165]\n",
            "Proper divisors of 496: [1, 2, 4, 8, 16, 31, 62, 124, 248]\n",
            "Proper divisors of 497: [1, 7, 71]\n",
            "Proper divisors of 498: [1, 2, 3, 6, 83, 166, 249]\n",
            "Proper divisors of 499: [1]\n",
            "Proper divisors of 500: [1, 2, 4, 5, 10, 20, 25, 50, 100, 125, 250]\n",
            "Proper divisors of 501: [1, 3, 167]\n",
            "Proper divisors of 502: [1, 2, 251]\n",
            "Proper divisors of 503: [1]\n",
            "Proper divisors of 504: [1, 2, 3, 4, 6, 7, 8, 9, 12, 14, 18, 21, 24, 28, 36, 42, 56, 63, 72, 84, 126, 168, 252]\n",
            "Proper divisors of 505: [1, 5, 101]\n",
            "Proper divisors of 506: [1, 2, 11, 22, 23, 46, 253]\n",
            "Proper divisors of 507: [1, 3, 13, 39, 169]\n",
            "Proper divisors of 508: [1, 2, 4, 127, 254]\n",
            "Proper divisors of 509: [1]\n",
            "Proper divisors of 510: [1, 2, 3, 5, 6, 10, 15, 17, 30, 34, 51, 85, 102, 170, 255]\n",
            "Proper divisors of 511: [1, 7, 73]\n",
            "Proper divisors of 512: [1, 2, 4, 8, 16, 32, 64, 128, 256]\n",
            "Proper divisors of 513: [1, 3, 9, 19, 27, 57, 171]\n",
            "Proper divisors of 514: [1, 2, 257]\n",
            "Proper divisors of 515: [1, 5, 103]\n",
            "Proper divisors of 516: [1, 2, 3, 4, 6, 12, 43, 86, 129, 172, 258]\n",
            "Proper divisors of 517: [1, 11, 47]\n",
            "Proper divisors of 518: [1, 2, 7, 14, 37, 74, 259]\n",
            "Proper divisors of 519: [1, 3, 173]\n",
            "Proper divisors of 520: [1, 2, 4, 5, 8, 10, 13, 20, 26, 40, 52, 65, 104, 130, 260]\n",
            "Proper divisors of 521: [1]\n",
            "Proper divisors of 522: [1, 2, 3, 6, 9, 18, 29, 58, 87, 174, 261]\n",
            "Proper divisors of 523: [1]\n",
            "Proper divisors of 524: [1, 2, 4, 131, 262]\n",
            "Proper divisors of 525: [1, 3, 5, 7, 15, 21, 25, 35, 75, 105, 175]\n",
            "Proper divisors of 526: [1, 2, 263]\n",
            "Proper divisors of 527: [1, 17, 31]\n",
            "Proper divisors of 528: [1, 2, 3, 4, 6, 8, 11, 12, 16, 22, 24, 33, 44, 48, 66, 88, 132, 176, 264]\n",
            "Proper divisors of 529: [1, 23]\n",
            "Proper divisors of 530: [1, 2, 5, 10, 53, 106, 265]\n",
            "Proper divisors of 531: [1, 3, 9, 59, 177]\n",
            "Proper divisors of 532: [1, 2, 4, 7, 14, 19, 28, 38, 76, 133, 266]\n",
            "Proper divisors of 533: [1, 13, 41]\n",
            "Proper divisors of 534: [1, 2, 3, 6, 89, 178, 267]\n",
            "Proper divisors of 535: [1, 5, 107]\n",
            "Proper divisors of 536: [1, 2, 4, 8, 67, 134, 268]\n",
            "Proper divisors of 537: [1, 3, 179]\n",
            "Proper divisors of 538: [1, 2, 269]\n",
            "Proper divisors of 539: [1, 7, 11, 49, 77]\n",
            "Proper divisors of 540: [1, 2, 3, 4, 5, 6, 9, 10, 12, 15, 18, 20, 27, 30, 36, 45, 54, 60, 90, 108, 135, 180, 270]\n",
            "Proper divisors of 541: [1]\n",
            "Proper divisors of 542: [1, 2, 271]\n",
            "Proper divisors of 543: [1, 3, 181]\n",
            "Proper divisors of 544: [1, 2, 4, 8, 16, 17, 32, 34, 68, 136, 272]\n",
            "Proper divisors of 545: [1, 5, 109]\n",
            "Proper divisors of 546: [1, 2, 3, 6, 7, 13, 14, 21, 26, 39, 42, 78, 91, 182, 273]\n",
            "Proper divisors of 547: [1]\n",
            "Proper divisors of 548: [1, 2, 4, 137, 274]\n",
            "Proper divisors of 549: [1, 3, 9, 61, 183]\n",
            "Proper divisors of 550: [1, 2, 5, 10, 11, 22, 25, 50, 55, 110, 275]\n",
            "Proper divisors of 551: [1, 19, 29]\n",
            "Proper divisors of 552: [1, 2, 3, 4, 6, 8, 12, 23, 24, 46, 69, 92, 138, 184, 276]\n",
            "Proper divisors of 553: [1, 7, 79]\n",
            "Proper divisors of 554: [1, 2, 277]\n",
            "Proper divisors of 555: [1, 3, 5, 15, 37, 111, 185]\n",
            "Proper divisors of 556: [1, 2, 4, 139, 278]\n",
            "Proper divisors of 557: [1]\n",
            "Proper divisors of 558: [1, 2, 3, 6, 9, 18, 31, 62, 93, 186, 279]\n",
            "Proper divisors of 559: [1, 13, 43]\n",
            "Proper divisors of 560: [1, 2, 4, 5, 7, 8, 10, 14, 16, 20, 28, 35, 40, 56, 70, 80, 112, 140, 280]\n",
            "Proper divisors of 561: [1, 3, 11, 17, 33, 51, 187]\n",
            "Proper divisors of 562: [1, 2, 281]\n",
            "Proper divisors of 563: [1]\n",
            "Proper divisors of 564: [1, 2, 3, 4, 6, 12, 47, 94, 141, 188, 282]\n",
            "Proper divisors of 565: [1, 5, 113]\n",
            "Proper divisors of 566: [1, 2, 283]\n",
            "Proper divisors of 567: [1, 3, 7, 9, 21, 27, 63, 81, 189]\n",
            "Proper divisors of 568: [1, 2, 4, 8, 71, 142, 284]\n",
            "Proper divisors of 569: [1]\n",
            "Proper divisors of 570: [1, 2, 3, 5, 6, 10, 15, 19, 30, 38, 57, 95, 114, 190, 285]\n",
            "Proper divisors of 571: [1]\n",
            "Proper divisors of 572: [1, 2, 4, 11, 13, 22, 26, 44, 52, 143, 286]\n",
            "Proper divisors of 573: [1, 3, 191]\n",
            "Proper divisors of 574: [1, 2, 7, 14, 41, 82, 287]\n",
            "Proper divisors of 575: [1, 5, 23, 25, 115]\n",
            "Proper divisors of 576: [1, 2, 3, 4, 6, 8, 9, 12, 16, 18, 24, 32, 36, 48, 64, 72, 96, 144, 192, 288]\n",
            "Proper divisors of 577: [1]\n",
            "Proper divisors of 578: [1, 2, 17, 34, 289]\n",
            "Proper divisors of 579: [1, 3, 193]\n",
            "Proper divisors of 580: [1, 2, 4, 5, 10, 20, 29, 58, 116, 145, 290]\n",
            "Proper divisors of 581: [1, 7, 83]\n",
            "Proper divisors of 582: [1, 2, 3, 6, 97, 194, 291]\n",
            "Proper divisors of 583: [1, 11, 53]\n",
            "Proper divisors of 584: [1, 2, 4, 8, 73, 146, 292]\n",
            "Proper divisors of 585: [1, 3, 5, 9, 13, 15, 39, 45, 65, 117, 195]\n",
            "Proper divisors of 586: [1, 2, 293]\n",
            "Proper divisors of 587: [1]\n",
            "Proper divisors of 588: [1, 2, 3, 4, 6, 7, 12, 14, 21, 28, 42, 49, 84, 98, 147, 196, 294]\n",
            "Proper divisors of 589: [1, 19, 31]\n",
            "Proper divisors of 590: [1, 2, 5, 10, 59, 118, 295]\n",
            "Proper divisors of 591: [1, 3, 197]\n",
            "Proper divisors of 592: [1, 2, 4, 8, 16, 37, 74, 148, 296]\n",
            "Proper divisors of 593: [1]\n",
            "Proper divisors of 594: [1, 2, 3, 6, 9, 11, 18, 22, 27, 33, 54, 66, 99, 198, 297]\n",
            "Proper divisors of 595: [1, 5, 7, 17, 35, 85, 119]\n",
            "Proper divisors of 596: [1, 2, 4, 149, 298]\n",
            "Proper divisors of 597: [1, 3, 199]\n",
            "Proper divisors of 598: [1, 2, 13, 23, 26, 46, 299]\n",
            "Proper divisors of 599: [1]\n",
            "Proper divisors of 600: [1, 2, 3, 4, 5, 6, 8, 10, 12, 15, 20, 24, 25, 30, 40, 50, 60, 75, 100, 120, 150, 200, 300]\n",
            "Proper divisors of 601: [1]\n",
            "Proper divisors of 602: [1, 2, 7, 14, 43, 86, 301]\n",
            "Proper divisors of 603: [1, 3, 9, 67, 201]\n",
            "Proper divisors of 604: [1, 2, 4, 151, 302]\n",
            "Proper divisors of 605: [1, 5, 11, 55, 121]\n",
            "Proper divisors of 606: [1, 2, 3, 6, 101, 202, 303]\n",
            "Proper divisors of 607: [1]\n",
            "Proper divisors of 608: [1, 2, 4, 8, 16, 19, 32, 38, 76, 152, 304]\n",
            "Proper divisors of 609: [1, 3, 7, 21, 29, 87, 203]\n",
            "Proper divisors of 610: [1, 2, 5, 10, 61, 122, 305]\n",
            "Proper divisors of 611: [1, 13, 47]\n",
            "Proper divisors of 612: [1, 2, 3, 4, 6, 9, 12, 17, 18, 34, 36, 51, 68, 102, 153, 204, 306]\n",
            "Proper divisors of 613: [1]\n",
            "Proper divisors of 614: [1, 2, 307]\n",
            "Proper divisors of 615: [1, 3, 5, 15, 41, 123, 205]\n",
            "Proper divisors of 616: [1, 2, 4, 7, 8, 11, 14, 22, 28, 44, 56, 77, 88, 154, 308]\n",
            "Proper divisors of 617: [1]\n",
            "Proper divisors of 618: [1, 2, 3, 6, 103, 206, 309]\n",
            "Proper divisors of 619: [1]\n",
            "Proper divisors of 620: [1, 2, 4, 5, 10, 20, 31, 62, 124, 155, 310]\n",
            "Proper divisors of 621: [1, 3, 9, 23, 27, 69, 207]\n",
            "Proper divisors of 622: [1, 2, 311]\n",
            "Proper divisors of 623: [1, 7, 89]\n",
            "Proper divisors of 624: [1, 2, 3, 4, 6, 8, 12, 13, 16, 24, 26, 39, 48, 52, 78, 104, 156, 208, 312]\n",
            "Proper divisors of 625: [1, 5, 25, 125]\n",
            "Proper divisors of 626: [1, 2, 313]\n",
            "Proper divisors of 627: [1, 3, 11, 19, 33, 57, 209]\n",
            "Proper divisors of 628: [1, 2, 4, 157, 314]\n",
            "Proper divisors of 629: [1, 17, 37]\n",
            "Proper divisors of 630: [1, 2, 3, 5, 6, 7, 9, 10, 14, 15, 18, 21, 30, 35, 42, 45, 63, 70, 90, 105, 126, 210, 315]\n",
            "Proper divisors of 631: [1]\n",
            "Proper divisors of 632: [1, 2, 4, 8, 79, 158, 316]\n",
            "Proper divisors of 633: [1, 3, 211]\n",
            "Proper divisors of 634: [1, 2, 317]\n",
            "Proper divisors of 635: [1, 5, 127]\n",
            "Proper divisors of 636: [1, 2, 3, 4, 6, 12, 53, 106, 159, 212, 318]\n",
            "Proper divisors of 637: [1, 7, 13, 49, 91]\n",
            "Proper divisors of 638: [1, 2, 11, 22, 29, 58, 319]\n",
            "Proper divisors of 639: [1, 3, 9, 71, 213]\n",
            "Proper divisors of 640: [1, 2, 4, 5, 8, 10, 16, 20, 32, 40, 64, 80, 128, 160, 320]\n",
            "Proper divisors of 641: [1]\n",
            "Proper divisors of 642: [1, 2, 3, 6, 107, 214, 321]\n",
            "Proper divisors of 643: [1]\n",
            "Proper divisors of 644: [1, 2, 4, 7, 14, 23, 28, 46, 92, 161, 322]\n",
            "Proper divisors of 645: [1, 3, 5, 15, 43, 129, 215]\n",
            "Proper divisors of 646: [1, 2, 17, 19, 34, 38, 323]\n",
            "Proper divisors of 647: [1]\n",
            "Proper divisors of 648: [1, 2, 3, 4, 6, 8, 9, 12, 18, 24, 27, 36, 54, 72, 81, 108, 162, 216, 324]\n",
            "Proper divisors of 649: [1, 11, 59]\n",
            "Proper divisors of 650: [1, 2, 5, 10, 13, 25, 26, 50, 65, 130, 325]\n",
            "Proper divisors of 651: [1, 3, 7, 21, 31, 93, 217]\n",
            "Proper divisors of 652: [1, 2, 4, 163, 326]\n",
            "Proper divisors of 653: [1]\n",
            "Proper divisors of 654: [1, 2, 3, 6, 109, 218, 327]\n",
            "Proper divisors of 655: [1, 5, 131]\n",
            "Proper divisors of 656: [1, 2, 4, 8, 16, 41, 82, 164, 328]\n",
            "Proper divisors of 657: [1, 3, 9, 73, 219]\n",
            "Proper divisors of 658: [1, 2, 7, 14, 47, 94, 329]\n",
            "Proper divisors of 659: [1]\n",
            "Proper divisors of 660: [1, 2, 3, 4, 5, 6, 10, 11, 12, 15, 20, 22, 30, 33, 44, 55, 60, 66, 110, 132, 165, 220, 330]\n",
            "Proper divisors of 661: [1]\n",
            "Proper divisors of 662: [1, 2, 331]\n",
            "Proper divisors of 663: [1, 3, 13, 17, 39, 51, 221]\n",
            "Proper divisors of 664: [1, 2, 4, 8, 83, 166, 332]\n",
            "Proper divisors of 665: [1, 5, 7, 19, 35, 95, 133]\n",
            "Proper divisors of 666: [1, 2, 3, 6, 9, 18, 37, 74, 111, 222, 333]\n",
            "Proper divisors of 667: [1, 23, 29]\n",
            "Proper divisors of 668: [1, 2, 4, 167, 334]\n",
            "Proper divisors of 669: [1, 3, 223]\n",
            "Proper divisors of 670: [1, 2, 5, 10, 67, 134, 335]\n",
            "Proper divisors of 671: [1, 11, 61]\n",
            "Proper divisors of 672: [1, 2, 3, 4, 6, 7, 8, 12, 14, 16, 21, 24, 28, 32, 42, 48, 56, 84, 96, 112, 168, 224, 336]\n",
            "Proper divisors of 673: [1]\n",
            "Proper divisors of 674: [1, 2, 337]\n",
            "Proper divisors of 675: [1, 3, 5, 9, 15, 25, 27, 45, 75, 135, 225]\n",
            "Proper divisors of 676: [1, 2, 4, 13, 26, 52, 169, 338]\n",
            "Proper divisors of 677: [1]\n",
            "Proper divisors of 678: [1, 2, 3, 6, 113, 226, 339]\n",
            "Proper divisors of 679: [1, 7, 97]\n",
            "Proper divisors of 680: [1, 2, 4, 5, 8, 10, 17, 20, 34, 40, 68, 85, 136, 170, 340]\n",
            "Proper divisors of 681: [1, 3, 227]\n",
            "Proper divisors of 682: [1, 2, 11, 22, 31, 62, 341]\n",
            "Proper divisors of 683: [1]\n",
            "Proper divisors of 684: [1, 2, 3, 4, 6, 9, 12, 18, 19, 36, 38, 57, 76, 114, 171, 228, 342]\n",
            "Proper divisors of 685: [1, 5, 137]\n",
            "Proper divisors of 686: [1, 2, 7, 14, 49, 98, 343]\n",
            "Proper divisors of 687: [1, 3, 229]\n",
            "Proper divisors of 688: [1, 2, 4, 8, 16, 43, 86, 172, 344]\n",
            "Proper divisors of 689: [1, 13, 53]\n",
            "Proper divisors of 690: [1, 2, 3, 5, 6, 10, 15, 23, 30, 46, 69, 115, 138, 230, 345]\n",
            "Proper divisors of 691: [1]\n",
            "Proper divisors of 692: [1, 2, 4, 173, 346]\n",
            "Proper divisors of 693: [1, 3, 7, 9, 11, 21, 33, 63, 77, 99, 231]\n",
            "Proper divisors of 694: [1, 2, 347]\n",
            "Proper divisors of 695: [1, 5, 139]\n",
            "Proper divisors of 696: [1, 2, 3, 4, 6, 8, 12, 24, 29, 58, 87, 116, 174, 232, 348]\n",
            "Proper divisors of 697: [1, 17, 41]\n",
            "Proper divisors of 698: [1, 2, 349]\n",
            "Proper divisors of 699: [1, 3, 233]\n",
            "Proper divisors of 700: [1, 2, 4, 5, 7, 10, 14, 20, 25, 28, 35, 50, 70, 100, 140, 175, 350]\n",
            "Proper divisors of 701: [1]\n",
            "Proper divisors of 702: [1, 2, 3, 6, 9, 13, 18, 26, 27, 39, 54, 78, 117, 234, 351]\n",
            "Proper divisors of 703: [1, 19, 37]\n",
            "Proper divisors of 704: [1, 2, 4, 8, 11, 16, 22, 32, 44, 64, 88, 176, 352]\n",
            "Proper divisors of 705: [1, 3, 5, 15, 47, 141, 235]\n",
            "Proper divisors of 706: [1, 2, 353]\n",
            "Proper divisors of 707: [1, 7, 101]\n",
            "Proper divisors of 708: [1, 2, 3, 4, 6, 12, 59, 118, 177, 236, 354]\n",
            "Proper divisors of 709: [1]\n",
            "Proper divisors of 710: [1, 2, 5, 10, 71, 142, 355]\n",
            "Proper divisors of 711: [1, 3, 9, 79, 237]\n",
            "Proper divisors of 712: [1, 2, 4, 8, 89, 178, 356]\n",
            "Proper divisors of 713: [1, 23, 31]\n",
            "Proper divisors of 714: [1, 2, 3, 6, 7, 14, 17, 21, 34, 42, 51, 102, 119, 238, 357]\n",
            "Proper divisors of 715: [1, 5, 11, 13, 55, 65, 143]\n",
            "Proper divisors of 716: [1, 2, 4, 179, 358]\n",
            "Proper divisors of 717: [1, 3, 239]\n",
            "Proper divisors of 718: [1, 2, 359]\n",
            "Proper divisors of 719: [1]\n",
            "Proper divisors of 720: [1, 2, 3, 4, 5, 6, 8, 9, 10, 12, 15, 16, 18, 20, 24, 30, 36, 40, 45, 48, 60, 72, 80, 90, 120, 144, 180, 240, 360]\n",
            "Proper divisors of 721: [1, 7, 103]\n",
            "Proper divisors of 722: [1, 2, 19, 38, 361]\n",
            "Proper divisors of 723: [1, 3, 241]\n",
            "Proper divisors of 724: [1, 2, 4, 181, 362]\n",
            "Proper divisors of 725: [1, 5, 25, 29, 145]\n",
            "Proper divisors of 726: [1, 2, 3, 6, 11, 22, 33, 66, 121, 242, 363]\n",
            "Proper divisors of 727: [1]\n",
            "Proper divisors of 728: [1, 2, 4, 7, 8, 13, 14, 26, 28, 52, 56, 91, 104, 182, 364]\n",
            "Proper divisors of 729: [1, 3, 9, 27, 81, 243]\n",
            "Proper divisors of 730: [1, 2, 5, 10, 73, 146, 365]\n",
            "Proper divisors of 731: [1, 17, 43]\n",
            "Proper divisors of 732: [1, 2, 3, 4, 6, 12, 61, 122, 183, 244, 366]\n",
            "Proper divisors of 733: [1]\n",
            "Proper divisors of 734: [1, 2, 367]\n",
            "Proper divisors of 735: [1, 3, 5, 7, 15, 21, 35, 49, 105, 147, 245]\n",
            "Proper divisors of 736: [1, 2, 4, 8, 16, 23, 32, 46, 92, 184, 368]\n",
            "Proper divisors of 737: [1, 11, 67]\n",
            "Proper divisors of 738: [1, 2, 3, 6, 9, 18, 41, 82, 123, 246, 369]\n",
            "Proper divisors of 739: [1]\n",
            "Proper divisors of 740: [1, 2, 4, 5, 10, 20, 37, 74, 148, 185, 370]\n",
            "Proper divisors of 741: [1, 3, 13, 19, 39, 57, 247]\n",
            "Proper divisors of 742: [1, 2, 7, 14, 53, 106, 371]\n",
            "Proper divisors of 743: [1]\n",
            "Proper divisors of 744: [1, 2, 3, 4, 6, 8, 12, 24, 31, 62, 93, 124, 186, 248, 372]\n",
            "Proper divisors of 745: [1, 5, 149]\n",
            "Proper divisors of 746: [1, 2, 373]\n",
            "Proper divisors of 747: [1, 3, 9, 83, 249]\n",
            "Proper divisors of 748: [1, 2, 4, 11, 17, 22, 34, 44, 68, 187, 374]\n",
            "Proper divisors of 749: [1, 7, 107]\n",
            "Proper divisors of 750: [1, 2, 3, 5, 6, 10, 15, 25, 30, 50, 75, 125, 150, 250, 375]\n",
            "Proper divisors of 751: [1]\n",
            "Proper divisors of 752: [1, 2, 4, 8, 16, 47, 94, 188, 376]\n",
            "Proper divisors of 753: [1, 3, 251]\n",
            "Proper divisors of 754: [1, 2, 13, 26, 29, 58, 377]\n",
            "Proper divisors of 755: [1, 5, 151]\n",
            "Proper divisors of 756: [1, 2, 3, 4, 6, 7, 9, 12, 14, 18, 21, 27, 28, 36, 42, 54, 63, 84, 108, 126, 189, 252, 378]\n",
            "Proper divisors of 757: [1]\n",
            "Proper divisors of 758: [1, 2, 379]\n",
            "Proper divisors of 759: [1, 3, 11, 23, 33, 69, 253]\n",
            "Proper divisors of 760: [1, 2, 4, 5, 8, 10, 19, 20, 38, 40, 76, 95, 152, 190, 380]\n",
            "Proper divisors of 761: [1]\n",
            "Proper divisors of 762: [1, 2, 3, 6, 127, 254, 381]\n",
            "Proper divisors of 763: [1, 7, 109]\n",
            "Proper divisors of 764: [1, 2, 4, 191, 382]\n",
            "Proper divisors of 765: [1, 3, 5, 9, 15, 17, 45, 51, 85, 153, 255]\n",
            "Proper divisors of 766: [1, 2, 383]\n",
            "Proper divisors of 767: [1, 13, 59]\n",
            "Proper divisors of 768: [1, 2, 3, 4, 6, 8, 12, 16, 24, 32, 48, 64, 96, 128, 192, 256, 384]\n",
            "Proper divisors of 769: [1]\n",
            "Proper divisors of 770: [1, 2, 5, 7, 10, 11, 14, 22, 35, 55, 70, 77, 110, 154, 385]\n",
            "Proper divisors of 771: [1, 3, 257]\n",
            "Proper divisors of 772: [1, 2, 4, 193, 386]\n",
            "Proper divisors of 773: [1]\n",
            "Proper divisors of 774: [1, 2, 3, 6, 9, 18, 43, 86, 129, 258, 387]\n",
            "Proper divisors of 775: [1, 5, 25, 31, 155]\n",
            "Proper divisors of 776: [1, 2, 4, 8, 97, 194, 388]\n",
            "Proper divisors of 777: [1, 3, 7, 21, 37, 111, 259]\n",
            "Proper divisors of 778: [1, 2, 389]\n",
            "Proper divisors of 779: [1, 19, 41]\n",
            "Proper divisors of 780: [1, 2, 3, 4, 5, 6, 10, 12, 13, 15, 20, 26, 30, 39, 52, 60, 65, 78, 130, 156, 195, 260, 390]\n",
            "Proper divisors of 781: [1, 11, 71]\n",
            "Proper divisors of 782: [1, 2, 17, 23, 34, 46, 391]\n",
            "Proper divisors of 783: [1, 3, 9, 27, 29, 87, 261]\n",
            "Proper divisors of 784: [1, 2, 4, 7, 8, 14, 16, 28, 49, 56, 98, 112, 196, 392]\n",
            "Proper divisors of 785: [1, 5, 157]\n",
            "Proper divisors of 786: [1, 2, 3, 6, 131, 262, 393]\n",
            "Proper divisors of 787: [1]\n",
            "Proper divisors of 788: [1, 2, 4, 197, 394]\n",
            "Proper divisors of 789: [1, 3, 263]\n",
            "Proper divisors of 790: [1, 2, 5, 10, 79, 158, 395]\n",
            "Proper divisors of 791: [1, 7, 113]\n",
            "Proper divisors of 792: [1, 2, 3, 4, 6, 8, 9, 11, 12, 18, 22, 24, 33, 36, 44, 66, 72, 88, 99, 132, 198, 264, 396]\n",
            "Proper divisors of 793: [1, 13, 61]\n",
            "Proper divisors of 794: [1, 2, 397]\n",
            "Proper divisors of 795: [1, 3, 5, 15, 53, 159, 265]\n",
            "Proper divisors of 796: [1, 2, 4, 199, 398]\n",
            "Proper divisors of 797: [1]\n",
            "Proper divisors of 798: [1, 2, 3, 6, 7, 14, 19, 21, 38, 42, 57, 114, 133, 266, 399]\n",
            "Proper divisors of 799: [1, 17, 47]\n",
            "Proper divisors of 800: [1, 2, 4, 5, 8, 10, 16, 20, 25, 32, 40, 50, 80, 100, 160, 200, 400]\n",
            "Proper divisors of 801: [1, 3, 9, 89, 267]\n",
            "Proper divisors of 802: [1, 2, 401]\n",
            "Proper divisors of 803: [1, 11, 73]\n",
            "Proper divisors of 804: [1, 2, 3, 4, 6, 12, 67, 134, 201, 268, 402]\n",
            "Proper divisors of 805: [1, 5, 7, 23, 35, 115, 161]\n",
            "Proper divisors of 806: [1, 2, 13, 26, 31, 62, 403]\n",
            "Proper divisors of 807: [1, 3, 269]\n",
            "Proper divisors of 808: [1, 2, 4, 8, 101, 202, 404]\n",
            "Proper divisors of 809: [1]\n",
            "Proper divisors of 810: [1, 2, 3, 5, 6, 9, 10, 15, 18, 27, 30, 45, 54, 81, 90, 135, 162, 270, 405]\n",
            "Proper divisors of 811: [1]\n",
            "Proper divisors of 812: [1, 2, 4, 7, 14, 28, 29, 58, 116, 203, 406]\n",
            "Proper divisors of 813: [1, 3, 271]\n",
            "Proper divisors of 814: [1, 2, 11, 22, 37, 74, 407]\n",
            "Proper divisors of 815: [1, 5, 163]\n",
            "Proper divisors of 816: [1, 2, 3, 4, 6, 8, 12, 16, 17, 24, 34, 48, 51, 68, 102, 136, 204, 272, 408]\n",
            "Proper divisors of 817: [1, 19, 43]\n",
            "Proper divisors of 818: [1, 2, 409]\n",
            "Proper divisors of 819: [1, 3, 7, 9, 13, 21, 39, 63, 91, 117, 273]\n",
            "Proper divisors of 820: [1, 2, 4, 5, 10, 20, 41, 82, 164, 205, 410]\n",
            "Proper divisors of 821: [1]\n",
            "Proper divisors of 822: [1, 2, 3, 6, 137, 274, 411]\n",
            "Proper divisors of 823: [1]\n",
            "Proper divisors of 824: [1, 2, 4, 8, 103, 206, 412]\n",
            "Proper divisors of 825: [1, 3, 5, 11, 15, 25, 33, 55, 75, 165, 275]\n",
            "Proper divisors of 826: [1, 2, 7, 14, 59, 118, 413]\n",
            "Proper divisors of 827: [1]\n",
            "Proper divisors of 828: [1, 2, 3, 4, 6, 9, 12, 18, 23, 36, 46, 69, 92, 138, 207, 276, 414]\n",
            "Proper divisors of 829: [1]\n",
            "Proper divisors of 830: [1, 2, 5, 10, 83, 166, 415]\n",
            "Proper divisors of 831: [1, 3, 277]\n",
            "Proper divisors of 832: [1, 2, 4, 8, 13, 16, 26, 32, 52, 64, 104, 208, 416]\n",
            "Proper divisors of 833: [1, 7, 17, 49, 119]\n",
            "Proper divisors of 834: [1, 2, 3, 6, 139, 278, 417]\n",
            "Proper divisors of 835: [1, 5, 167]\n",
            "Proper divisors of 836: [1, 2, 4, 11, 19, 22, 38, 44, 76, 209, 418]\n",
            "Proper divisors of 837: [1, 3, 9, 27, 31, 93, 279]\n",
            "Proper divisors of 838: [1, 2, 419]\n",
            "Proper divisors of 839: [1]\n",
            "Proper divisors of 840: [1, 2, 3, 4, 5, 6, 7, 8, 10, 12, 14, 15, 20, 21, 24, 28, 30, 35, 40, 42, 56, 60, 70, 84, 105, 120, 140, 168, 210, 280, 420]\n",
            "Proper divisors of 841: [1, 29]\n",
            "Proper divisors of 842: [1, 2, 421]\n",
            "Proper divisors of 843: [1, 3, 281]\n",
            "Proper divisors of 844: [1, 2, 4, 211, 422]\n",
            "Proper divisors of 845: [1, 5, 13, 65, 169]\n",
            "Proper divisors of 846: [1, 2, 3, 6, 9, 18, 47, 94, 141, 282, 423]\n",
            "Proper divisors of 847: [1, 7, 11, 77, 121]\n",
            "Proper divisors of 848: [1, 2, 4, 8, 16, 53, 106, 212, 424]\n",
            "Proper divisors of 849: [1, 3, 283]\n",
            "Proper divisors of 850: [1, 2, 5, 10, 17, 25, 34, 50, 85, 170, 425]\n",
            "Proper divisors of 851: [1, 23, 37]\n",
            "Proper divisors of 852: [1, 2, 3, 4, 6, 12, 71, 142, 213, 284, 426]\n",
            "Proper divisors of 853: [1]\n",
            "Proper divisors of 854: [1, 2, 7, 14, 61, 122, 427]\n",
            "Proper divisors of 855: [1, 3, 5, 9, 15, 19, 45, 57, 95, 171, 285]\n",
            "Proper divisors of 856: [1, 2, 4, 8, 107, 214, 428]\n",
            "Proper divisors of 857: [1]\n",
            "Proper divisors of 858: [1, 2, 3, 6, 11, 13, 22, 26, 33, 39, 66, 78, 143, 286, 429]\n",
            "Proper divisors of 859: [1]\n",
            "Proper divisors of 860: [1, 2, 4, 5, 10, 20, 43, 86, 172, 215, 430]\n",
            "Proper divisors of 861: [1, 3, 7, 21, 41, 123, 287]\n",
            "Proper divisors of 862: [1, 2, 431]\n",
            "Proper divisors of 863: [1]\n",
            "Proper divisors of 864: [1, 2, 3, 4, 6, 8, 9, 12, 16, 18, 24, 27, 32, 36, 48, 54, 72, 96, 108, 144, 216, 288, 432]\n",
            "Proper divisors of 865: [1, 5, 173]\n",
            "Proper divisors of 866: [1, 2, 433]\n",
            "Proper divisors of 867: [1, 3, 17, 51, 289]\n",
            "Proper divisors of 868: [1, 2, 4, 7, 14, 28, 31, 62, 124, 217, 434]\n",
            "Proper divisors of 869: [1, 11, 79]\n",
            "Proper divisors of 870: [1, 2, 3, 5, 6, 10, 15, 29, 30, 58, 87, 145, 174, 290, 435]\n",
            "Proper divisors of 871: [1, 13, 67]\n",
            "Proper divisors of 872: [1, 2, 4, 8, 109, 218, 436]\n",
            "Proper divisors of 873: [1, 3, 9, 97, 291]\n",
            "Proper divisors of 874: [1, 2, 19, 23, 38, 46, 437]\n",
            "Proper divisors of 875: [1, 5, 7, 25, 35, 125, 175]\n",
            "Proper divisors of 876: [1, 2, 3, 4, 6, 12, 73, 146, 219, 292, 438]\n",
            "Proper divisors of 877: [1]\n",
            "Proper divisors of 878: [1, 2, 439]\n",
            "Proper divisors of 879: [1, 3, 293]\n",
            "Proper divisors of 880: [1, 2, 4, 5, 8, 10, 11, 16, 20, 22, 40, 44, 55, 80, 88, 110, 176, 220, 440]\n",
            "Proper divisors of 881: [1]\n",
            "Proper divisors of 882: [1, 2, 3, 6, 7, 9, 14, 18, 21, 42, 49, 63, 98, 126, 147, 294, 441]\n",
            "Proper divisors of 883: [1]\n",
            "Proper divisors of 884: [1, 2, 4, 13, 17, 26, 34, 52, 68, 221, 442]\n",
            "Proper divisors of 885: [1, 3, 5, 15, 59, 177, 295]\n",
            "Proper divisors of 886: [1, 2, 443]\n",
            "Proper divisors of 887: [1]\n",
            "Proper divisors of 888: [1, 2, 3, 4, 6, 8, 12, 24, 37, 74, 111, 148, 222, 296, 444]\n",
            "Proper divisors of 889: [1, 7, 127]\n",
            "Proper divisors of 890: [1, 2, 5, 10, 89, 178, 445]\n",
            "Proper divisors of 891: [1, 3, 9, 11, 27, 33, 81, 99, 297]\n",
            "Proper divisors of 892: [1, 2, 4, 223, 446]\n",
            "Proper divisors of 893: [1, 19, 47]\n",
            "Proper divisors of 894: [1, 2, 3, 6, 149, 298, 447]\n",
            "Proper divisors of 895: [1, 5, 179]\n",
            "Proper divisors of 896: [1, 2, 4, 7, 8, 14, 16, 28, 32, 56, 64, 112, 128, 224, 448]\n",
            "Proper divisors of 897: [1, 3, 13, 23, 39, 69, 299]\n",
            "Proper divisors of 898: [1, 2, 449]\n",
            "Proper divisors of 899: [1, 29, 31]\n",
            "Proper divisors of 900: [1, 2, 3, 4, 5, 6, 9, 10, 12, 15, 18, 20, 25, 30, 36, 45, 50, 60, 75, 90, 100, 150, 180, 225, 300, 450]\n",
            "Proper divisors of 901: [1, 17, 53]\n",
            "Proper divisors of 902: [1, 2, 11, 22, 41, 82, 451]\n",
            "Proper divisors of 903: [1, 3, 7, 21, 43, 129, 301]\n",
            "Proper divisors of 904: [1, 2, 4, 8, 113, 226, 452]\n",
            "Proper divisors of 905: [1, 5, 181]\n",
            "Proper divisors of 906: [1, 2, 3, 6, 151, 302, 453]\n",
            "Proper divisors of 907: [1]\n",
            "Proper divisors of 908: [1, 2, 4, 227, 454]\n",
            "Proper divisors of 909: [1, 3, 9, 101, 303]\n",
            "Proper divisors of 910: [1, 2, 5, 7, 10, 13, 14, 26, 35, 65, 70, 91, 130, 182, 455]\n",
            "Proper divisors of 911: [1]\n",
            "Proper divisors of 912: [1, 2, 3, 4, 6, 8, 12, 16, 19, 24, 38, 48, 57, 76, 114, 152, 228, 304, 456]\n",
            "Proper divisors of 913: [1, 11, 83]\n",
            "Proper divisors of 914: [1, 2, 457]\n",
            "Proper divisors of 915: [1, 3, 5, 15, 61, 183, 305]\n",
            "Proper divisors of 916: [1, 2, 4, 229, 458]\n",
            "Proper divisors of 917: [1, 7, 131]\n",
            "Proper divisors of 918: [1, 2, 3, 6, 9, 17, 18, 27, 34, 51, 54, 102, 153, 306, 459]\n",
            "Proper divisors of 919: [1]\n",
            "Proper divisors of 920: [1, 2, 4, 5, 8, 10, 20, 23, 40, 46, 92, 115, 184, 230, 460]\n",
            "Proper divisors of 921: [1, 3, 307]\n",
            "Proper divisors of 922: [1, 2, 461]\n",
            "Proper divisors of 923: [1, 13, 71]\n",
            "Proper divisors of 924: [1, 2, 3, 4, 6, 7, 11, 12, 14, 21, 22, 28, 33, 42, 44, 66, 77, 84, 132, 154, 231, 308, 462]\n",
            "Proper divisors of 925: [1, 5, 25, 37, 185]\n",
            "Proper divisors of 926: [1, 2, 463]\n",
            "Proper divisors of 927: [1, 3, 9, 103, 309]\n",
            "Proper divisors of 928: [1, 2, 4, 8, 16, 29, 32, 58, 116, 232, 464]\n",
            "Proper divisors of 929: [1]\n",
            "Proper divisors of 930: [1, 2, 3, 5, 6, 10, 15, 30, 31, 62, 93, 155, 186, 310, 465]\n",
            "Proper divisors of 931: [1, 7, 19, 49, 133]\n",
            "Proper divisors of 932: [1, 2, 4, 233, 466]\n",
            "Proper divisors of 933: [1, 3, 311]\n",
            "Proper divisors of 934: [1, 2, 467]\n",
            "Proper divisors of 935: [1, 5, 11, 17, 55, 85, 187]\n",
            "Proper divisors of 936: [1, 2, 3, 4, 6, 8, 9, 12, 13, 18, 24, 26, 36, 39, 52, 72, 78, 104, 117, 156, 234, 312, 468]\n",
            "Proper divisors of 937: [1]\n",
            "Proper divisors of 938: [1, 2, 7, 14, 67, 134, 469]\n",
            "Proper divisors of 939: [1, 3, 313]\n",
            "Proper divisors of 940: [1, 2, 4, 5, 10, 20, 47, 94, 188, 235, 470]\n",
            "Proper divisors of 941: [1]\n",
            "Proper divisors of 942: [1, 2, 3, 6, 157, 314, 471]\n",
            "Proper divisors of 943: [1, 23, 41]\n",
            "Proper divisors of 944: [1, 2, 4, 8, 16, 59, 118, 236, 472]\n",
            "Proper divisors of 945: [1, 3, 5, 7, 9, 15, 21, 27, 35, 45, 63, 105, 135, 189, 315]\n",
            "Proper divisors of 946: [1, 2, 11, 22, 43, 86, 473]\n",
            "Proper divisors of 947: [1]\n",
            "Proper divisors of 948: [1, 2, 3, 4, 6, 12, 79, 158, 237, 316, 474]\n",
            "Proper divisors of 949: [1, 13, 73]\n",
            "Proper divisors of 950: [1, 2, 5, 10, 19, 25, 38, 50, 95, 190, 475]\n",
            "Proper divisors of 951: [1, 3, 317]\n",
            "Proper divisors of 952: [1, 2, 4, 7, 8, 14, 17, 28, 34, 56, 68, 119, 136, 238, 476]\n",
            "Proper divisors of 953: [1]\n",
            "Proper divisors of 954: [1, 2, 3, 6, 9, 18, 53, 106, 159, 318, 477]\n",
            "Proper divisors of 955: [1, 5, 191]\n",
            "Proper divisors of 956: [1, 2, 4, 239, 478]\n",
            "Proper divisors of 957: [1, 3, 11, 29, 33, 87, 319]\n",
            "Proper divisors of 958: [1, 2, 479]\n",
            "Proper divisors of 959: [1, 7, 137]\n",
            "Proper divisors of 960: [1, 2, 3, 4, 5, 6, 8, 10, 12, 15, 16, 20, 24, 30, 32, 40, 48, 60, 64, 80, 96, 120, 160, 192, 240, 320, 480]\n",
            "Proper divisors of 961: [1, 31]\n",
            "Proper divisors of 962: [1, 2, 13, 26, 37, 74, 481]\n",
            "Proper divisors of 963: [1, 3, 9, 107, 321]\n",
            "Proper divisors of 964: [1, 2, 4, 241, 482]\n",
            "Proper divisors of 965: [1, 5, 193]\n",
            "Proper divisors of 966: [1, 2, 3, 6, 7, 14, 21, 23, 42, 46, 69, 138, 161, 322, 483]\n",
            "Proper divisors of 967: [1]\n",
            "Proper divisors of 968: [1, 2, 4, 8, 11, 22, 44, 88, 121, 242, 484]\n",
            "Proper divisors of 969: [1, 3, 17, 19, 51, 57, 323]\n",
            "Proper divisors of 970: [1, 2, 5, 10, 97, 194, 485]\n",
            "Proper divisors of 971: [1]\n",
            "Proper divisors of 972: [1, 2, 3, 4, 6, 9, 12, 18, 27, 36, 54, 81, 108, 162, 243, 324, 486]\n",
            "Proper divisors of 973: [1, 7, 139]\n",
            "Proper divisors of 974: [1, 2, 487]\n",
            "Proper divisors of 975: [1, 3, 5, 13, 15, 25, 39, 65, 75, 195, 325]\n",
            "Proper divisors of 976: [1, 2, 4, 8, 16, 61, 122, 244, 488]\n",
            "Proper divisors of 977: [1]\n",
            "Proper divisors of 978: [1, 2, 3, 6, 163, 326, 489]\n",
            "Proper divisors of 979: [1, 11, 89]\n",
            "Proper divisors of 980: [1, 2, 4, 5, 7, 10, 14, 20, 28, 35, 49, 70, 98, 140, 196, 245, 490]\n",
            "Proper divisors of 981: [1, 3, 9, 109, 327]\n",
            "Proper divisors of 982: [1, 2, 491]\n",
            "Proper divisors of 983: [1]\n",
            "Proper divisors of 984: [1, 2, 3, 4, 6, 8, 12, 24, 41, 82, 123, 164, 246, 328, 492]\n",
            "Proper divisors of 985: [1, 5, 197]\n",
            "Proper divisors of 986: [1, 2, 17, 29, 34, 58, 493]\n",
            "Proper divisors of 987: [1, 3, 7, 21, 47, 141, 329]\n",
            "Proper divisors of 988: [1, 2, 4, 13, 19, 26, 38, 52, 76, 247, 494]\n",
            "Proper divisors of 989: [1, 23, 43]\n",
            "Proper divisors of 990: [1, 2, 3, 5, 6, 9, 10, 11, 15, 18, 22, 30, 33, 45, 55, 66, 90, 99, 110, 165, 198, 330, 495]\n",
            "Proper divisors of 991: [1]\n",
            "Proper divisors of 992: [1, 2, 4, 8, 16, 31, 32, 62, 124, 248, 496]\n",
            "Proper divisors of 993: [1, 3, 331]\n",
            "Proper divisors of 994: [1, 2, 7, 14, 71, 142, 497]\n",
            "Proper divisors of 995: [1, 5, 199]\n",
            "Proper divisors of 996: [1, 2, 3, 4, 6, 12, 83, 166, 249, 332, 498]\n",
            "Proper divisors of 997: [1]\n",
            "Proper divisors of 998: [1, 2, 499]\n",
            "Proper divisors of 999: [1, 3, 9, 27, 37, 111, 333]\n"
          ]
        }
      ]
    },
    {
      "cell_type": "code",
      "source": [
        "#25 TO CHECK THE NUMBER IS MAGIC NUMBER OR NOT\n",
        "num=int(input(\"Enter the number:\"))\n",
        "def magic_number(num):\n",
        "  if num%9==1:\n",
        "    print(f\"{num} is a magic number\")\n",
        "  else:\n",
        "    print(f\"{num} is not a magic number\")\n",
        "magic_number(num)"
      ],
      "metadata": {
        "colab": {
          "base_uri": "https://localhost:8080/"
        },
        "id": "TA18hhO2jtU1",
        "outputId": "5d9e01c8-ddbb-4eb5-cd23-397b875f085d"
      },
      "execution_count": null,
      "outputs": [
        {
          "output_type": "stream",
          "name": "stdout",
          "text": [
            "Enter the number:70\n",
            "70 is not a magic number\n"
          ]
        }
      ]
    },
    {
      "cell_type": "code",
      "source": [
        "#26 COUNT THE MAGIC NUMBER FROM 1 TO 1000\n",
        "def is_magic_number(num):\n",
        "    while num>0:\n",
        "      num=num%9==1\n",
        "      return num == 1\n",
        "def count_magic_numbers(start,end):\n",
        "    count=0\n",
        "    for num in range(start,end+1):\n",
        "        if is_magic_number(num):\n",
        "          count += 1\n",
        "    return count\n",
        "start_range = 1\n",
        "end_range = 1000\n",
        "magic_number_count = count_magic_numbers(start_range,end_range)\n",
        "print(\"Number of magic numbers:\",magic_number_count)"
      ],
      "metadata": {
        "colab": {
          "base_uri": "https://localhost:8080/"
        },
        "id": "O-zljuPYkitx",
        "outputId": "83e11064-fd44-4a5d-c743-6c4e778adf26"
      },
      "execution_count": null,
      "outputs": [
        {
          "output_type": "stream",
          "name": "stdout",
          "text": [
            "Number of magic numbers: 112\n"
          ]
        }
      ]
    },
    {
      "cell_type": "code",
      "source": [
        "#27 DISPLAY ALL MAGIC NUMBER FROM 1 TO 1000\n",
        "start = 1\n",
        "end = 1000\n",
        "list_magic = []\n",
        "for num in range(start,end+1):\n",
        "  if num%9==1:\n",
        "    list_magic.append(num)\n",
        "print(\"Magic numbers between 1 and 1000: \",list_magic)"
      ],
      "metadata": {
        "colab": {
          "base_uri": "https://localhost:8080/"
        },
        "id": "FOvXwunTingM",
        "outputId": "54a5057e-e3dd-44eb-9beb-d5fcb4669619"
      },
      "execution_count": null,
      "outputs": [
        {
          "output_type": "stream",
          "name": "stdout",
          "text": [
            "Magic numbers between 1 and 1000:  [1, 10, 19, 28, 37, 46, 55, 64, 73, 82, 91, 100, 109, 118, 127, 136, 145, 154, 163, 172, 181, 190, 199, 208, 217, 226, 235, 244, 253, 262, 271, 280, 289, 298, 307, 316, 325, 334, 343, 352, 361, 370, 379, 388, 397, 406, 415, 424, 433, 442, 451, 460, 469, 478, 487, 496, 505, 514, 523, 532, 541, 550, 559, 568, 577, 586, 595, 604, 613, 622, 631, 640, 649, 658, 667, 676, 685, 694, 703, 712, 721, 730, 739, 748, 757, 766, 775, 784, 793, 802, 811, 820, 829, 838, 847, 856, 865, 874, 883, 892, 901, 910, 919, 928, 937, 946, 955, 964, 973, 982, 991, 1000]\n"
          ]
        }
      ]
    },
    {
      "cell_type": "code",
      "source": [
        "#28 TO CHECK THE NUMBER IS SPY NUMBER OR NOT\n",
        "num=int(input(\"Enter the number:\"))\n",
        "sum=0\n",
        "product=1\n",
        "num1=num\n",
        "while(num>0):\n",
        "  d=num%10\n",
        "  sum=sum+d\n",
        "  product=product*d\n",
        "  num=num/10\n",
        "if(sum==product):\n",
        "  print(\"{} is a spy number \".format(num1))\n",
        "else:\n",
        "  print(\"{} is not a spy number\".format(num1))\n"
      ],
      "metadata": {
        "colab": {
          "base_uri": "https://localhost:8080/"
        },
        "id": "oc2ITs8E_yGz",
        "outputId": "5d604475-e9e0-4b51-8bc2-0a753be74bcf"
      },
      "execution_count": null,
      "outputs": [
        {
          "output_type": "stream",
          "name": "stdout",
          "text": [
            "Enter the number:56\n",
            "56 is not a spy number\n"
          ]
        }
      ]
    },
    {
      "cell_type": "code",
      "source": [
        "#29 COUNT THE SPY NUMBER FROM 1 TO 1000\n",
        "def is_spy_number(num):\n",
        "  digits=[int(digit) for digit in str(num)]\n",
        "  sum_of_digits=sum(digits)\n",
        "  product_of_digits=1\n",
        "  for digit in digits:\n",
        "    product_of_digits *= digit\n",
        "  return sum_of_digits == product_of_digits\n",
        "def count_spy_numbers(start,end):\n",
        "  count=0\n",
        "  for num in range(start,end+1):\n",
        "    if is_spy_number(num):\n",
        "      count += 1\n",
        "  return count\n",
        "start_range=1\n",
        "end_range=1000\n",
        "spy_count=count_spy_numbers(start_range,end_range)\n",
        "print(f'The number of spy numbers from 1to 1000: {spy_count}')"
      ],
      "metadata": {
        "colab": {
          "base_uri": "https://localhost:8080/"
        },
        "id": "RI_vA-eEmdxr",
        "outputId": "a8eb1ab8-f6d5-4854-86a5-7e1267f6f0c6"
      },
      "execution_count": null,
      "outputs": [
        {
          "output_type": "stream",
          "name": "stdout",
          "text": [
            "The number of spy numbers from 1to 1000: 16\n"
          ]
        }
      ]
    },
    {
      "cell_type": "code",
      "source": [
        "#30 DISPLAY SPY NUMBERS FROM 1 TO 1000\n",
        "def is_spy_number(num):\n",
        "  digits=[int(digit) for digit in str(num)]\n",
        "  sum_of_digits=sum(digits)\n",
        "  product_of_digits=1\n",
        "  for digit in digits:\n",
        "    product_of_digits *= digit\n",
        "  return sum_of_digits == product_of_digits\n",
        "def main():\n",
        "  spy_numbers=[]\n",
        "  for num in range(1,1000):\n",
        "    if is_spy_number(num):\n",
        "      spy_numbers.append(num)\n",
        "  print(\"Spy numbers from 1 to 1000:\",spy_numbers)\n",
        "if __name__ == \"__main__\":\n",
        "  main()\n"
      ],
      "metadata": {
        "colab": {
          "base_uri": "https://localhost:8080/"
        },
        "id": "lp8TLz2ooDUf",
        "outputId": "1f52d781-7ac5-4c7a-c21e-3b6b65a40e7a"
      },
      "execution_count": null,
      "outputs": [
        {
          "output_type": "stream",
          "name": "stdout",
          "text": [
            "Spy numbers from 1 to 1000: [1, 2, 3, 4, 5, 6, 7, 8, 9, 22, 123, 132, 213, 231, 312, 321]\n"
          ]
        }
      ]
    },
    {
      "cell_type": "code",
      "source": [
        "#31 TO CHECK THE NUMBER IS PERFECT SQUARE OR NOT\n",
        "import math\n",
        "num=25\n",
        "sqrt_num=math.sqrt(num)\n",
        "if sqrt_num.is_integer():\n",
        "  print(\"The number is perfect square\")\n",
        "else:\n",
        "  print(\"The number is not perfect square\")"
      ],
      "metadata": {
        "colab": {
          "base_uri": "https://localhost:8080/"
        },
        "id": "FjoRb-wtCsxS",
        "outputId": "b1cd1a40-0d44-4702-b995-a7762500b0a2"
      },
      "execution_count": null,
      "outputs": [
        {
          "output_type": "stream",
          "name": "stdout",
          "text": [
            "The number is perfect square\n"
          ]
        }
      ]
    },
    {
      "cell_type": "code",
      "source": [
        "#32 COUNT PERFECT SQUARE NUMBER BETWEEN 1 TO 1000\n",
        "def count_perfect_squares(start,end):\n",
        "  count=0\n",
        "  for num in range(start,end+1):\n",
        "    if (num**0.5).is_integer():\n",
        "      count +=1\n",
        "  return count\n",
        "start_range=1\n",
        "end_range=1000\n",
        "perfect_square_count=count_perfect_squares(start_range,end_range)\n",
        "print(\"Number of perfect squares\",perfect_square_count)"
      ],
      "metadata": {
        "colab": {
          "base_uri": "https://localhost:8080/"
        },
        "id": "tjLoTiPOEB4O",
        "outputId": "94d91403-59cf-4a2e-d1ec-7a05b020e57c"
      },
      "execution_count": null,
      "outputs": [
        {
          "output_type": "stream",
          "name": "stdout",
          "text": [
            "Number of perfect squares 31\n"
          ]
        }
      ]
    },
    {
      "cell_type": "code",
      "source": [
        "#33 DISPLAY ALL PERFECT SQUARE NUMBER BETWEEN 1 TO 1000\n",
        "sqre_list=[]\n",
        "for i in range(1,1000):\n",
        "  j=1\n",
        "  while j*j <= i:\n",
        "    if j*j == i:\n",
        "      sqre_list.append(i)\n",
        "    j = j+1\n",
        "  i =i+1\n",
        "print(sqre_list)\n"
      ],
      "metadata": {
        "colab": {
          "base_uri": "https://localhost:8080/"
        },
        "id": "is1nQsXNDWNB",
        "outputId": "978e8d85-3e50-436d-ebbe-1e7dad013f5b"
      },
      "execution_count": null,
      "outputs": [
        {
          "output_type": "stream",
          "name": "stdout",
          "text": [
            "[1, 4, 9, 16, 25, 36, 49, 64, 81, 100, 121, 144, 169, 196, 225, 256, 289, 324, 361, 400, 441, 484, 529, 576, 625, 676, 729, 784, 841, 900, 961]\n"
          ]
        }
      ]
    },
    {
      "cell_type": "code",
      "source": [
        "#34 TO CHECK THE NUMBER IS PRIME NUMBER OR NOT\n",
        "num=int(input(\"check num\"))\n",
        "flag=False\n",
        "if num==1:\n",
        "  print(num,\"is not a prime number\")\n",
        "elif num>1:\n",
        "  for i in range(2,num):\n",
        "    if (num%i)==0:\n",
        "      flag=True\n",
        "      break\n",
        "  if flag:\n",
        "    print(num,\"is not a prime number\")\n",
        "  else:\n",
        "    print(num,\"is a prime number\")\n"
      ],
      "metadata": {
        "colab": {
          "base_uri": "https://localhost:8080/"
        },
        "id": "FEE9IV4oGUPI",
        "outputId": "852ce7c1-d520-4299-ffa9-b869ef8e9405"
      },
      "execution_count": null,
      "outputs": [
        {
          "output_type": "stream",
          "name": "stdout",
          "text": [
            "check num45\n",
            "45 is not a prime number\n"
          ]
        }
      ]
    },
    {
      "cell_type": "code",
      "source": [
        "#36 DISPLAY ALL PRIME NUMBERS IN BETWEEN 1 TO 1000\n",
        "lower=1\n",
        "upper=1000\n",
        "print(\"Prime numbers between\",lower,\"and\",upper,\"are:\")\n",
        "for num in range(lower,upper+1):\n",
        "  if num>1:\n",
        "    for i in range(2,num):\n",
        "      if (num%i)==0:\n",
        "        break\n",
        "    else:\n",
        "        print(num)\n"
      ],
      "metadata": {
        "colab": {
          "base_uri": "https://localhost:8080/"
        },
        "id": "4068HgKMIWoT",
        "outputId": "9f9f6f44-fa32-4581-838f-68962ae0df56"
      },
      "execution_count": null,
      "outputs": [
        {
          "output_type": "stream",
          "name": "stdout",
          "text": [
            "Prime numbers between 1 and 1000 are:\n",
            "2\n",
            "3\n",
            "5\n",
            "7\n",
            "11\n",
            "13\n",
            "17\n",
            "19\n",
            "23\n",
            "29\n",
            "31\n",
            "37\n",
            "41\n",
            "43\n",
            "47\n",
            "53\n",
            "59\n",
            "61\n",
            "67\n",
            "71\n",
            "73\n",
            "79\n",
            "83\n",
            "89\n",
            "97\n",
            "101\n",
            "103\n",
            "107\n",
            "109\n",
            "113\n",
            "127\n",
            "131\n",
            "137\n",
            "139\n",
            "149\n",
            "151\n",
            "157\n",
            "163\n",
            "167\n",
            "173\n",
            "179\n",
            "181\n",
            "191\n",
            "193\n",
            "197\n",
            "199\n",
            "211\n",
            "223\n",
            "227\n",
            "229\n",
            "233\n",
            "239\n",
            "241\n",
            "251\n",
            "257\n",
            "263\n",
            "269\n",
            "271\n",
            "277\n",
            "281\n",
            "283\n",
            "293\n",
            "307\n",
            "311\n",
            "313\n",
            "317\n",
            "331\n",
            "337\n",
            "347\n",
            "349\n",
            "353\n",
            "359\n",
            "367\n",
            "373\n",
            "379\n",
            "383\n",
            "389\n",
            "397\n",
            "401\n",
            "409\n",
            "419\n",
            "421\n",
            "431\n",
            "433\n",
            "439\n",
            "443\n",
            "449\n",
            "457\n",
            "461\n",
            "463\n",
            "467\n",
            "479\n",
            "487\n",
            "491\n",
            "499\n",
            "503\n",
            "509\n",
            "521\n",
            "523\n",
            "541\n",
            "547\n",
            "557\n",
            "563\n",
            "569\n",
            "571\n",
            "577\n",
            "587\n",
            "593\n",
            "599\n",
            "601\n",
            "607\n",
            "613\n",
            "617\n",
            "619\n",
            "631\n",
            "641\n",
            "643\n",
            "647\n",
            "653\n",
            "659\n",
            "661\n",
            "673\n",
            "677\n",
            "683\n",
            "691\n",
            "701\n",
            "709\n",
            "719\n",
            "727\n",
            "733\n",
            "739\n",
            "743\n",
            "751\n",
            "757\n",
            "761\n",
            "769\n",
            "773\n",
            "787\n",
            "797\n",
            "809\n",
            "811\n",
            "821\n",
            "823\n",
            "827\n",
            "829\n",
            "839\n",
            "853\n",
            "857\n",
            "859\n",
            "863\n",
            "877\n",
            "881\n",
            "883\n",
            "887\n",
            "907\n",
            "911\n",
            "919\n",
            "929\n",
            "937\n",
            "941\n",
            "947\n",
            "953\n",
            "967\n",
            "971\n",
            "977\n",
            "983\n",
            "991\n",
            "997\n"
          ]
        }
      ]
    },
    {
      "cell_type": "code",
      "source": [
        "#35 COUNT THE PRIME NUMBERS BETWEEN 1 TO 1000\n",
        "def is_prime(num):\n",
        "  if num<2:\n",
        "    return False\n",
        "  for i in range(2,int(num**0.5)+1):\n",
        "    if num%i == 0:\n",
        "      return False\n",
        "  return True\n",
        "def count_primes(start,end):\n",
        "  count = 0\n",
        "  for num in range(start,end+1):\n",
        "    if is_prime(num):\n",
        "      count += 1\n",
        "  return count\n",
        "start_range = 1\n",
        "end_range = 1000\n",
        "prime_count = count_primes(start_range,end_range)\n",
        "print(\"Number of prime numbers between 1 to 1000:\",prime_count)\n"
      ],
      "metadata": {
        "colab": {
          "base_uri": "https://localhost:8080/"
        },
        "id": "O3tO5F8rSlzk",
        "outputId": "c8a76357-30bd-4481-c7ec-0502af52b7c2"
      },
      "execution_count": null,
      "outputs": [
        {
          "output_type": "stream",
          "name": "stdout",
          "text": [
            "Number of prime numbers between 1 to 1000: 168\n"
          ]
        }
      ]
    }
  ]
}