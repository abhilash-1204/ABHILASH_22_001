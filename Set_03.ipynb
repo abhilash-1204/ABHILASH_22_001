{
  "nbformat": 4,
  "nbformat_minor": 0,
  "metadata": {
    "colab": {
      "provenance": [],
      "authorship_tag": "ABX9TyMEdJC09vB38OwR8sedbC+x",
      "include_colab_link": true
    },
    "kernelspec": {
      "name": "python3",
      "display_name": "Python 3"
    },
    "language_info": {
      "name": "python"
    }
  },
  "cells": [
    {
      "cell_type": "markdown",
      "metadata": {
        "id": "view-in-github",
        "colab_type": "text"
      },
      "source": [
        "<a href=\"https://colab.research.google.com/github/abhilash-1204/ABHILASH_22_001/blob/main/Set_03.ipynb\" target=\"_parent\"><img src=\"https://colab.research.google.com/assets/colab-badge.svg\" alt=\"Open In Colab\"/></a>"
      ]
    },
    {
      "cell_type": "code",
      "execution_count": null,
      "metadata": {
        "colab": {
          "base_uri": "https://localhost:8080/"
        },
        "id": "KI-aBpsRmWYH",
        "outputId": "ab883de0-b548-4936-944e-da93b7c0900f"
      },
      "outputs": [
        {
          "output_type": "stream",
          "name": "stdout",
          "text": [
            "Hello CSE Group-1\n"
          ]
        }
      ],
      "source": [
        "print(\"Hello CSE Group-1\")"
      ]
    },
    {
      "cell_type": "code",
      "source": [
        "a=input('Enter your name')\n",
        "print('Myself',a)"
      ],
      "metadata": {
        "colab": {
          "base_uri": "https://localhost:8080/"
        },
        "id": "dwDM7s52m7bG",
        "outputId": "0e4a923e-3d75-4bae-e5ff-2cdcffc6a471"
      },
      "execution_count": null,
      "outputs": [
        {
          "output_type": "stream",
          "name": "stdout",
          "text": [
            "Enter your nameAbhilash\n",
            "Myself Abhilash\n"
          ]
        }
      ]
    },
    {
      "cell_type": "code",
      "source": [
        "#using of + operator\n",
        "a=int(input('enter first number'))\n",
        "b=int(input('enter second number'))\n",
        "c=a+b\n",
        "print('sum is ',c)"
      ],
      "metadata": {
        "colab": {
          "base_uri": "https://localhost:8080/"
        },
        "id": "bLZJl22xoHLN",
        "outputId": "1f410492-40d2-4368-9166-408a4e944906"
      },
      "execution_count": null,
      "outputs": [
        {
          "output_type": "stream",
          "name": "stdout",
          "text": [
            "enter first number52\n",
            "enter second number23\n",
            "sum is  75\n"
          ]
        }
      ]
    },
    {
      "cell_type": "code",
      "source": [
        "a=123\n",
        "print(type(a))\n",
        "b=\"hello\"\n",
        "print(type(b))\n",
        "c=12.3\n",
        "print(type(c))\n",
        "d=True\n",
        "print(type(d))"
      ],
      "metadata": {
        "colab": {
          "base_uri": "https://localhost:8080/"
        },
        "id": "pnpBeQ5spd-b",
        "outputId": "70bdce00-600a-4ad5-c5d3-993b4ab5db2d"
      },
      "execution_count": null,
      "outputs": [
        {
          "output_type": "stream",
          "name": "stdout",
          "text": [
            "<class 'int'>\n",
            "<class 'str'>\n",
            "<class 'float'>\n",
            "<class 'bool'>\n"
          ]
        }
      ]
    },
    {
      "cell_type": "code",
      "source": [
        "#Arithmetic Operators\n",
        "a=2\n",
        "b=5\n",
        "c=a+b\n",
        "print('a+b=',c)\n",
        "d=a-b\n",
        "print('a-b=',d)\n",
        "e=a*b\n",
        "print('a*b=',e)\n",
        "f=a/b\n",
        "print('a/b=',f)\n",
        "g=a%b\n",
        "print('a%b=',g)\n",
        "h=a//b\n",
        "print('a//b=',h)\n",
        "i=a**b\n",
        "print('a**b=',i)"
      ],
      "metadata": {
        "colab": {
          "base_uri": "https://localhost:8080/"
        },
        "id": "bCzvc6m9sRs_",
        "outputId": "f88a67dd-ab40-4a13-844b-313799b61167"
      },
      "execution_count": null,
      "outputs": [
        {
          "output_type": "stream",
          "name": "stdout",
          "text": [
            "a+b= 7\n",
            "a-b= -3\n",
            "a*b= 10\n",
            "a/b= 0.4\n",
            "a%b= 2\n",
            "a//b= 0\n",
            "a**b= 32\n"
          ]
        }
      ]
    },
    {
      "cell_type": "code",
      "source": [
        "# Bitwise - shift operator\n",
        "a=4\n",
        "b=2\n",
        "d=a&b\n",
        "print('a & b=',d)\n",
        "f=a<<b\n",
        "print('a<<b=',f)"
      ],
      "metadata": {
        "colab": {
          "base_uri": "https://localhost:8080/"
        },
        "id": "EeAHBOrcu2kL",
        "outputId": "adfb6dd7-3482-4937-8eb8-78af66c387fe"
      },
      "execution_count": null,
      "outputs": [
        {
          "output_type": "stream",
          "name": "stdout",
          "text": [
            "a & b= 0\n",
            "a<<b= 16\n"
          ]
        }
      ]
    },
    {
      "cell_type": "code",
      "source": [
        "a=2\n",
        "b=5\n",
        "a+=b\n",
        "print('a=',a)\n",
        "print('b=',b)"
      ],
      "metadata": {
        "colab": {
          "base_uri": "https://localhost:8080/"
        },
        "id": "IXU-TBilwE4J",
        "outputId": "d9ff0f81-d13c-4d5a-f3ac-5a2606612f18"
      },
      "execution_count": null,
      "outputs": [
        {
          "output_type": "stream",
          "name": "stdout",
          "text": [
            "a= 7\n",
            "b= 5\n"
          ]
        }
      ]
    },
    {
      "cell_type": "code",
      "source": [
        "#Special operator\n",
        "a=5\n",
        "b=5\n",
        "d=a is b\n",
        "print('a is b=',d)\n",
        "d=a is not b\n",
        "print('a is not b=',d)"
      ],
      "metadata": {
        "colab": {
          "base_uri": "https://localhost:8080/"
        },
        "id": "CxUCiUzvyFMt",
        "outputId": "5bc86ba2-4f79-40c8-b0e3-dba5f348950f"
      },
      "execution_count": null,
      "outputs": [
        {
          "output_type": "stream",
          "name": "stdout",
          "text": [
            "a is b= True\n",
            "a is not b= False\n"
          ]
        }
      ]
    },
    {
      "cell_type": "code",
      "source": [
        "# in and not in operator\n",
        "a=\"hello\"\n",
        "b='l'\n",
        "c=b in a\n",
        "print('b in a=',c)\n",
        "d=b not in a\n",
        "print('b not in a=',d)\n"
      ],
      "metadata": {
        "colab": {
          "base_uri": "https://localhost:8080/"
        },
        "id": "P_gK8OSozoQw",
        "outputId": "460519a1-3680-4b79-9d5d-9793f2453756"
      },
      "execution_count": null,
      "outputs": [
        {
          "output_type": "stream",
          "name": "stdout",
          "text": [
            "b in a= True\n",
            "b not in a= False\n"
          ]
        }
      ]
    },
    {
      "cell_type": "code",
      "source": [
        "# input a no and check even\n",
        "a=int(input('enter a number'))\n",
        "if a%2==0:\n",
        "   print(\"even no\")\n",
        "else:\n",
        "   print(\"odd no\")"
      ],
      "metadata": {
        "colab": {
          "base_uri": "https://localhost:8080/"
        },
        "id": "MOrLx5q11yFF",
        "outputId": "a6e38f22-86fa-4985-fc51-3e6ac329be14"
      },
      "execution_count": null,
      "outputs": [
        {
          "output_type": "stream",
          "name": "stdout",
          "text": [
            "enter a number5\n",
            "odd no\n"
          ]
        }
      ]
    },
    {
      "cell_type": "code",
      "source": [
        "a=int(input('first num'))\n",
        "b=int(input('second num'))\n",
        "if a>b:\n",
        "  max=a;\n",
        "  min=b;\n",
        "  print('a is max')\n",
        "  print('b is min')\n"
      ],
      "metadata": {
        "colab": {
          "base_uri": "https://localhost:8080/"
        },
        "id": "90cFZkQo3Z11",
        "outputId": "0a9a1a74-ad5f-4358-97d2-aabd03ff02cd"
      },
      "execution_count": null,
      "outputs": [
        {
          "name": "stdout",
          "output_type": "stream",
          "text": [
            "first num5\n",
            "second num6\n"
          ]
        }
      ]
    },
    {
      "cell_type": "code",
      "source": [
        "num=int(input('enter a number'))\n",
        "if num==10:\n",
        "  print('num is equal to 10')\n",
        "elif num==50:\n",
        "  print('num is equal to 50')\n",
        "else:\n",
        "  print('wrong number')"
      ],
      "metadata": {
        "colab": {
          "base_uri": "https://localhost:8080/"
        },
        "id": "rwrxW6Cu63cU",
        "outputId": "7d2d82d9-4415-4ba4-dc4a-4460983be41a"
      },
      "execution_count": null,
      "outputs": [
        {
          "output_type": "stream",
          "name": "stdout",
          "text": [
            "enter a number10\n",
            "num is equal to 10\n"
          ]
        }
      ]
    },
    {
      "cell_type": "code",
      "source": [
        "str='python'\n",
        "for i in str:\n",
        "  print(i)"
      ],
      "metadata": {
        "colab": {
          "base_uri": "https://localhost:8080/"
        },
        "id": "8w5QgcIy65PV",
        "outputId": "3c611aff-a05e-4c54-a614-d174a61ce530"
      },
      "execution_count": null,
      "outputs": [
        {
          "output_type": "stream",
          "name": "stdout",
          "text": [
            "p\n",
            "y\n",
            "t\n",
            "h\n",
            "o\n",
            "n\n"
          ]
        }
      ]
    },
    {
      "cell_type": "code",
      "source": [
        "for i in range(1,11):\n",
        "  print(i,end='')"
      ],
      "metadata": {
        "colab": {
          "base_uri": "https://localhost:8080/"
        },
        "id": "wZLC96gd84cc",
        "outputId": "de93806e-471b-4ab1-acf5-a5b887d85c1e"
      },
      "execution_count": null,
      "outputs": [
        {
          "output_type": "stream",
          "name": "stdout",
          "text": [
            "12345678910"
          ]
        }
      ]
    },
    {
      "cell_type": "code",
      "source": [
        "n=int(input('n=?'))\n",
        "c=0\n",
        "for i in range(1,n+1):\n",
        "  if(i%2==1):\n",
        "    c=c+1\n",
        "    print(i,end=',')\n",
        "    print('no of odd=',c)"
      ],
      "metadata": {
        "colab": {
          "base_uri": "https://localhost:8080/"
        },
        "id": "Ioo9EBsR95Pe",
        "outputId": "88e85196-cbc5-49e2-dfa8-95055f4fa82d"
      },
      "execution_count": null,
      "outputs": [
        {
          "output_type": "stream",
          "name": "stdout",
          "text": [
            "n=?10\n",
            "1,no of odd= 1\n",
            "3,no of odd= 2\n",
            "5,no of odd= 3\n",
            "7,no of odd= 4\n",
            "9,no of odd= 5\n"
          ]
        }
      ]
    },
    {
      "cell_type": "code",
      "source": [
        "num=int(input('enter the number'))\n",
        "revnum=0\n",
        "while (num>0):\n",
        "  rem=num%10\n",
        "  revnum=(revnum*10)+rem\n",
        "  num=num//10\n",
        "  print('rev num is',revnum)\n",
        "\n"
      ],
      "metadata": {
        "colab": {
          "base_uri": "https://localhost:8080/"
        },
        "id": "dH3nfYTuBX2M",
        "outputId": "c06c399a-96f4-4e22-84a6-2d08265673ac"
      },
      "execution_count": null,
      "outputs": [
        {
          "output_type": "stream",
          "name": "stdout",
          "text": [
            "enter the number543\n",
            "rev num is 3\n",
            "rev num is 34\n",
            "rev num is 345\n"
          ]
        }
      ]
    },
    {
      "cell_type": "code",
      "source": [
        "# PATTERN QUESTION 01\n",
        "rows=int(input(\"enter the rows\"))\n",
        "for i in range(0,rows+1):\n",
        "  for j in range(i):\n",
        "    print(i,end=\" \")\n",
        "  print()"
      ],
      "metadata": {
        "colab": {
          "base_uri": "https://localhost:8080/"
        },
        "id": "Nd_f_yDZJSqV",
        "outputId": "7520c91e-87cc-4007-a9a2-880cbb24c347"
      },
      "execution_count": null,
      "outputs": [
        {
          "output_type": "stream",
          "name": "stdout",
          "text": [
            "enter the rows5\n",
            "\n",
            "1 \n",
            "2 2 \n",
            "3 3 3 \n",
            "4 4 4 4 \n",
            "5 5 5 5 5 \n"
          ]
        }
      ]
    },
    {
      "cell_type": "code",
      "source": [
        "# PATTERN QUESTION 02\n",
        "n=5\n",
        "for k in range(n,0,-1):\n",
        "  pu=k\n",
        "  for m in range(0,k):\n",
        "    print(pu,end=\" \")\n",
        "  print(\"\\r\")"
      ],
      "metadata": {
        "colab": {
          "base_uri": "https://localhost:8080/"
        },
        "id": "FGpHIHDgKDWz",
        "outputId": "62cb552d-4fa5-474a-8f9e-78f7e6f90976"
      },
      "execution_count": null,
      "outputs": [
        {
          "output_type": "stream",
          "name": "stdout",
          "text": [
            "5 5 5 5 5 \r\n",
            "4 4 4 4 \r\n",
            "3 3 3 \r\n",
            "2 2 \r\n",
            "1 \r\n"
          ]
        }
      ]
    },
    {
      "cell_type": "code",
      "source": [
        "# PATTERN QUESTION 03\n",
        "rows=5\n",
        "for i in range(1,6):\n",
        "    print(str(i)*i)\n",
        "\n",
        "for i in range(4,0,-1):\n",
        "    print(str(i)*i)"
      ],
      "metadata": {
        "colab": {
          "base_uri": "https://localhost:8080/"
        },
        "id": "jbmdX1I6Kmcc",
        "outputId": "6fa922d1-887f-48e9-fde0-4f6de24e0c34"
      },
      "execution_count": null,
      "outputs": [
        {
          "output_type": "stream",
          "name": "stdout",
          "text": [
            "1\n",
            "22\n",
            "333\n",
            "4444\n",
            "55555\n",
            "4444\n",
            "333\n",
            "22\n",
            "1\n"
          ]
        }
      ]
    },
    {
      "cell_type": "code",
      "source": [
        "# PATTERN QUESTION 04\n",
        "for i in range(5, 0, -1):\n",
        "  print(str(i)*i)\n",
        "\n",
        "for i in range(2, 6):\n",
        "  print(str(i)*i)"
      ],
      "metadata": {
        "colab": {
          "base_uri": "https://localhost:8080/"
        },
        "id": "OuYTrhWVN4Kx",
        "outputId": "950f6ba8-5b0b-4d26-e9e6-ba24927bd92b"
      },
      "execution_count": null,
      "outputs": [
        {
          "output_type": "stream",
          "name": "stdout",
          "text": [
            "55555\n",
            "4444\n",
            "333\n",
            "22\n",
            "1\n",
            "22\n",
            "333\n",
            "4444\n",
            "55555\n"
          ]
        }
      ]
    },
    {
      "cell_type": "code",
      "source": [
        "# PATTERN QUESTION 05\n",
        "b=0\n",
        "for i in range(rows,0,-1):\n",
        "  b+=1\n",
        "  for j in range(1,i+1):\n",
        "    print(b,end=\" \")\n",
        "  print(\"\\r\")\n"
      ],
      "metadata": {
        "colab": {
          "base_uri": "https://localhost:8080/"
        },
        "id": "0MQHLvDOPldR",
        "outputId": "5bcf075d-5798-4b6c-8a99-4dcde3b368ad"
      },
      "execution_count": null,
      "outputs": [
        {
          "output_type": "stream",
          "name": "stdout",
          "text": [
            "1 1 1 1 1 \r\n",
            "2 2 2 2 \r\n",
            "3 3 3 \r\n",
            "4 4 \r\n",
            "5 \r\n"
          ]
        }
      ]
    },
    {
      "cell_type": "code",
      "source": [
        "# PATTERN QUESTION 06\n",
        "for i in range(5,0,-1):\n",
        "   for j in range(6-i):\n",
        "    print(i,end=\" \")\n",
        "   print(\"\\r\")\n"
      ],
      "metadata": {
        "colab": {
          "base_uri": "https://localhost:8080/"
        },
        "id": "1d6EzxswQUI8",
        "outputId": "e877e385-b81f-49aa-e530-0aaa7eb8dce6"
      },
      "execution_count": null,
      "outputs": [
        {
          "output_type": "stream",
          "name": "stdout",
          "text": [
            "5 \r\n",
            "4 4 \r\n",
            "3 3 3 \r\n",
            "2 2 2 2 \r\n",
            "1 1 1 1 1 \r\n"
          ]
        }
      ]
    },
    {
      "cell_type": "code",
      "source": [
        "# PATTERN QUESTION 07\n",
        "for i in range(1,6):\n",
        "  for j in range(6-i):\n",
        "   print(i,end=\" \")\n",
        "  print(\" \")\n",
        "\n",
        "for i in range(4,0,-1):\n",
        "  for j in range(5-i):\n",
        "      print(i,end=\" \")\n",
        "  print(\" \")"
      ],
      "metadata": {
        "colab": {
          "base_uri": "https://localhost:8080/"
        },
        "id": "kfTtn3sUSa2i",
        "outputId": "6c6f7b3d-b7b0-4926-e3a8-c9b18b8d69e4"
      },
      "execution_count": null,
      "outputs": [
        {
          "output_type": "stream",
          "name": "stdout",
          "text": [
            "1 1 1 1 1  \n",
            "2 2 2 2  \n",
            "3 3 3  \n",
            "4 4  \n",
            "5  \n",
            "4  \n",
            "3 3  \n",
            "2 2 2  \n",
            "1 1 1 1  \n"
          ]
        }
      ]
    },
    {
      "cell_type": "code",
      "source": [
        "# PATTERN QUESTION 08\n",
        "p=rows\n",
        "for i in range(rows,0,-1):\n",
        "  for j in range(0,i):\n",
        "    print(p,end=\" \")\n",
        "  print(\"\\r\")"
      ],
      "metadata": {
        "colab": {
          "base_uri": "https://localhost:8080/"
        },
        "id": "dDuVJtcaWtMB",
        "outputId": "c8dea3aa-62f7-4443-f80e-16532a9f9e26"
      },
      "execution_count": null,
      "outputs": [
        {
          "output_type": "stream",
          "name": "stdout",
          "text": [
            "5 5 5 5 5 \r\n",
            "5 5 5 5 \r\n",
            "5 5 5 \r\n",
            "5 5 \r\n",
            "5 \r\n"
          ]
        }
      ]
    },
    {
      "cell_type": "code",
      "source": [
        "# PATTERN QUESTION 09\n",
        "for i in range(1,6):\n",
        "  for j in range(i,0,-1):\n",
        "    print(j,end=\" \")\n",
        "  print(\"\")"
      ],
      "metadata": {
        "colab": {
          "base_uri": "https://localhost:8080/"
        },
        "id": "4Dzs4u1VYRl1",
        "outputId": "ccdef897-9e58-478b-939f-c2c0780c2c72"
      },
      "execution_count": null,
      "outputs": [
        {
          "output_type": "stream",
          "name": "stdout",
          "text": [
            "1 \n",
            "2 1 \n",
            "3 2 1 \n",
            "4 3 2 1 \n",
            "5 4 3 2 1 \n"
          ]
        }
      ]
    },
    {
      "cell_type": "code",
      "source": [
        "# PATTERN QUESTION 10\n",
        "for i in range(5,0,-1):\n",
        "  for j in range(0,i+1):\n",
        "    print(j,end=\" \")\n",
        "  print(\"\")"
      ],
      "metadata": {
        "id": "fPmSfsfnZI9F",
        "colab": {
          "base_uri": "https://localhost:8080/"
        },
        "outputId": "dd874b10-50a8-4af8-b696-d6b74bafb7ba"
      },
      "execution_count": null,
      "outputs": [
        {
          "output_type": "stream",
          "name": "stdout",
          "text": [
            "0 1 2 3 4 5 \n",
            "0 1 2 3 4 \n",
            "0 1 2 3 \n",
            "0 1 2 \n",
            "0 1 \n"
          ]
        }
      ]
    },
    {
      "cell_type": "code",
      "source": [
        "# PATTERN QUESTION 11\n",
        "for i in range(65,70):\n",
        "  for j in range(65,i+1):\n",
        "    print(chr(i),end=\" \")\n",
        "  print(\"\")"
      ],
      "metadata": {
        "colab": {
          "base_uri": "https://localhost:8080/"
        },
        "id": "xY0JTpezeHlQ",
        "outputId": "d457e74c-8994-4571-e6d4-b0ade34eeb8a"
      },
      "execution_count": null,
      "outputs": [
        {
          "output_type": "stream",
          "name": "stdout",
          "text": [
            "A \n",
            "B B \n",
            "C C C \n",
            "D D D D \n",
            "E E E E E \n"
          ]
        }
      ]
    },
    {
      "cell_type": "code",
      "source": [
        "# PATTERN QUESTION 12\n",
        "for i in range(1,9):\n",
        "  for j in range(1,i+1):\n",
        "    s=i*j\n",
        "    print(i*j,end=\" \")\n",
        "\n",
        "  print(\"\\r\")"
      ],
      "metadata": {
        "colab": {
          "base_uri": "https://localhost:8080/"
        },
        "id": "IgtmucrBfaxR",
        "outputId": "e8495c4e-9891-4c1b-8dd9-88ee3ff71826"
      },
      "execution_count": null,
      "outputs": [
        {
          "output_type": "stream",
          "name": "stdout",
          "text": [
            "1 \r\n",
            "2 4 \r\n",
            "3 6 9 \r\n",
            "4 8 12 16 \r\n",
            "5 10 15 20 25 \r\n",
            "6 12 18 24 30 36 \r\n",
            "7 14 21 28 35 42 49 \r\n",
            "8 16 24 32 40 48 56 64 \r\n"
          ]
        }
      ]
    },
    {
      "cell_type": "code",
      "source": [
        "# PATTERN QUESTION 13\n",
        "l=(2*5)-2\n",
        "for i in range(0,5):\n",
        "  for j in range(0,l):\n",
        "     print(end=\" \")\n",
        "  l=l-2\n",
        "  for j in range(0,i+1):\n",
        "    print(\"*\",end=\" \")\n",
        "  print(\"\")"
      ],
      "metadata": {
        "colab": {
          "base_uri": "https://localhost:8080/"
        },
        "id": "NF3kOMG3giP3",
        "outputId": "bee3447c-0a66-4660-b993-3044d6ce7838"
      },
      "execution_count": null,
      "outputs": [
        {
          "output_type": "stream",
          "name": "stdout",
          "text": [
            "        * \n",
            "      * * \n",
            "    * * * \n",
            "  * * * * \n",
            "* * * * * \n"
          ]
        }
      ]
    },
    {
      "cell_type": "code",
      "source": [
        "# PATTERN QUESTION 14\n",
        "i=1\n",
        "while i<=5:\n",
        "  if i%2==0:\n",
        "    j=1\n",
        "    while j<=i:\n",
        "      print(\" * \",end=\" \")\n",
        "      j +=1\n",
        "  else:\n",
        "    j=1\n",
        "    while j<=i:\n",
        "      print(\" # \",end=\" \")\n",
        "      j +=1\n",
        "  print()\n",
        "  i +=1\n"
      ],
      "metadata": {
        "id": "G5hdZPbYimNJ",
        "colab": {
          "base_uri": "https://localhost:8080/"
        },
        "outputId": "28140ca5-ef1e-438d-c940-51ee5ac66652"
      },
      "execution_count": null,
      "outputs": [
        {
          "output_type": "stream",
          "name": "stdout",
          "text": [
            " #  \n",
            " *   *  \n",
            " #   #   #  \n",
            " *   *   *   *  \n",
            " #   #   #   #   #  \n"
          ]
        }
      ]
    },
    {
      "cell_type": "code",
      "source": [
        "# PATTERN QUESTION 15\n",
        "def print_pattern(rows):\n",
        "  for i in range(1, rows+1):\n",
        "    print(\" \" * (rows-i),end=\" \")\n",
        "    print(chr(64+i) * i)\n",
        "print_pattern(5)"
      ],
      "metadata": {
        "id": "G5DGZlzYn_gB",
        "colab": {
          "base_uri": "https://localhost:8080/"
        },
        "outputId": "db2e7239-3ea6-4d89-edf5-0e19fc294180"
      },
      "execution_count": null,
      "outputs": [
        {
          "output_type": "stream",
          "name": "stdout",
          "text": [
            "     A\n",
            "    BB\n",
            "   CCC\n",
            "  DDDD\n",
            " EEEEE\n"
          ]
        }
      ]
    }
  ]
}