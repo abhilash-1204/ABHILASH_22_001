{
  "nbformat": 4,
  "nbformat_minor": 0,
  "metadata": {
    "colab": {
      "provenance": [],
      "authorship_tag": "ABX9TyNuGD3FyXvZmPZx4zqsSKLh",
      "include_colab_link": true
    },
    "kernelspec": {
      "name": "python3",
      "display_name": "Python 3"
    },
    "language_info": {
      "name": "python"
    }
  },
  "cells": [
    {
      "cell_type": "markdown",
      "metadata": {
        "id": "view-in-github",
        "colab_type": "text"
      },
      "source": [
        "<a href=\"https://colab.research.google.com/github/abhilash-1204/ABHILASH_22_001/blob/main/Set_02.ipynb\" target=\"_parent\"><img src=\"https://colab.research.google.com/assets/colab-badge.svg\" alt=\"Open In Colab\"/></a>"
      ]
    },
    {
      "cell_type": "code",
      "execution_count": null,
      "metadata": {
        "colab": {
          "base_uri": "https://localhost:8080/"
        },
        "id": "dv_uD3yiDyYy",
        "outputId": "73e721d7-c700-477c-b738-b28d77537048"
      },
      "outputs": [
        {
          "output_type": "stream",
          "name": "stdout",
          "text": [
            "Enter a number: 15\n",
            "1,2,3,4,5,6,7,8,9,10,11,12,13,14,15,\b\n"
          ]
        }
      ],
      "source": [
        "#1 TO PRINT THE NUMBERS USING THE INPUT N\n",
        "n=int(input(\"Enter a number: \"))\n",
        "for i in range(1,n+1):\n",
        "  print(i,end=\",\")\n",
        "print(\"\\b\")"
      ]
    },
    {
      "cell_type": "code",
      "source": [
        "#2 TO PRINT THE NUMBERS USING THE INPUT N\n",
        "n=int(input(\"Enter a number:\"))\n",
        "for i in range(1,n+1,2):\n",
        "  print(i,end=\",\")\n",
        "print(\"\\b\")"
      ],
      "metadata": {
        "colab": {
          "base_uri": "https://localhost:8080/"
        },
        "id": "XXA_qehiFhRJ",
        "outputId": "7388aa39-761e-4c3b-f03e-4470f9ad218a"
      },
      "execution_count": null,
      "outputs": [
        {
          "output_type": "stream",
          "name": "stdout",
          "text": [
            "Enter a number:29\n",
            "1,3,5,7,9,11,13,15,17,19,21,23,25,27,29,\b\n"
          ]
        }
      ]
    },
    {
      "cell_type": "code",
      "source": [
        "#3 TO PRINT THE NUMBERS USING THE INPUT N\n",
        "n=int(input(\"Enter a number:\"))\n",
        "for i in range(2,n+1,2):\n",
        "  print(i,end=\",\")\n",
        "print(\"\\b\")"
      ],
      "metadata": {
        "colab": {
          "base_uri": "https://localhost:8080/"
        },
        "id": "EZHNOu-CG-lt",
        "outputId": "ea706b1d-25fe-4276-f73d-cbeea4815400"
      },
      "execution_count": null,
      "outputs": [
        {
          "output_type": "stream",
          "name": "stdout",
          "text": [
            "Enter a number:20\n",
            "2,4,6,8,10,12,14,16,18,20,\b\n"
          ]
        }
      ]
    },
    {
      "cell_type": "code",
      "source": [
        "#4 TO PRINT THE NUMBERS USING THE INPUT N\n",
        "n=int(input(\"Enter a number:\"))\n",
        "for i in range(1,n+1):\n",
        "  print(f\"{i}^2\",end=\",\")\n",
        "print(\"\\b\")"
      ],
      "metadata": {
        "colab": {
          "base_uri": "https://localhost:8080/"
        },
        "id": "NLUSZixsHUlB",
        "outputId": "00c48dc3-ed34-4ffc-f402-e7046da5de96"
      },
      "execution_count": null,
      "outputs": [
        {
          "output_type": "stream",
          "name": "stdout",
          "text": [
            "Enter a number:20\n",
            "1^2,2^2,3^2,4^2,5^2,6^2,7^2,8^2,9^2,10^2,11^2,12^2,13^2,14^2,15^2,16^2,17^2,18^2,19^2,20^2,\b\n"
          ]
        }
      ]
    },
    {
      "cell_type": "code",
      "source": [
        "#5 TO PRINT THE NUMBERS USING THE INPUT N\n",
        "n=int(input(\"Enter a number:\"))\n",
        "for i in range(1,n+1,2):\n",
        "  print(f\"{i}^2\",end=\",\")\n",
        "print(\"\\b\")"
      ],
      "metadata": {
        "colab": {
          "base_uri": "https://localhost:8080/"
        },
        "id": "RQ1V2GB9IXcM",
        "outputId": "ef913ada-94fd-499e-ea55-09d78df5536d"
      },
      "execution_count": null,
      "outputs": [
        {
          "output_type": "stream",
          "name": "stdout",
          "text": [
            "Enter a number:27\n",
            "1^2,3^2,5^2,7^2,9^2,11^2,13^2,15^2,17^2,19^2,21^2,23^2,25^2,27^2,\b\n"
          ]
        }
      ]
    },
    {
      "cell_type": "code",
      "source": [
        "#6 TO PRINT THE NUMBERS USING THE INPUT N\n",
        "n=int(input(\"Enter a number:\"))\n",
        "for i in range(2,n+1,2):\n",
        "  print(f\"{i}^2\",end=\",\")\n",
        "print(\"\\b\")"
      ],
      "metadata": {
        "colab": {
          "base_uri": "https://localhost:8080/"
        },
        "id": "0eM4DySVIoyK",
        "outputId": "fe630b7b-3af7-42de-d699-242e4f7ee695"
      },
      "execution_count": null,
      "outputs": [
        {
          "output_type": "stream",
          "name": "stdout",
          "text": [
            "Enter a number:30\n",
            "2^2,4^2,6^2,8^2,10^2,12^2,14^2,16^2,18^2,20^2,22^2,24^2,26^2,28^2,30^2,\b\n"
          ]
        }
      ]
    },
    {
      "cell_type": "code",
      "source": [
        "#7 TO PRINT THE NUMBERS USING THE INPUT N AND R\n",
        "n=int(input(\"Enter a number:\"))\n",
        "r=int(input(\"Enter a number:\"))\n",
        "for i in range(1,n+1):\n",
        "  print(f\"{i}^{r}\",end=\",\")\n",
        "print(\"\\b\")"
      ],
      "metadata": {
        "colab": {
          "base_uri": "https://localhost:8080/"
        },
        "id": "4iMrSuNCI4lR",
        "outputId": "a78934f3-2046-4a5e-af9a-99fd8b2865ec"
      },
      "execution_count": null,
      "outputs": [
        {
          "output_type": "stream",
          "name": "stdout",
          "text": [
            "Enter a number:25\n",
            "Enter a number:2\n",
            "1^2,2^2,3^2,4^2,5^2,6^2,7^2,8^2,9^2,10^2,11^2,12^2,13^2,14^2,15^2,16^2,17^2,18^2,19^2,20^2,21^2,22^2,23^2,24^2,25^2,\b\n"
          ]
        }
      ]
    },
    {
      "cell_type": "code",
      "source": [
        "#8 TO PRINT THE NUMBERS USING THE INPUT N AND R\n",
        "n=int(input(\"Enter a number:\"))\n",
        "r=int(input(\"Enter a number:\"))\n",
        "for i in range(1,n+1,2):\n",
        "  print(f\"{i}^{r}\",end=\",\")\n",
        "print(\"\\b\")"
      ],
      "metadata": {
        "colab": {
          "base_uri": "https://localhost:8080/"
        },
        "id": "Bqcjh-oCJoax",
        "outputId": "bb772590-60ce-4248-c434-070ff9e276d1"
      },
      "execution_count": null,
      "outputs": [
        {
          "output_type": "stream",
          "name": "stdout",
          "text": [
            "Enter a number:20\n",
            "Enter a number:3\n",
            "1^3,3^3,5^3,7^3,9^3,11^3,13^3,15^3,17^3,19^3,\b\n"
          ]
        }
      ]
    },
    {
      "cell_type": "code",
      "source": [
        "#9 TO PRINT THE NUMBERS USING THE INPUT N AND R\n",
        "n=int(input(\"Enter a number:\"))\n",
        "r=int(input(\"Enter a number:\"))\n",
        "for i in range(2,n+1,2):\n",
        "  print(f\"{i}^{r}\",end=\",\")\n",
        "print(\"\\b\")"
      ],
      "metadata": {
        "colab": {
          "base_uri": "https://localhost:8080/"
        },
        "id": "VBSfjbZrKFUi",
        "outputId": "b3e2f1d9-a2f4-4259-baaf-6309e9b8cb1f"
      },
      "execution_count": null,
      "outputs": [
        {
          "output_type": "stream",
          "name": "stdout",
          "text": [
            "Enter a number:26\n",
            "Enter a number:4\n",
            "2^4,4^4,6^4,8^4,10^4,12^4,14^4,16^4,18^4,20^4,22^4,24^4,26^4,\b\n"
          ]
        }
      ]
    },
    {
      "cell_type": "code",
      "source": [
        "#10 FIND FACTORIAL OF THE NUMBER USING THE INPUT N\n",
        "import math\n",
        "n=int(input(\"Enter a number:\"))\n",
        "factorial=math.factorial(n)\n",
        "print(f\"{n}!={factorial}\")"
      ],
      "metadata": {
        "colab": {
          "base_uri": "https://localhost:8080/"
        },
        "id": "VFZfrI9QKY5W",
        "outputId": "670efeef-b60c-4b50-e699-3a1cc2030b26"
      },
      "execution_count": null,
      "outputs": [
        {
          "output_type": "stream",
          "name": "stdout",
          "text": [
            "Enter a number:5\n",
            "5!=120\n"
          ]
        }
      ]
    },
    {
      "cell_type": "code",
      "source": [
        "#11 TO PRINT AND FIND FACTORIAL OF THE NUMBERS USING THE INPUT N\n",
        "import math\n",
        "n=int(input(\"Enter a number:\"))\n",
        "for i in range(1,n+1):\n",
        "  factorial=math.factorial(i)\n",
        "  print(f\"{i}!={factorial}\",end=\",\")\n",
        "print(\"\\b\")"
      ],
      "metadata": {
        "colab": {
          "base_uri": "https://localhost:8080/"
        },
        "id": "yUbtuxYULyEu",
        "outputId": "50368b8f-f867-4525-f699-0464a6524a7b"
      },
      "execution_count": null,
      "outputs": [
        {
          "output_type": "stream",
          "name": "stdout",
          "text": [
            "Enter a number:5\n",
            "1!=1,2!=2,3!=6,4!=24,5!=120,\b\n"
          ]
        }
      ]
    },
    {
      "cell_type": "code",
      "source": [
        "#12 TO PRINT AND FIND FACTORIAL OF THE NUMBERS USING THE INPUT N\n",
        "import math\n",
        "n=int(input(\"Enter a number:\"))\n",
        "for i in range(1,n+1,2):\n",
        "  factorial=math.factorial(i)\n",
        "  print(f\"{i}!={factorial}\",end=\",\")\n",
        "print(\"\\b\")"
      ],
      "metadata": {
        "colab": {
          "base_uri": "https://localhost:8080/"
        },
        "id": "CkC58E4qM6Ce",
        "outputId": "084d958e-1226-48cb-a5ff-4b8d48b2ae55"
      },
      "execution_count": null,
      "outputs": [
        {
          "output_type": "stream",
          "name": "stdout",
          "text": [
            "Enter a number:6\n",
            "1!=1,3!=6,5!=120,\b\n"
          ]
        }
      ]
    },
    {
      "cell_type": "code",
      "source": [
        "#13 TO PRINT AND FIND FACTORIAL OF THE NUMBERS USING THE INPUT N\n",
        "import math\n",
        "n=int(input(\"Enter a number:\"))\n",
        "for i in range(2,n+1,2):\n",
        "  factorial=math.factorial(i)\n",
        "  print(f\"{i}!={factorial}\",end=\",\")\n",
        "print(\"\\b\")"
      ],
      "metadata": {
        "colab": {
          "base_uri": "https://localhost:8080/"
        },
        "id": "zQV5r90zNCtx",
        "outputId": "afce48a8-82ec-426e-dc9c-5612b6c23ec9"
      },
      "execution_count": null,
      "outputs": [
        {
          "output_type": "stream",
          "name": "stdout",
          "text": [
            "Enter a number:8\n",
            "2!=2,4!=24,6!=720,8!=40320,\b\n"
          ]
        }
      ]
    },
    {
      "cell_type": "code",
      "source": [
        "#14 SUM OF NUMBERS USING THE INPUT N\n",
        "n=int(input(\"Enter a number:\"))\n",
        "sum=0;\n",
        "for i in range(1,n+1):\n",
        "  sum +=i\n",
        "print(f\"sum of numbers:{sum}\")"
      ],
      "metadata": {
        "colab": {
          "base_uri": "https://localhost:8080/"
        },
        "id": "T5p60388NMvs",
        "outputId": "bf8e4a27-478b-4f23-e4ed-de492ceeafcf"
      },
      "execution_count": null,
      "outputs": [
        {
          "output_type": "stream",
          "name": "stdout",
          "text": [
            "Enter a number:10\n",
            "sum of numbers:55\n"
          ]
        }
      ]
    },
    {
      "cell_type": "code",
      "source": [
        "#15 SUM OF NUMBERS USING THE INPUT N\n",
        "n=int(input(\"Enter a number:\"))\n",
        "sum=0;\n",
        "for i in range(1,n+1,2):\n",
        "  sum +=i\n",
        "print(f\"sum of numbers:{sum}\")"
      ],
      "metadata": {
        "colab": {
          "base_uri": "https://localhost:8080/"
        },
        "id": "F2fRf0YtOfvX",
        "outputId": "cb7435f7-bc8b-4029-94b1-af89534bebb3"
      },
      "execution_count": null,
      "outputs": [
        {
          "output_type": "stream",
          "name": "stdout",
          "text": [
            "Enter a number:6\n",
            "sum of numbers:9\n"
          ]
        }
      ]
    },
    {
      "cell_type": "code",
      "source": [
        "#16 SUM OF NUMBERS USING THE INPUT N\n",
        "n=int(input(\"Enter a number:\"))\n",
        "sum=0;\n",
        "for i in range(2,n+1,2):\n",
        "  sum +=i\n",
        "print(f\"sum of numbers:{sum}\")"
      ],
      "metadata": {
        "colab": {
          "base_uri": "https://localhost:8080/"
        },
        "id": "MPtQogFzOriU",
        "outputId": "977d56e5-2880-41d6-f313-3c003b6d8656"
      },
      "execution_count": null,
      "outputs": [
        {
          "output_type": "stream",
          "name": "stdout",
          "text": [
            "Enter a number:10\n",
            "sum of numbers:30\n"
          ]
        }
      ]
    },
    {
      "cell_type": "code",
      "source": [
        "#17 SUM OF NUMBERS USING THE INPUT N\n",
        "n=int(input(\"Enter a number:\"))\n",
        "sum=0\n",
        "for i in range(1,n+1):\n",
        "  sum +=i**2\n",
        "print(f\"sum of numbers:{sum}\")"
      ],
      "metadata": {
        "colab": {
          "base_uri": "https://localhost:8080/"
        },
        "id": "YY-uwTL2O2QM",
        "outputId": "f55b2fe4-3949-4296-e2d5-05eebe7fecd4"
      },
      "execution_count": null,
      "outputs": [
        {
          "output_type": "stream",
          "name": "stdout",
          "text": [
            "Enter a number:10\n",
            "sum of numbers:385\n"
          ]
        }
      ]
    },
    {
      "cell_type": "code",
      "source": [
        "#18 SUM OF NUMBERS USING THE INPUT N\n",
        "n=int(input(\"Enter a number:\"))\n",
        "sum=0\n",
        "for i in range(1,n+1,2):\n",
        "  sum +=i**2\n",
        "print(f\"sum of numbers:{sum}\")"
      ],
      "metadata": {
        "colab": {
          "base_uri": "https://localhost:8080/"
        },
        "id": "5fmKOtvSQWKD",
        "outputId": "4a274695-b70a-4013-ed0a-537b54662045"
      },
      "execution_count": null,
      "outputs": [
        {
          "output_type": "stream",
          "name": "stdout",
          "text": [
            "Enter a number:9\n",
            "sum of numbers:165\n"
          ]
        }
      ]
    },
    {
      "cell_type": "code",
      "source": [
        "#19 SUM OF NUMBERS USING THE INPUT N\n",
        "n=int(input(\"Enter a number:\"))\n",
        "sum=0\n",
        "for i in range(2,n+1,2):\n",
        "  sum +=i**2\n",
        "print(f\"sum of numbers:{sum}\")"
      ],
      "metadata": {
        "colab": {
          "base_uri": "https://localhost:8080/"
        },
        "id": "UV-r82QhQ2um",
        "outputId": "4686f32c-e791-4831-ca84-d40b6bc54cd7"
      },
      "execution_count": null,
      "outputs": [
        {
          "output_type": "stream",
          "name": "stdout",
          "text": [
            "Enter a number:8\n",
            "sum of numbers:120\n"
          ]
        }
      ]
    },
    {
      "cell_type": "code",
      "source": [
        "#20 SUM OF NUMBERS USING THE INPUT N AND R\n",
        "n=int(input(\"Enter a number:\"))\n",
        "r=int(input(\"Enter a number:\"))\n",
        "sum=0\n",
        "for i in range(1,n+1):\n",
        "  sum +=i**r\n",
        "print(f\"sum of numbers:{sum}\")"
      ],
      "metadata": {
        "colab": {
          "base_uri": "https://localhost:8080/"
        },
        "id": "THkEJ6XyRB6G",
        "outputId": "77e68017-71bd-499d-bbb4-2a873f0088bd"
      },
      "execution_count": null,
      "outputs": [
        {
          "output_type": "stream",
          "name": "stdout",
          "text": [
            "Enter a number:15\n",
            "Enter a number:2\n",
            "sum of numbers:1240\n"
          ]
        }
      ]
    },
    {
      "cell_type": "code",
      "source": [
        "#21 SUM OF NUMBERS USING THE INPUT N AND R\n",
        "n=int(input(\"Enter a number:\"))\n",
        "r=int(input(\"Enter a number:\"))\n",
        "sum=0\n",
        "for i in range(1,n+1,2):\n",
        "  sum +=i**r\n",
        "print(f\"sum of numbers:{sum}\")"
      ],
      "metadata": {
        "colab": {
          "base_uri": "https://localhost:8080/"
        },
        "id": "j6YecpDVRu2Y",
        "outputId": "e92ca857-b33f-4735-9388-ee81f215a5c3"
      },
      "execution_count": null,
      "outputs": [
        {
          "output_type": "stream",
          "name": "stdout",
          "text": [
            "Enter a number:5\n",
            "Enter a number:2\n",
            "sum of numbers:35\n"
          ]
        }
      ]
    },
    {
      "cell_type": "code",
      "source": [
        "#22 SUM OF NUMBERS USING THE INPUT N AND R\n",
        "n=int(input(\"Enter a number:\"))\n",
        "r=int(input(\"Enter a number:\"))\n",
        "sum=0\n",
        "for i in range(2,n+1,2):\n",
        "  sum +=i**r\n",
        "print(f\"sum of numbers:{sum}\")"
      ],
      "metadata": {
        "colab": {
          "base_uri": "https://localhost:8080/"
        },
        "id": "330PgGhdR6OV",
        "outputId": "affcc1c5-f040-428b-99f2-32b91b1a2cfd"
      },
      "execution_count": null,
      "outputs": [
        {
          "output_type": "stream",
          "name": "stdout",
          "text": [
            "Enter a number:9\n",
            "Enter a number:2\n",
            "sum of numbers:120\n"
          ]
        }
      ]
    },
    {
      "cell_type": "code",
      "source": [
        "#23 SUM OF FCATORIAL NUMBERS USING THE INPUT N\n",
        "import math\n",
        "n=int(input(\"Enter a number:\"))\n",
        "sum=0;\n",
        "for i in range(1,n+1):\n",
        "  sum +=math.factorial(i)\n",
        "print(f\"sum of numbers:{sum}\")"
      ],
      "metadata": {
        "colab": {
          "base_uri": "https://localhost:8080/"
        },
        "id": "jo0-PYp2SJbc",
        "outputId": "5f299d07-4056-437a-ebc4-3628d37e9fcc"
      },
      "execution_count": null,
      "outputs": [
        {
          "output_type": "stream",
          "name": "stdout",
          "text": [
            "Enter a number:8\n",
            "sum of numbers:46233\n"
          ]
        }
      ]
    },
    {
      "cell_type": "code",
      "source": [
        "#24 SUM OF FCATORIAL NUMBERS USING THE INPUT N\n",
        "import math\n",
        "n=int(input(\"Enter a number:\"))\n",
        "sum=0;\n",
        "for i in range(1,n+1,2):\n",
        "  sum +=math.factorial(i)\n",
        "print(f\"sum of numbers:{sum}\")"
      ],
      "metadata": {
        "colab": {
          "base_uri": "https://localhost:8080/"
        },
        "id": "_0pMJPc3T9qp",
        "outputId": "2173df86-3eaf-44e5-ca6f-e90654aa8c8e"
      },
      "execution_count": null,
      "outputs": [
        {
          "output_type": "stream",
          "name": "stdout",
          "text": [
            "Enter a number:10\n",
            "sum of numbers:368047\n"
          ]
        }
      ]
    },
    {
      "cell_type": "code",
      "source": [
        "#25 SUM OF FCATORIAL NUMBERS USING THE INPUT N\n",
        "import math\n",
        "n=int(input(\"Enter a number:\"))\n",
        "sum=0;\n",
        "for i in range(2,n+1,2):\n",
        "  sum +=math.factorial(i)\n",
        "print(f\"sum of numbers:{sum}\")"
      ],
      "metadata": {
        "colab": {
          "base_uri": "https://localhost:8080/"
        },
        "id": "rIwRzdBtUjx3",
        "outputId": "977cb254-4bd4-4a9f-ec03-fa44424f2a33"
      },
      "execution_count": null,
      "outputs": [
        {
          "output_type": "stream",
          "name": "stdout",
          "text": [
            "Enter a number:8\n",
            "sum of numbers:41066\n"
          ]
        }
      ]
    },
    {
      "cell_type": "code",
      "source": [
        "#26\n",
        "import math\n",
        "n=int(input(\"Enter a number:\"))\n",
        "x=int(input(\"Enter value of x:\"))\n",
        "sum=0\n",
        "for i in range(1,n+1):\n",
        "  p=(n*(n-1)*x**i)/math.factorial(i)\n",
        "  sum +=p\n",
        "print(f\"sum of numbers:{sum}\")"
      ],
      "metadata": {
        "colab": {
          "base_uri": "https://localhost:8080/"
        },
        "id": "XAhCN44GU6oS",
        "outputId": "5277b7f4-d151-4816-800a-dec21f639505"
      },
      "execution_count": null,
      "outputs": [
        {
          "output_type": "stream",
          "name": "stdout",
          "text": [
            "Enter a number:10\n",
            "Enter value of x:2\n",
            "sum of numbers:575.0095238095238\n"
          ]
        }
      ]
    },
    {
      "cell_type": "code",
      "source": [
        "#27\n",
        "import math\n",
        "def series_sum(n):\n",
        "  result=1\n",
        "  factorial=1\n",
        "  for i in range(1,n+1):\n",
        "    factorial *=i\n",
        "    term=(-1)**i / factorial\n",
        "    result += term\n",
        "  return result\n",
        "n=int(input(\"Enter the value of n:\"))\n",
        "print(\"Sum of series:\",series_sum(n))"
      ],
      "metadata": {
        "colab": {
          "base_uri": "https://localhost:8080/"
        },
        "id": "ydsmTT31W7oE",
        "outputId": "3c12f095-0da5-4d0d-f4d9-430a38b1f5e3"
      },
      "execution_count": null,
      "outputs": [
        {
          "output_type": "stream",
          "name": "stdout",
          "text": [
            "Enter the value of n:5\n",
            "Sum of series: 0.3666666666666667\n"
          ]
        }
      ]
    },
    {
      "cell_type": "code",
      "source": [
        "#28\n",
        "def factorial(n):\n",
        "  if n==0:\n",
        "    return 1\n",
        "  else:\n",
        "    return n*factorial(n-1)\n",
        "def exponent_series(x,n):\n",
        "  result=1\n",
        "  for i in range(1,n+1):\n",
        "    result += (x**i)/factorial(i)\n",
        "  return result\n",
        "def main():\n",
        "  x=float(input(\"Enter the value of x:\"))\n",
        "  n=int(input(\"Enter the number of terms in series:\"))\n",
        "  print(\"Series for e^{}:\".format(x))\n",
        "  for i in range(1,n+1):\n",
        "    if i==1:\n",
        "      print(\"1\",end=\"\")\n",
        "    else:\n",
        "      print(\"+{}^{}/{}!\".format(x,i,i),end=\"\")\n",
        "  print(\"\\n Result:\",exponent_series(x,n))\n",
        "if __name__==\"__main__\":\n",
        "  main()"
      ],
      "metadata": {
        "colab": {
          "base_uri": "https://localhost:8080/"
        },
        "id": "FAg47RAo3O41",
        "outputId": "6c3b8e4c-cf70-4b45-a82c-58fa68b11294"
      },
      "execution_count": null,
      "outputs": [
        {
          "output_type": "stream",
          "name": "stdout",
          "text": [
            "Enter the value of x:3\n",
            "Enter the number of terms in series:9\n",
            "Series for e^3.0:\n",
            "1+3.0^2/2!+3.0^3/3!+3.0^4/4!+3.0^5/5!+3.0^6/6!+3.0^7/7!+3.0^8/8!+3.0^9/9!\n",
            " Result: 20.063392857142855\n"
          ]
        }
      ]
    },
    {
      "cell_type": "code",
      "source": [
        "#29\n",
        "def factorial(n):\n",
        "  if n==0:\n",
        "    return 1\n",
        "  else:\n",
        "    return n*factorial(n-1)\n",
        "def series_num(n):\n",
        "  result=1\n",
        "  for i in range(1,n+1):\n",
        "    result += 1/factorial(i)\n",
        "  return result\n",
        "def main():\n",
        "  n=int(input(\"Enter the number of terms in series:\"))\n",
        "  print(\"Series for S:\")\n",
        "  for i in range(1,n+1):\n",
        "    if i==1:\n",
        "      print(\"1\",end=\"\")\n",
        "    else:\n",
        "      print(\"+1/{}!\".format(i),end=\"\")\n",
        "  print(\"\\n Result:\",series_num(n))\n",
        "if __name__==\"__main__\":\n",
        "  main()"
      ],
      "metadata": {
        "colab": {
          "base_uri": "https://localhost:8080/"
        },
        "id": "nUAUEYhW5he1",
        "outputId": "076fee47-c129-4286-8757-06b8fd06ad18"
      },
      "execution_count": null,
      "outputs": [
        {
          "output_type": "stream",
          "name": "stdout",
          "text": [
            "Enter the number of terms in series:9\n",
            "Series for S:\n",
            "1+1/2!+1/3!+1/4!+1/5!+1/6!+1/7!+1/8!+1/9!\n",
            " Result: 2.7182815255731922\n"
          ]
        }
      ]
    },
    {
      "cell_type": "code",
      "source": [
        "#30\n",
        "def factorial(n):\n",
        "  if n==0:\n",
        "    return 1\n",
        "  else:\n",
        "    return n*factorial(n-1)\n",
        "def sin_series(x,n):\n",
        "  result=x\n",
        "  sign=-1\n",
        "  for i in range(1,n+1):\n",
        "    if i%2!=0:\n",
        "       result += (sign*(x**(2*i+1)))/factorial(2*i+1)\n",
        "       sign *=-1\n",
        "  return result\n",
        "def main():\n",
        "  x=float(input(\"Enter the value of x in radians:\"))\n",
        "  n=int(input(\"Enter the number of terms in series:\"))\n",
        "  print(\"Series for sin({}):\".format(x))\n",
        "  for i in range(1,n+1):\n",
        "    if i==1:\n",
        "      print(\"{}\".format(x),end=\"\")\n",
        "    else:\n",
        "      print(\"+({})^{}/{}!\".format(x,2*i+1,2*i+1),end=\"\")\n",
        "  print(\"\\n Result:\",sin_series(x,n))\n",
        "if __name__==\"__main__\":\n",
        "  main()"
      ],
      "metadata": {
        "colab": {
          "base_uri": "https://localhost:8080/"
        },
        "id": "ysFXWmnv6tje",
        "outputId": "92fc84d9-36ff-4714-c0b9-02c4c10fd1f3"
      },
      "execution_count": null,
      "outputs": [
        {
          "output_type": "stream",
          "name": "stdout",
          "text": [
            "Enter the value of x in radians:5\n",
            "Enter the number of terms in series:8\n",
            "Series for sin(5.0):\n",
            "5.0+(5.0)^5/5!+(5.0)^7/7!+(5.0)^9/9!+(5.0)^11/11!+(5.0)^13/13!+(5.0)^15/15!+(5.0)^17/17!\n",
            " Result: -1.5322514579371176\n"
          ]
        }
      ]
    },
    {
      "cell_type": "code",
      "source": [
        "#31\n",
        "def factorial(n):\n",
        "  if n==0:\n",
        "    return 1\n",
        "  else:\n",
        "    return n*factorial(n-1)\n",
        "def cos_series(x,n):\n",
        "  result=1\n",
        "  sign=-1\n",
        "  for i in range(1,n+1):\n",
        "    if i%2!=0:\n",
        "       result += (sign*(x**(2*i)))/factorial(2*i)\n",
        "       sign *=-1\n",
        "  return result\n",
        "def main():\n",
        "  x=float(input(\"Enter the value of x in radians:\"))\n",
        "  n=int(input(\"Enter the number of terms in series:\"))\n",
        "  print(\"Series for cos({}):\".format(x))\n",
        "  for i in range(1,n+1):\n",
        "    if i==1:\n",
        "      print(\"1\",end=\"\")\n",
        "    else:\n",
        "      if i%2==0:\n",
        "         print(\"-({})^{}/{}!\".format(x,2*i,2*i),end=\"\")\n",
        "      else:\n",
        "         print(\"+({})^{}/{}!\".format(x,2*i,2*i),end=\"\")\n",
        "  print(\"\\n Result:\",cos_series(x,n))\n",
        "if __name__==\"__main__\":\n",
        "  main()"
      ],
      "metadata": {
        "colab": {
          "base_uri": "https://localhost:8080/"
        },
        "id": "sZFfY3ZC8OFH",
        "outputId": "422727d3-4094-46b1-aafc-019ec79dcbb7"
      },
      "execution_count": null,
      "outputs": [
        {
          "output_type": "stream",
          "name": "stdout",
          "text": [
            "Enter the value of x in radians:2\n",
            "Enter the number of terms in series:10\n",
            "Series for cos(2.0):\n",
            "1-(2.0)^4/4!+(2.0)^6/6!-(2.0)^8/8!+(2.0)^10/10!-(2.0)^12/12!+(2.0)^14/14!-(2.0)^16/16!+(2.0)^18/18!-(2.0)^20/20!\n",
            " Result: -0.9113931101642136\n"
          ]
        }
      ]
    },
    {
      "cell_type": "code",
      "source": [
        "#32\n",
        "import math\n",
        "n=int(input(\"Enter a number:\"))\n",
        "sum=1;\n",
        "for i in range(1,n+1):\n",
        "  sum +=1/math.factorial(i)\n",
        "print(f\"sum of numbers:{sum}\")"
      ],
      "metadata": {
        "colab": {
          "base_uri": "https://localhost:8080/"
        },
        "id": "zGnk4g5PZSPn",
        "outputId": "7e3dc543-4489-49a7-b83e-4c0b46e67d02"
      },
      "execution_count": null,
      "outputs": [
        {
          "output_type": "stream",
          "name": "stdout",
          "text": [
            "Enter a number:9\n",
            "sum of numbers:2.7182815255731922\n"
          ]
        }
      ]
    },
    {
      "cell_type": "code",
      "source": [
        "#33\n",
        "import math\n",
        "n=int(input(\"Enter a number:\"))\n",
        "sum=1;\n",
        "for i in range(1,n+1,2):\n",
        "  sum +=1/math.factorial(i)\n",
        "print(f\"sum of numbers:{sum}\")"
      ],
      "metadata": {
        "colab": {
          "base_uri": "https://localhost:8080/"
        },
        "id": "m0qfNhXPbjdp",
        "outputId": "cdc7914e-6422-4719-ef1b-ab1f690921db"
      },
      "execution_count": null,
      "outputs": [
        {
          "output_type": "stream",
          "name": "stdout",
          "text": [
            "Enter a number:9\n",
            "sum of numbers:2.175201168430335\n"
          ]
        }
      ]
    },
    {
      "cell_type": "code",
      "source": [
        "#34\n",
        "import math\n",
        "n=int(input(\"Enter a number:\"))\n",
        "sum=1;\n",
        "for i in range(2,n+1,2):\n",
        "  sum +=1/math.factorial(i)\n",
        "print(f\"sum of numbers:{sum}\")"
      ],
      "metadata": {
        "colab": {
          "base_uri": "https://localhost:8080/"
        },
        "id": "qQZ3Ty98cyNc",
        "outputId": "cbb770f9-8839-4a19-d5ee-378973fdb534"
      },
      "execution_count": null,
      "outputs": [
        {
          "output_type": "stream",
          "name": "stdout",
          "text": [
            "Enter a number:8\n",
            "sum of numbers:1.5430803571428573\n"
          ]
        }
      ]
    },
    {
      "cell_type": "code",
      "source": [
        "#35 TO PRINT THE FIBONACCI SERIES\n",
        "n=int(input(\"Enter a number:\"))\n",
        "a=1\n",
        "b=1\n",
        "print(a,end=\",\")\n",
        "print(b,end=\",\")\n",
        "for i in range(n-2):\n",
        "  c=a+b\n",
        "  print(c,end=\",\")\n",
        "  a,b=b,c\n"
      ],
      "metadata": {
        "colab": {
          "base_uri": "https://localhost:8080/"
        },
        "id": "QoUxEGM1d-f_",
        "outputId": "e6fee8d1-5b3e-49fe-d0f8-aeb125f288af"
      },
      "execution_count": null,
      "outputs": [
        {
          "output_type": "stream",
          "name": "stdout",
          "text": [
            "Enter a number:10\n",
            "1,1,2,3,5,8,13,21,34,55,"
          ]
        }
      ]
    },
    {
      "cell_type": "code",
      "source": [
        "#36 TO PRINT AND FIND THE SUM OF FIBONACCI SERIES\n",
        "n=int(input(\"Enter a number:\"))\n",
        "a=1\n",
        "b=1\n",
        "sum=0\n",
        "sum +=a\n",
        "sum +=b\n",
        "for i in range(n-2):\n",
        "  c=a+b\n",
        "  sum +=c\n",
        "  a,b=b,c\n",
        "print(f\"sum of fibonacci series:{sum}\")"
      ],
      "metadata": {
        "colab": {
          "base_uri": "https://localhost:8080/"
        },
        "id": "KUMlBdT8htAQ",
        "outputId": "7474b2ad-68fb-410a-faef-140f56f21b3a"
      },
      "execution_count": null,
      "outputs": [
        {
          "output_type": "stream",
          "name": "stdout",
          "text": [
            "Enter a number:10\n",
            "sum of fibonacci series:143\n"
          ]
        }
      ]
    }
  ]
}