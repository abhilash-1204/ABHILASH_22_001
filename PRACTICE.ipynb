{
  "nbformat": 4,
  "nbformat_minor": 0,
  "metadata": {
    "colab": {
      "provenance": [],
      "authorship_tag": "ABX9TyNKO999LmgHlD/c4AHwzbjt",
      "include_colab_link": true
    },
    "kernelspec": {
      "name": "python3",
      "display_name": "Python 3"
    },
    "language_info": {
      "name": "python"
    }
  },
  "cells": [
    {
      "cell_type": "markdown",
      "metadata": {
        "id": "view-in-github",
        "colab_type": "text"
      },
      "source": [
        "<a href=\"https://colab.research.google.com/github/abhilash-1204/ABHILASH_22_001/blob/main/PRACTICE.ipynb\" target=\"_parent\"><img src=\"https://colab.research.google.com/assets/colab-badge.svg\" alt=\"Open In Colab\"/></a>"
      ]
    },
    {
      "cell_type": "code",
      "execution_count": null,
      "metadata": {
        "colab": {
          "base_uri": "https://localhost:8080/"
        },
        "id": "0UeGtdIOsdis",
        "outputId": "a4903a59-acbe-46e6-ecd2-30b9cc621819"
      },
      "outputs": [
        {
          "output_type": "stream",
          "name": "stdout",
          "text": [
            "A\n",
            "B\n",
            "H\n",
            "L\n",
            "A\n",
            "S\n",
            "H\n"
          ]
        }
      ],
      "source": [
        "for var in \"ABHILASH\":\n",
        "  if var==\"I\":\n",
        "    continue\n",
        "  print(var)\n"
      ]
    },
    {
      "cell_type": "code",
      "source": [
        "for i in range(10):\n",
        "  print(i)\n",
        "  if i==2:\n",
        "    break"
      ],
      "metadata": {
        "colab": {
          "base_uri": "https://localhost:8080/"
        },
        "id": "jcLS2-p8usuP",
        "outputId": "c4f4fc16-8e15-4b65-e264-9a69983af947"
      },
      "execution_count": null,
      "outputs": [
        {
          "output_type": "stream",
          "name": "stdout",
          "text": [
            "0\n",
            "1\n",
            "2\n"
          ]
        }
      ]
    },
    {
      "cell_type": "code",
      "source": [
        "x=abs(-7.25)\n",
        "print(x)\n"
      ],
      "metadata": {
        "colab": {
          "base_uri": "https://localhost:8080/"
        },
        "id": "R6yqbPy8wQJk",
        "outputId": "cf59c9aa-3a99-42e1-95ee-cdc75500e876"
      },
      "execution_count": null,
      "outputs": [
        {
          "output_type": "stream",
          "name": "stdout",
          "text": [
            "7.25\n"
          ]
        }
      ]
    },
    {
      "cell_type": "code",
      "source": [],
      "metadata": {
        "id": "aKmsfhWbxCi0"
      },
      "execution_count": null,
      "outputs": []
    },
    {
      "cell_type": "code",
      "source": [
        "list=[0,2,2]\n",
        "a=all(list)\n",
        "print(a)"
      ],
      "metadata": {
        "colab": {
          "base_uri": "https://localhost:8080/"
        },
        "outputId": "49aa271d-4c7a-46cd-d707-3694acb32331",
        "id": "a3e5vvwLxgZs"
      },
      "execution_count": null,
      "outputs": [
        {
          "output_type": "stream",
          "name": "stdout",
          "text": [
            "False\n"
          ]
        }
      ]
    },
    {
      "cell_type": "code",
      "source": [
        "tuple=(0,1,False)\n",
        "a=any(tuple)\n",
        "print(a)"
      ],
      "metadata": {
        "colab": {
          "base_uri": "https://localhost:8080/"
        },
        "id": "__boOrjsxtpj",
        "outputId": "b9d6a121-a297-4293-efdb-dc151fdd8566"
      },
      "execution_count": null,
      "outputs": [
        {
          "output_type": "stream",
          "name": "stdout",
          "text": [
            "True\n"
          ]
        }
      ]
    },
    {
      "cell_type": "code",
      "source": [
        "a=ascii(\"Mostly Sane\")\n",
        "print(a)"
      ],
      "metadata": {
        "colab": {
          "base_uri": "https://localhost:8080/"
        },
        "id": "tEzcWQ3HyQNG",
        "outputId": "92c5dc67-0fa4-4f32-d3fa-8a83a7d19f1b"
      },
      "execution_count": null,
      "outputs": [
        {
          "output_type": "stream",
          "name": "stdout",
          "text": [
            "'Mostly Sane'\n"
          ]
        }
      ]
    },
    {
      "cell_type": "code",
      "source": [
        "a=bin(30)\n",
        "print(a)"
      ],
      "metadata": {
        "colab": {
          "base_uri": "https://localhost:8080/"
        },
        "id": "xWBJbzuqyjZT",
        "outputId": "c9ba2a6a-dd00-422c-9180-da582ffc0191"
      },
      "execution_count": null,
      "outputs": [
        {
          "output_type": "stream",
          "name": "stdout",
          "text": [
            "0b11110\n"
          ]
        }
      ]
    },
    {
      "cell_type": "code",
      "source": [
        "a=bool(22)\n",
        "print(a)"
      ],
      "metadata": {
        "colab": {
          "base_uri": "https://localhost:8080/"
        },
        "id": "V6CVuSwZyqGq",
        "outputId": "471846f9-5f53-4b8a-9903-2f01841facc4"
      },
      "execution_count": null,
      "outputs": [
        {
          "output_type": "stream",
          "name": "stdout",
          "text": [
            "True\n"
          ]
        }
      ]
    },
    {
      "cell_type": "code",
      "source": [
        "a=bytearray(22)\n",
        "print(a)"
      ],
      "metadata": {
        "colab": {
          "base_uri": "https://localhost:8080/"
        },
        "id": "7f86d0bJyxAC",
        "outputId": "95325039-ec19-4146-ed0b-78fbcdc9e233"
      },
      "execution_count": null,
      "outputs": [
        {
          "output_type": "stream",
          "name": "stdout",
          "text": [
            "bytearray(b'\\x00\\x00\\x00\\x00\\x00\\x00\\x00\\x00\\x00\\x00\\x00\\x00\\x00\\x00\\x00\\x00\\x00\\x00\\x00\\x00\\x00\\x00')\n"
          ]
        }
      ]
    },
    {
      "cell_type": "code",
      "source": [
        "b=5\n",
        "print(callable(a))"
      ],
      "metadata": {
        "colab": {
          "base_uri": "https://localhost:8080/"
        },
        "id": "kyBlv0_Jy4q9",
        "outputId": "cb521700-01dd-4406-929f-27eb3c0c0e41"
      },
      "execution_count": null,
      "outputs": [
        {
          "output_type": "stream",
          "name": "stdout",
          "text": [
            "False\n"
          ]
        }
      ]
    },
    {
      "cell_type": "code",
      "source": [
        "a=chr(87)\n",
        "print(a)"
      ],
      "metadata": {
        "colab": {
          "base_uri": "https://localhost:8080/"
        },
        "id": "X6jiPaOnzD7a",
        "outputId": "43e6eea2-6f99-4ca8-9a51-f773cf4241ee"
      },
      "execution_count": null,
      "outputs": [
        {
          "output_type": "stream",
          "name": "stdout",
          "text": [
            "W\n"
          ]
        }
      ]
    },
    {
      "cell_type": "code",
      "source": [
        "a=compile('print(45)','test','eval')\n",
        "exec(a)"
      ],
      "metadata": {
        "colab": {
          "base_uri": "https://localhost:8080/"
        },
        "id": "bU8nwtBmzJ5R",
        "outputId": "19592e37-e28c-4350-df58-9bea7f12185c"
      },
      "execution_count": null,
      "outputs": [
        {
          "output_type": "stream",
          "name": "stdout",
          "text": [
            "45\n"
          ]
        }
      ]
    },
    {
      "cell_type": "code",
      "source": [
        "a=complex(2,7)\n",
        "print(a)"
      ],
      "metadata": {
        "colab": {
          "base_uri": "https://localhost:8080/"
        },
        "id": "VSZjPA0JzZ3W",
        "outputId": "ee081e0f-1089-470f-cd21-02a213c93bf0"
      },
      "execution_count": null,
      "outputs": [
        {
          "output_type": "stream",
          "name": "stdout",
          "text": [
            "(2+7j)\n"
          ]
        }
      ]
    },
    {
      "cell_type": "code",
      "source": [
        "a=dict(name=\"jaydon\",mob=182182922,country=\"canada\")\n",
        "print(a)"
      ],
      "metadata": {
        "colab": {
          "base_uri": "https://localhost:8080/"
        },
        "id": "Ntrme6NRzlqN",
        "outputId": "40574b17-f789-484a-e808-30b4b3a9c144"
      },
      "execution_count": null,
      "outputs": [
        {
          "output_type": "stream",
          "name": "stdout",
          "text": [
            "{'name': 'jaydon', 'mob': 182182922, 'country': 'canada'}\n"
          ]
        }
      ]
    },
    {
      "cell_type": "code",
      "source": [
        "class User:\n",
        " name=\"jaydon\"\n",
        " mob=182182922\n",
        " country=\"canada\"\n",
        "print(dir(User))"
      ],
      "metadata": {
        "colab": {
          "base_uri": "https://localhost:8080/"
        },
        "id": "aGW2DPDF0dbT",
        "outputId": "b79ab29d-1be8-4c2b-d2aa-d330645378be"
      },
      "execution_count": null,
      "outputs": [
        {
          "output_type": "stream",
          "name": "stdout",
          "text": [
            "['__class__', '__delattr__', '__dict__', '__dir__', '__doc__', '__eq__', '__format__', '__ge__', '__getattribute__', '__gt__', '__hash__', '__init__', '__init_subclass__', '__le__', '__lt__', '__module__', '__ne__', '__new__', '__reduce__', '__reduce_ex__', '__repr__', '__setattr__', '__sizeof__', '__str__', '__subclasshook__', '__weakref__', 'country', 'mob', 'name']\n"
          ]
        }
      ]
    },
    {
      "cell_type": "code",
      "source": [
        "# User defined function\n",
        "def show():\n",
        "  print('HELLO CSE')\n",
        "\n",
        "\n",
        "show()"
      ],
      "metadata": {
        "colab": {
          "base_uri": "https://localhost:8080/"
        },
        "id": "ta_1Gb4a1SUR",
        "outputId": "37b0b25f-f50a-472a-fb73-45b432d54717"
      },
      "execution_count": null,
      "outputs": [
        {
          "output_type": "stream",
          "name": "stdout",
          "text": [
            "HELLO CSE\n"
          ]
        }
      ]
    },
    {
      "cell_type": "code",
      "source": [
        "# Passing parameters in User defined function\n",
        "def ADD(a,b):\n",
        "  c=a+b\n",
        "  print('SUM OF TWO NOS=',c)\n",
        "ADD(10,20)"
      ],
      "metadata": {
        "colab": {
          "base_uri": "https://localhost:8080/"
        },
        "id": "SZJq8N6e2F8y",
        "outputId": "b7c2c19f-1da0-4831-e9f6-e0e952bb62b1"
      },
      "execution_count": null,
      "outputs": [
        {
          "output_type": "stream",
          "name": "stdout",
          "text": [
            "SUM OF TWO NOS= 30\n"
          ]
        }
      ]
    },
    {
      "cell_type": "code",
      "source": [
        "# Passing parameters in User defined function using KEYBOARD\n",
        "def ADD(a,b):\n",
        "  c=a+b\n",
        "  print('SUM OF TWO NOS=',c)\n",
        "p=int(input(\"Enter 1st no=\"))\n",
        "q=int(input(\"Enter 2nd no=\"))\n",
        "ADD(p,q)"
      ],
      "metadata": {
        "colab": {
          "base_uri": "https://localhost:8080/"
        },
        "id": "iuaFbsAh200l",
        "outputId": "889f7e78-3955-460b-cf02-5254db041144"
      },
      "execution_count": null,
      "outputs": [
        {
          "output_type": "stream",
          "name": "stdout",
          "text": [
            "Enter 1st no=5\n",
            "Enter 2nd no=62\n",
            "SUM OF TWO NOS= 67\n"
          ]
        }
      ]
    },
    {
      "cell_type": "code",
      "source": [
        "# Using return statement in User Defined Function\n",
        "def sumofn(n):\n",
        "  s=0\n",
        "  for i in range(1,n+1):\n",
        "     s=s+i\n",
        "  return(s)\n",
        "m=int(input(\"Enter n value=\"))\n",
        "print('Sum of n=',sumofn(m))\n"
      ],
      "metadata": {
        "colab": {
          "base_uri": "https://localhost:8080/"
        },
        "id": "-EJiDJ7037B5",
        "outputId": "0759a949-ba12-44df-b3d4-ad03d400d913"
      },
      "execution_count": null,
      "outputs": [
        {
          "output_type": "stream",
          "name": "stdout",
          "text": [
            "Enter n value=5\n",
            "Sum of n= 15\n"
          ]
        }
      ]
    },
    {
      "cell_type": "code",
      "source": [
        "p=int(input(\"enter the no of rows\"))\n",
        "num=1\n",
        "for i in range(1,p+1):\n",
        "    row_values=[num*(2**j) for j in range(i)]\n",
        "    print(\" \".join(map(str,row_values)))\n",
        "    num *= i+1\n"
      ],
      "metadata": {
        "colab": {
          "base_uri": "https://localhost:8080/"
        },
        "id": "OiBichsc5ojc",
        "outputId": "cc873adb-79d0-439a-fefd-4d3769f4171d"
      },
      "execution_count": null,
      "outputs": [
        {
          "output_type": "stream",
          "name": "stdout",
          "text": [
            "enter the no of rows5\n",
            "1\n",
            "2 4\n",
            "6 12 24\n",
            "24 48 96 192\n",
            "120 240 480 960 1920\n"
          ]
        }
      ]
    },
    {
      "cell_type": "code",
      "source": [
        "p=int(input(\"enter no of rows\"))\n",
        "c=1\n",
        "for i in range(p+1):\n",
        "  for j in range(1,i+1):\n",
        "    print(c,end=\" \")\n",
        "    c=c+1\n",
        "  print()"
      ],
      "metadata": {
        "colab": {
          "base_uri": "https://localhost:8080/"
        },
        "id": "Jaoqz2oL-PW9",
        "outputId": "24a3edc7-01d5-4853-93f5-cf29ffcab7d6"
      },
      "execution_count": null,
      "outputs": [
        {
          "output_type": "stream",
          "name": "stdout",
          "text": [
            "enter no of rows5\n",
            "\n",
            "1 \n",
            "2 3 \n",
            "4 5 6 \n",
            "7 8 9 10 \n",
            "11 12 13 14 15 \n"
          ]
        }
      ]
    },
    {
      "cell_type": "code",
      "source": [
        "list=['p','y','t','h','o','n']\n",
        "print(list)"
      ],
      "metadata": {
        "colab": {
          "base_uri": "https://localhost:8080/"
        },
        "id": "JACRvlndCjZN",
        "outputId": "ef969238-09af-4528-c4c8-409085066414"
      },
      "execution_count": null,
      "outputs": [
        {
          "output_type": "stream",
          "name": "stdout",
          "text": [
            "['p', 'y', 't', 'h', 'o', 'n']\n"
          ]
        }
      ]
    },
    {
      "cell_type": "code",
      "source": [
        "list=[10,20,30,40,50,60,70,80,90]\n",
        "print(list[2:6])"
      ],
      "metadata": {
        "colab": {
          "base_uri": "https://localhost:8080/"
        },
        "id": "DGdZtYrSDUul",
        "outputId": "37515d49-d4bc-4793-cc57-0cdc0d023a82"
      },
      "execution_count": null,
      "outputs": [
        {
          "output_type": "stream",
          "name": "stdout",
          "text": [
            "[30, 40, 50, 60]\n"
          ]
        }
      ]
    },
    {
      "cell_type": "code",
      "source": [
        "list=[10,20,30,40,50,60,70,80,90]\n",
        "print(list[:4])"
      ],
      "metadata": {
        "colab": {
          "base_uri": "https://localhost:8080/"
        },
        "id": "tDjoKRVhDuFX",
        "outputId": "7b11ee57-2e0e-4427-cd84-fef8179207f9"
      },
      "execution_count": null,
      "outputs": [
        {
          "output_type": "stream",
          "name": "stdout",
          "text": [
            "[10, 20, 30, 40]\n"
          ]
        }
      ]
    },
    {
      "cell_type": "code",
      "source": [
        "list=[10,20,30,40,50,60,70,80,90]\n",
        "print(list[4:])"
      ],
      "metadata": {
        "colab": {
          "base_uri": "https://localhost:8080/"
        },
        "id": "aXTyyE_zEMo9",
        "outputId": "b84cde29-2a7e-44f2-9888-30c628fc71e9"
      },
      "execution_count": null,
      "outputs": [
        {
          "output_type": "stream",
          "name": "stdout",
          "text": [
            "[50, 60, 70, 80, 90]\n"
          ]
        }
      ]
    },
    {
      "cell_type": "code",
      "source": [
        "list=[\"orange\",\"apple\",\"potato\",\"tomato\"]\n",
        "print(list)\n",
        "print(len(list))"
      ],
      "metadata": {
        "colab": {
          "base_uri": "https://localhost:8080/"
        },
        "id": "fsH8ChB4pnML",
        "outputId": "0b7c0cee-e1a7-417f-893a-1431c3ba28af"
      },
      "execution_count": null,
      "outputs": [
        {
          "output_type": "stream",
          "name": "stdout",
          "text": [
            "['orange', 'apple', 'potato', 'tomato']\n",
            "4\n"
          ]
        }
      ]
    },
    {
      "cell_type": "code",
      "source": [
        "list1=[\"orange\",\"apple\",\"potato\"]\n",
        "list2=[10,20,30]\n",
        "list3=[True,False,True]\n",
        "print(list1)\n",
        "print(list2)\n",
        "print(list3)"
      ],
      "metadata": {
        "colab": {
          "base_uri": "https://localhost:8080/"
        },
        "id": "L_w48knnqu1K",
        "outputId": "7fdb5a69-061c-4cce-8417-c70bc63e7f07"
      },
      "execution_count": null,
      "outputs": [
        {
          "output_type": "stream",
          "name": "stdout",
          "text": [
            "['orange', 'apple', 'potato']\n",
            "[10, 20, 30]\n",
            "[True, False, True]\n"
          ]
        }
      ]
    },
    {
      "cell_type": "code",
      "source": [
        "list=['ABHILASH',1,9.0,True]\n",
        "print(list[-1])"
      ],
      "metadata": {
        "colab": {
          "base_uri": "https://localhost:8080/"
        },
        "id": "5E58Pp2VuYmT",
        "outputId": "bfa2c566-c762-4347-8176-5b3ed806b885"
      },
      "execution_count": null,
      "outputs": [
        {
          "output_type": "stream",
          "name": "stdout",
          "text": [
            "True\n"
          ]
        }
      ]
    },
    {
      "cell_type": "code",
      "source": [
        "list=['abhilash','dinasour','monster']\n",
        "if 'dinasour' in list:\n",
        "  print(\"item in the list:\",list[1])"
      ],
      "metadata": {
        "colab": {
          "base_uri": "https://localhost:8080/"
        },
        "id": "29vodT-44mo6",
        "outputId": "5d883794-3f76-4ff9-8820-c643b4b9527c"
      },
      "execution_count": null,
      "outputs": [
        {
          "output_type": "stream",
          "name": "stdout",
          "text": [
            "item in the list: dinasour\n"
          ]
        }
      ]
    },
    {
      "cell_type": "code",
      "source": [
        "list=['abhi','lash','mohanty']\n",
        "list[2]='boss'\n",
        "print(list)"
      ],
      "metadata": {
        "colab": {
          "base_uri": "https://localhost:8080/"
        },
        "id": "MdGoUPfj6nwe",
        "outputId": "a546f6d3-f1ee-42ab-96de-f4aad05e97c9"
      },
      "execution_count": null,
      "outputs": [
        {
          "output_type": "stream",
          "name": "stdout",
          "text": [
            "['abhi', 'lash', 'boss']\n"
          ]
        }
      ]
    },
    {
      "cell_type": "code",
      "source": [
        "list=['abhi','lash','mohanty']\n",
        "list.insert(1,'monster')\n",
        "print(list)"
      ],
      "metadata": {
        "colab": {
          "base_uri": "https://localhost:8080/"
        },
        "id": "ffP0YEAF9LFB",
        "outputId": "0d29c1e0-e3fd-4d60-c369-d0a182e92557"
      },
      "execution_count": null,
      "outputs": [
        {
          "output_type": "stream",
          "name": "stdout",
          "text": [
            "['abhi', 'monster', 'lash', 'mohanty']\n"
          ]
        }
      ]
    },
    {
      "cell_type": "code",
      "source": [
        "list=['abhi','lash','mohanty']\n",
        "list.append('rocky')\n",
        "print(list)"
      ],
      "metadata": {
        "colab": {
          "base_uri": "https://localhost:8080/"
        },
        "id": "G9VLpboJ-Bgh",
        "outputId": "5350ab53-2cb4-478d-efac-d82bf87c9a8a"
      },
      "execution_count": null,
      "outputs": [
        {
          "output_type": "stream",
          "name": "stdout",
          "text": [
            "['abhi', 'lash', 'mohanty', 'rocky']\n"
          ]
        }
      ]
    },
    {
      "cell_type": "code",
      "source": [
        "list1=['abhi','lash','mohanty']\n",
        "list2=['boss','dunki','salaar']\n",
        "list1.extend(list2)\n",
        "print(list1)"
      ],
      "metadata": {
        "colab": {
          "base_uri": "https://localhost:8080/"
        },
        "id": "GQfdZ_36-nam",
        "outputId": "ac55f862-3eb8-4da8-925b-d21694808694"
      },
      "execution_count": null,
      "outputs": [
        {
          "output_type": "stream",
          "name": "stdout",
          "text": [
            "['abhi', 'lash', 'mohanty', 'boss', 'dunki', 'salaar']\n"
          ]
        }
      ]
    },
    {
      "cell_type": "code",
      "source": [
        "list1=['abhi','lash','mohanty']\n",
        "list1.remove('lash')\n",
        "print(list1)"
      ],
      "metadata": {
        "colab": {
          "base_uri": "https://localhost:8080/"
        },
        "id": "uKHtYD-2AYAZ",
        "outputId": "8bc3bbc7-d004-461f-f615-17092a5ded96"
      },
      "execution_count": null,
      "outputs": [
        {
          "output_type": "stream",
          "name": "stdout",
          "text": [
            "['abhi', 'mohanty']\n"
          ]
        }
      ]
    },
    {
      "cell_type": "code",
      "source": [
        "list=[3,5,2,7,6]\n",
        "list.pop(3)\n",
        "print(list)"
      ],
      "metadata": {
        "colab": {
          "base_uri": "https://localhost:8080/"
        },
        "id": "fvdaWWkpA52f",
        "outputId": "25d3e2bf-6eb4-4aa9-c820-c57b12e554a1"
      },
      "execution_count": null,
      "outputs": [
        {
          "output_type": "stream",
          "name": "stdout",
          "text": [
            "[3, 5, 2, 6]\n"
          ]
        }
      ]
    },
    {
      "cell_type": "code",
      "source": [
        "list=[3,5,2,7,6]\n",
        "del list[3]\n",
        "print(list)"
      ],
      "metadata": {
        "colab": {
          "base_uri": "https://localhost:8080/"
        },
        "id": "tm-8SIk7BJDV",
        "outputId": "dd5b8dc5-1ab0-4c70-d23a-f4c464972ac9"
      },
      "execution_count": null,
      "outputs": [
        {
          "output_type": "stream",
          "name": "stdout",
          "text": [
            "[3, 5, 2, 6]\n"
          ]
        }
      ]
    },
    {
      "cell_type": "code",
      "source": [
        "list=[3,5,2,7,6]\n",
        "list.clear()\n",
        "print(list)"
      ],
      "metadata": {
        "colab": {
          "base_uri": "https://localhost:8080/"
        },
        "id": "zg6plKIVBout",
        "outputId": "a315152b-0479-453b-f883-a1fe6d8a3148"
      },
      "execution_count": null,
      "outputs": [
        {
          "output_type": "stream",
          "name": "stdout",
          "text": [
            "[]\n"
          ]
        }
      ]
    },
    {
      "cell_type": "code",
      "source": [
        "list=[3,5,2,7,6]\n",
        "for i in list:\n",
        "     print(i)"
      ],
      "metadata": {
        "colab": {
          "base_uri": "https://localhost:8080/"
        },
        "id": "MNHgwBltCFxi",
        "outputId": "36ac609d-91e9-4fa1-9468-dcb42bfb73cb"
      },
      "execution_count": null,
      "outputs": [
        {
          "output_type": "stream",
          "name": "stdout",
          "text": [
            "3\n",
            "5\n",
            "2\n",
            "7\n",
            "6\n"
          ]
        }
      ]
    },
    {
      "cell_type": "code",
      "source": [
        "list=[3,5,2,7,6]\n",
        "i=0\n",
        "while(i<len(list)):\n",
        "     print(list[i])\n",
        "     i=i+1"
      ],
      "metadata": {
        "colab": {
          "base_uri": "https://localhost:8080/"
        },
        "id": "MjI_SdzNDVBN",
        "outputId": "e691c845-eb9a-43d6-c802-5bc08a08577a"
      },
      "execution_count": null,
      "outputs": [
        {
          "output_type": "stream",
          "name": "stdout",
          "text": [
            "3\n",
            "5\n",
            "2\n",
            "7\n",
            "6\n"
          ]
        }
      ]
    },
    {
      "cell_type": "code",
      "source": [
        "num=int(input('Enter the number:'))\n",
        "def factorial(x):\n",
        "    if x==0:\n",
        "       return 1\n",
        "    else:\n",
        "       return(x*factorial(x-1))\n",
        "factorial(num)\n",
        "print(\"The factorial of\",num,\"is\",factorial(num))\n"
      ],
      "metadata": {
        "colab": {
          "base_uri": "https://localhost:8080/"
        },
        "id": "eb3I9KExylsa",
        "outputId": "0dbfa696-cf80-4641-d71c-0a047857851a"
      },
      "execution_count": null,
      "outputs": [
        {
          "output_type": "stream",
          "name": "stdout",
          "text": [
            "Enter the number:5\n",
            "The factorial of 5 is 120\n"
          ]
        }
      ]
    },
    {
      "cell_type": "code",
      "source": [
        "import math\n",
        "pie=math.pi\n",
        "print(\"The value of pi is:\",pie)"
      ],
      "metadata": {
        "colab": {
          "base_uri": "https://localhost:8080/"
        },
        "id": "CDf1zL9n6Kgq",
        "outputId": "3758b245-797c-4106-b949-38ee947919ff"
      },
      "execution_count": null,
      "outputs": [
        {
          "output_type": "stream",
          "name": "stdout",
          "text": [
            "The value of pi is: 3.141592653589793\n"
          ]
        }
      ]
    },
    {
      "cell_type": "code",
      "source": [
        "import random\n",
        "for i in range(10):\n",
        "  print(random.randint(1,25))"
      ],
      "metadata": {
        "colab": {
          "base_uri": "https://localhost:8080/"
        },
        "id": "zDFm0Lcm6YmO",
        "outputId": "5cb751e9-dc1b-48f3-a9ca-737722a476a0"
      },
      "execution_count": null,
      "outputs": [
        {
          "output_type": "stream",
          "name": "stdout",
          "text": [
            "3\n",
            "17\n",
            "20\n",
            "9\n",
            "4\n",
            "17\n",
            "13\n",
            "23\n",
            "1\n",
            "11\n"
          ]
        }
      ]
    },
    {
      "cell_type": "code",
      "source": [
        "import random\n",
        "import math\n",
        "for i in range(5):\n",
        "  print(random.randint(1,25))\n",
        "print(math.pi)"
      ],
      "metadata": {
        "colab": {
          "base_uri": "https://localhost:8080/"
        },
        "id": "lIhwGvLa7JMl",
        "outputId": "e70471c8-9469-4229-e497-29a08b7f5eb4"
      },
      "execution_count": null,
      "outputs": [
        {
          "output_type": "stream",
          "name": "stdout",
          "text": [
            "13\n",
            "16\n",
            "16\n",
            "14\n",
            "25\n",
            "3.141592653589793\n"
          ]
        }
      ]
    },
    {
      "cell_type": "code",
      "source": [
        "import math as m\n",
        "print(m.pi)\n",
        "print(m.e)"
      ],
      "metadata": {
        "colab": {
          "base_uri": "https://localhost:8080/"
        },
        "id": "zwIs14T67bnD",
        "outputId": "ea2fb19d-f4a3-4563-b775-3a4bd7d3e69a"
      },
      "execution_count": null,
      "outputs": [
        {
          "output_type": "stream",
          "name": "stdout",
          "text": [
            "3.141592653589793\n",
            "2.718281828459045\n"
          ]
        }
      ]
    },
    {
      "cell_type": "code",
      "source": [
        "from math import pow\n",
        "print(pow(2,5))"
      ],
      "metadata": {
        "colab": {
          "base_uri": "https://localhost:8080/"
        },
        "id": "ps5kovAv8DvG",
        "outputId": "cc58b000-63e4-49b3-93d3-9f85950c5835"
      },
      "execution_count": null,
      "outputs": [
        {
          "output_type": "stream",
          "name": "stdout",
          "text": [
            "32.0\n"
          ]
        }
      ]
    },
    {
      "cell_type": "code",
      "source": [
        "list1=['I','LOVE','PYTHON','ABIT']\n",
        "list2=[1,2,3,4,5]\n",
        "list3=['Python',20,54.6,'Rajiv','a','b']\n",
        "list1\n",
        "list2\n",
        "list3"
      ],
      "metadata": {
        "colab": {
          "base_uri": "https://localhost:8080/"
        },
        "id": "RzAwlCFA8YbL",
        "outputId": "e13d9954-06ca-4a53-da2a-a063cc00da0c"
      },
      "execution_count": null,
      "outputs": [
        {
          "output_type": "execute_result",
          "data": {
            "text/plain": [
              "['Python', 20, 54.6, 'Rajiv', 'a', 'b']"
            ]
          },
          "metadata": {},
          "execution_count": 16
        }
      ]
    },
    {
      "cell_type": "code",
      "source": [
        "list=[10,20,30,40,50,60,70,80,90]\n",
        "print(list[::])\n",
        "print(list[::2])\n",
        "print(list[1::3])\n",
        "print(list[2:4:2])"
      ],
      "metadata": {
        "colab": {
          "base_uri": "https://localhost:8080/"
        },
        "id": "Oww9NBh9Axqd",
        "outputId": "98d65640-dbb1-45db-d340-f00311efcccb"
      },
      "execution_count": null,
      "outputs": [
        {
          "output_type": "stream",
          "name": "stdout",
          "text": [
            "[10, 20, 30, 40, 50, 60, 70, 80, 90]\n",
            "[10, 30, 50, 70, 90]\n",
            "[20, 50, 80]\n",
            "[30]\n"
          ]
        }
      ]
    },
    {
      "cell_type": "code",
      "source": [
        "list=[10,20,30,40,50,60,70,80,90]\n",
        "print(list[-3::])\n",
        "print(list[1:-1])\n",
        "print(list[-5:-2])\n",
        "print(list[-3:])\n",
        "print(list[1:-3:2])\n",
        "print(list[:7:-2])\n",
        "print(list[::-1])"
      ],
      "metadata": {
        "colab": {
          "base_uri": "https://localhost:8080/"
        },
        "id": "l9oPGMbRE2NJ",
        "outputId": "7d3347fe-1b6e-42b8-ac06-344dcae2b4be"
      },
      "execution_count": null,
      "outputs": [
        {
          "output_type": "stream",
          "name": "stdout",
          "text": [
            "[70, 80, 90]\n",
            "[20, 30, 40, 50, 60, 70, 80]\n",
            "[50, 60, 70]\n",
            "[70, 80, 90]\n",
            "[20, 40, 60]\n",
            "[90]\n",
            "[90, 80, 70, 60, 50, 40, 30, 20, 10]\n"
          ]
        }
      ]
    },
    {
      "cell_type": "code",
      "source": [
        "list=[10,21,30,45,50,63,78,80,90]\n",
        "list[0]=1\n",
        "print(list)\n",
        "list[1:4]=[2,3,4]\n",
        "print(list)\n",
        "list[2]='Rajiv'\n",
        "print(list)\n",
        "list[3:5]='abc'\n",
        "print(list)"
      ],
      "metadata": {
        "colab": {
          "base_uri": "https://localhost:8080/"
        },
        "id": "1Ho4XFReHQXl",
        "outputId": "b228438a-9493-4d79-e896-a8d07067f1a7"
      },
      "execution_count": null,
      "outputs": [
        {
          "output_type": "stream",
          "name": "stdout",
          "text": [
            "[1, 21, 30, 45, 50, 63, 78, 80, 90]\n",
            "[1, 2, 3, 4, 50, 63, 78, 80, 90]\n",
            "[1, 2, 'Rajiv', 4, 50, 63, 78, 80, 90]\n",
            "[1, 2, 'Rajiv', 'a', 'b', 'c', 63, 78, 80, 90]\n"
          ]
        }
      ]
    },
    {
      "cell_type": "code",
      "source": [
        "list=[10,21,30,45,50,63,78,80,90]\n",
        "del list[0]\n",
        "print(list)\n",
        "del list[1:4]\n",
        "print(list)\n",
        "del list[::3]\n",
        "print(list)"
      ],
      "metadata": {
        "colab": {
          "base_uri": "https://localhost:8080/"
        },
        "id": "HEWhFleBI_Nd",
        "outputId": "4fe60651-7a3a-4cdf-94ed-fb0cb92e61d3"
      },
      "execution_count": null,
      "outputs": [
        {
          "output_type": "stream",
          "name": "stdout",
          "text": [
            "[21, 30, 45, 50, 63, 78, 80, 90]\n",
            "[21, 63, 78, 80, 90]\n",
            "[63, 78, 90]\n"
          ]
        }
      ]
    },
    {
      "cell_type": "code",
      "source": [
        "list1=[1,2,3,4,5]\n",
        "print(list1*3)"
      ],
      "metadata": {
        "colab": {
          "base_uri": "https://localhost:8080/"
        },
        "id": "Zl59pSQtLv9V",
        "outputId": "abb83e8a-3241-4f97-c303-3550cef5c6be"
      },
      "execution_count": null,
      "outputs": [
        {
          "output_type": "stream",
          "name": "stdout",
          "text": [
            "[1, 2, 3, 4, 5, 1, 2, 3, 4, 5, 1, 2, 3, 4, 5]\n"
          ]
        }
      ]
    },
    {
      "cell_type": "code",
      "source": [
        "list1=[1,2,3,4,5]\n",
        "list2=[6,7,8,9,0]\n",
        "print(list1+list2)"
      ],
      "metadata": {
        "colab": {
          "base_uri": "https://localhost:8080/"
        },
        "id": "9QbFmBPRMZjd",
        "outputId": "a2a1e12a-20ab-48ce-9b01-dde57c4ea3ce"
      },
      "execution_count": null,
      "outputs": [
        {
          "output_type": "stream",
          "name": "stdout",
          "text": [
            "[1, 2, 3, 4, 5, 6, 7, 8, 9, 0]\n"
          ]
        }
      ]
    },
    {
      "cell_type": "code",
      "source": [
        "list=[1,2,3,4]\n",
        "for i in list:\n",
        "  print(i)"
      ],
      "metadata": {
        "colab": {
          "base_uri": "https://localhost:8080/"
        },
        "id": "_OPvT4MvMnkV",
        "outputId": "08b98b34-0214-4f67-a1e1-0eea9d75ae63"
      },
      "execution_count": null,
      "outputs": [
        {
          "output_type": "stream",
          "name": "stdout",
          "text": [
            "1\n",
            "2\n",
            "3\n",
            "4\n"
          ]
        }
      ]
    },
    {
      "cell_type": "code",
      "source": [
        "unsorted_list={5,2,3,7,99,33,71,57}\n",
        "sorted_list=sorted(unsorted_list)\n",
        "print(\"sorted_list:\",sorted_list)"
      ],
      "metadata": {
        "id": "m64cZrRjNDoE",
        "colab": {
          "base_uri": "https://localhost:8080/"
        },
        "outputId": "b7135a05-ec16-4c14-f72f-ee4ddf89faf4"
      },
      "execution_count": null,
      "outputs": [
        {
          "output_type": "stream",
          "name": "stdout",
          "text": [
            "sorted_list: [2, 3, 5, 7, 33, 57, 71, 99]\n",
            "sorted_list: [2, 3, 5, 7, 33, 57, 71, 99]\n"
          ]
        }
      ]
    },
    {
      "cell_type": "code",
      "source": [
        "a=[5,3,2,7,99,17,84]\n",
        "for i in range(len(a)):\n",
        "  for j in range(len(a)-1):\n",
        "    if a[j]>a[j+1]:\n",
        "      a[j+1],a[j]=a[j],a[j+1]\n",
        "\n",
        "print(a)"
      ],
      "metadata": {
        "colab": {
          "base_uri": "https://localhost:8080/"
        },
        "id": "i5l3q6Q117iS",
        "outputId": "64e08db6-1203-4003-9629-f6f9b33e10d1"
      },
      "execution_count": null,
      "outputs": [
        {
          "output_type": "stream",
          "name": "stdout",
          "text": [
            "[2, 3, 5, 7, 17, 84, 99]\n"
          ]
        }
      ]
    },
    {
      "cell_type": "code",
      "source": [
        "import numpy as np\n",
        "data2=[[1,2,3,4],[5,6,7,8]]\n",
        "arr2=np.array(data2)\n",
        "print(arr2.ndim)\n",
        "print(arr2.shape)"
      ],
      "metadata": {
        "colab": {
          "base_uri": "https://localhost:8080/"
        },
        "id": "bWcEToFI2tMW",
        "outputId": "b796405d-226c-40fa-e477-2acc15efe36d"
      },
      "execution_count": null,
      "outputs": [
        {
          "output_type": "stream",
          "name": "stdout",
          "text": [
            "2\n",
            "(2, 4)\n"
          ]
        }
      ]
    },
    {
      "cell_type": "code",
      "source": [
        "import numpy as np\n",
        "data2=[[1,2,3,4],[5,6,7,8],[55,66,76,88]]\n",
        "arr2=np.array(data2)\n",
        "print(arr2.ndim)\n",
        "print(arr2.shape)\n",
        "print(arr2)"
      ],
      "metadata": {
        "colab": {
          "base_uri": "https://localhost:8080/"
        },
        "id": "fNXV_OXM7ZzZ",
        "outputId": "f9e2a1ba-7a27-4207-d045-b68e6f5ad530"
      },
      "execution_count": null,
      "outputs": [
        {
          "output_type": "stream",
          "name": "stdout",
          "text": [
            "2\n",
            "(3, 4)\n",
            "[[ 1  2  3  4]\n",
            " [ 5  6  7  8]\n",
            " [55 66 76 88]]\n"
          ]
        }
      ]
    },
    {
      "cell_type": "code",
      "source": [
        "import numpy as np\n",
        "data2=[[1,2,3,4]]\n",
        "arr2=np.array(data2)\n",
        "print(arr2.ndim)\n",
        "print(arr2.shape)\n",
        "print(arr2)"
      ],
      "metadata": {
        "colab": {
          "base_uri": "https://localhost:8080/"
        },
        "id": "Mkkbqccp8zH0",
        "outputId": "d16f3907-2d2a-46c7-d68c-46bc77de1f03"
      },
      "execution_count": null,
      "outputs": [
        {
          "output_type": "stream",
          "name": "stdout",
          "text": [
            "2\n",
            "(1, 4)\n",
            "[[1 2 3 4]]\n"
          ]
        }
      ]
    },
    {
      "cell_type": "code",
      "source": [
        "a=np.array([[0,1,2],[2,3,4]])\n",
        "a"
      ],
      "metadata": {
        "colab": {
          "base_uri": "https://localhost:8080/"
        },
        "id": "9Mm_PDLw9JP8",
        "outputId": "a2e74d4a-adbd-484e-b051-9d8226980ea0"
      },
      "execution_count": null,
      "outputs": [
        {
          "output_type": "execute_result",
          "data": {
            "text/plain": [
              "array([[0, 1, 2],\n",
              "       [2, 3, 4]])"
            ]
          },
          "metadata": {},
          "execution_count": 12
        }
      ]
    },
    {
      "cell_type": "code",
      "source": [
        "ar=np.zeros((4,4))\n",
        "ar"
      ],
      "metadata": {
        "colab": {
          "base_uri": "https://localhost:8080/"
        },
        "id": "n1qDIjxO9jVQ",
        "outputId": "b778d8e5-678d-4320-aacd-554284ebb75e"
      },
      "execution_count": null,
      "outputs": [
        {
          "output_type": "execute_result",
          "data": {
            "text/plain": [
              "array([[0., 0., 0., 0.],\n",
              "       [0., 0., 0., 0.],\n",
              "       [0., 0., 0., 0.],\n",
              "       [0., 0., 0., 0.]])"
            ]
          },
          "metadata": {},
          "execution_count": 14
        }
      ]
    },
    {
      "cell_type": "code",
      "source": [
        "ar=np.ones((3,5))\n",
        "ar"
      ],
      "metadata": {
        "colab": {
          "base_uri": "https://localhost:8080/"
        },
        "id": "yu0rYprL-FUH",
        "outputId": "de5e6855-4aa4-4228-8288-5bfb1ea732bb"
      },
      "execution_count": null,
      "outputs": [
        {
          "output_type": "execute_result",
          "data": {
            "text/plain": [
              "array([[1., 1., 1., 1., 1.],\n",
              "       [1., 1., 1., 1., 1.],\n",
              "       [1., 1., 1., 1., 1.]])"
            ]
          },
          "metadata": {},
          "execution_count": 16
        }
      ]
    },
    {
      "cell_type": "code",
      "source": [
        "arr=np.eye(3)\n",
        "arr"
      ],
      "metadata": {
        "colab": {
          "base_uri": "https://localhost:8080/"
        },
        "id": "T9F1CGJl-jfI",
        "outputId": "46e9dad4-c041-4d40-d26a-8007590c304a"
      },
      "execution_count": null,
      "outputs": [
        {
          "output_type": "execute_result",
          "data": {
            "text/plain": [
              "array([[1., 0., 0.],\n",
              "       [0., 1., 0.],\n",
              "       [0., 0., 1.]])"
            ]
          },
          "metadata": {},
          "execution_count": 18
        }
      ]
    },
    {
      "cell_type": "code",
      "source": [
        "arr=np.arange(0,20,5)\n",
        "arr"
      ],
      "metadata": {
        "colab": {
          "base_uri": "https://localhost:8080/"
        },
        "id": "AbvAhqqp-3Zx",
        "outputId": "14e6a308-3d03-4950-9d2d-6a8b957b67da"
      },
      "execution_count": null,
      "outputs": [
        {
          "output_type": "execute_result",
          "data": {
            "text/plain": [
              "array([ 0,  5, 10, 15])"
            ]
          },
          "metadata": {},
          "execution_count": 25
        }
      ]
    },
    {
      "cell_type": "code",
      "source": [
        "arr=np.random.randint(0,15,(4,4))\n",
        "arr"
      ],
      "metadata": {
        "colab": {
          "base_uri": "https://localhost:8080/"
        },
        "id": "XyLpSJy4_Bsd",
        "outputId": "221bcfc3-4957-4b48-eb23-cbc89a3e8834"
      },
      "execution_count": null,
      "outputs": [
        {
          "output_type": "execute_result",
          "data": {
            "text/plain": [
              "array([[12, 10, 10,  5],\n",
              "       [ 7,  5,  2, 13],\n",
              "       [ 0, 11, 11, 14],\n",
              "       [ 6,  5,  4,  9]])"
            ]
          },
          "metadata": {},
          "execution_count": 28
        }
      ]
    },
    {
      "cell_type": "code",
      "source": [
        "arr=np.array([[1,2,3],[4,5,6]])\n",
        "print(arr)\n",
        "print(arr*arr)\n",
        "print(arr-arr)"
      ],
      "metadata": {
        "colab": {
          "base_uri": "https://localhost:8080/"
        },
        "id": "564DnuxZAsKE",
        "outputId": "ad77e9b5-71e9-4251-f53d-b243708636f8"
      },
      "execution_count": null,
      "outputs": [
        {
          "output_type": "stream",
          "name": "stdout",
          "text": [
            "[[1 2 3]\n",
            " [4 5 6]]\n",
            "[[ 1  4  9]\n",
            " [16 25 36]]\n",
            "[[0 0 0]\n",
            " [0 0 0]]\n"
          ]
        }
      ]
    },
    {
      "cell_type": "code",
      "source": [
        "import numpy as np\n",
        "random_array=np.random.randint(0,10,(4,4))\n",
        "constant_value=5\n",
        "mul_array=random_array * constant_value\n",
        "result_array=mul_array-constant_value\n",
        "print(\"original array:\\n\",random_array)\n",
        "print(\"multiplied array:\\n\",mul_array)\n",
        "print(\"resulted array:\\n\",result_array)"
      ],
      "metadata": {
        "colab": {
          "base_uri": "https://localhost:8080/"
        },
        "id": "cfFjKs8MB6Yf",
        "outputId": "f21548c1-2460-4d10-ed72-fcc3fedd6214"
      },
      "execution_count": null,
      "outputs": [
        {
          "output_type": "stream",
          "name": "stdout",
          "text": [
            "original array:\n",
            " [[1 9 8 8]\n",
            " [6 9 1 1]\n",
            " [1 7 4 8]\n",
            " [2 1 3 4]]\n",
            "multiplied array:\n",
            " [[ 5 45 40 40]\n",
            " [30 45  5  5]\n",
            " [ 5 35 20 40]\n",
            " [10  5 15 20]]\n",
            "resulted array:\n",
            " [[ 0 40 35 35]\n",
            " [25 40  0  0]\n",
            " [ 0 30 15 35]\n",
            " [ 5  0 10 15]]\n"
          ]
        }
      ]
    },
    {
      "cell_type": "code",
      "source": [
        "arr=np.array([[1,2,3],[4,5,6]])\n",
        "arr2=np.array([[1,4,7],[2,5,8]])\n",
        "print(arr)\n",
        "print(arr2)\n",
        "print(arr2>arr)"
      ],
      "metadata": {
        "colab": {
          "base_uri": "https://localhost:8080/"
        },
        "id": "gb2BOwOlFXuh",
        "outputId": "ec5a4ddf-65c1-4d5e-9280-a97644651ad8"
      },
      "execution_count": null,
      "outputs": [
        {
          "output_type": "stream",
          "name": "stdout",
          "text": [
            "[[1 2 3]\n",
            " [4 5 6]]\n",
            "[[1 4 7]\n",
            " [2 5 8]]\n",
            "[[False  True  True]\n",
            " [False False  True]]\n"
          ]
        }
      ]
    },
    {
      "cell_type": "code",
      "source": [
        "import numpy as np\n",
        "print('Enter row size:')\n",
        "r=int(input())\n",
        "print('Enter coloumn size:')\n",
        "c=int(input())\n",
        "arr=np.random.randint(0,50,(r,c))\n",
        "print(arr)\n"
      ],
      "metadata": {
        "colab": {
          "base_uri": "https://localhost:8080/"
        },
        "id": "Rz8cyDeQG9GZ",
        "outputId": "3b49231f-250b-4bef-8381-bd66aedee4d1"
      },
      "execution_count": null,
      "outputs": [
        {
          "output_type": "stream",
          "name": "stdout",
          "text": [
            "Enter row size:\n",
            "3\n",
            "Enter coloumn size:\n",
            "3\n",
            "[[17 34 24]\n",
            " [46 31 33]\n",
            " [15 22 13]]\n"
          ]
        }
      ]
    },
    {
      "cell_type": "code",
      "source": [
        "# write a program to understand the GCD of 2 numbers in python using recurrsion\n",
        "def gcd_fun(x,y):\n",
        "  if (y==0):\n",
        "    return x\n",
        "  else:\n",
        "    return gcd_fun(y,x%y)\n",
        "x=int(input(\"Enter the first number:\"))\n",
        "y=int(input(\"Enter the second number:\"))\n",
        "num=gcd_fun(x,y)\n",
        "print(\"GCD of two numbers is: \",num)"
      ],
      "metadata": {
        "colab": {
          "base_uri": "https://localhost:8080/"
        },
        "id": "NcIlLAPY7Sak",
        "outputId": "d53574dd-5b2e-4e81-95da-bb6b39257661"
      },
      "execution_count": null,
      "outputs": [
        {
          "output_type": "stream",
          "name": "stdout",
          "text": [
            "Enter the first number:8\n",
            "Enter the second number:9\n",
            "GCD of two numbers is:  1\n"
          ]
        }
      ]
    },
    {
      "cell_type": "code",
      "source": [
        "import re\n",
        "arr=[10,20,30,40,50,60,70,80,90]\n",
        "x=int(input(\"Enter a number:\"))\n",
        "arr_str=','.join(str(i) for i in arr)\n",
        "match=re.search(r'\\b{}\\b'.format(x),arr_str)\n",
        "if match:\n",
        "  result=arr_str[:match.start()].count(',')\n",
        "  print(f\"Element {x} is present at index {result}\")\n",
        "else:\n",
        "  print(f\"Element {x} is not present in the array\")\n"
      ],
      "metadata": {
        "colab": {
          "base_uri": "https://localhost:8080/"
        },
        "id": "nj0XYh1EPwRn",
        "outputId": "7a5bd90e-5345-4fc6-84a5-3b6edbadcb17"
      },
      "execution_count": null,
      "outputs": [
        {
          "output_type": "stream",
          "name": "stdout",
          "text": [
            "Enter a number:60\n",
            "Element 60 is present at index 5\n"
          ]
        }
      ]
    },
    {
      "cell_type": "code",
      "source": [
        "def linear_search(list1,n,key):\n",
        "  for i in range(0,n):\n",
        "    if(list[i]==key):\n",
        "      return i\n",
        "  return -1\n",
        "list1=[1,3,5,7,9]\n",
        "key=7\n",
        "n=len(list1)\n",
        "res=linear_search(list1,n,key)\n",
        "if(res==-1):\n",
        "  print(\"Element not found\")\n",
        "else:\n",
        "  print()"
      ],
      "metadata": {
        "id": "5o8fdCyVSGbp"
      },
      "execution_count": null,
      "outputs": []
    }
  ]
}